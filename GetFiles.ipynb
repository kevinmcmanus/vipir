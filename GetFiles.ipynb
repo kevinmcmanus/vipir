{
 "cells": [
  {
   "cell_type": "markdown",
   "metadata": {},
   "source": [
    "# Get NetCDF Files\n",
    "This notebook will retrieve random vipir data from ftp site: 'ftp.ngdc.noaa.gov/ionosonde/mids11'"
   ]
  },
  {
   "cell_type": "code",
   "execution_count": 1,
   "metadata": {},
   "outputs": [],
   "source": [
    "import numpy as np\n",
    "import pandas as pd\n",
    "import matplotlib.pyplot as plt\n",
    "from ftplib import FTP\n",
    "import re\n",
    "\n",
    "from netCDF4 import Dataset"
   ]
  },
  {
   "cell_type": "code",
   "execution_count": 2,
   "metadata": {},
   "outputs": [],
   "source": [
    "%matplotlib inline\n"
   ]
  },
  {
   "cell_type": "markdown",
   "metadata": {},
   "source": [
    "## FTP site params"
   ]
  },
  {
   "cell_type": "code",
   "execution_count": 3,
   "metadata": {},
   "outputs": [],
   "source": [
    "ftpsite ='ftp.ngdc.noaa.gov'\n",
    "ftpdir = '/ionosonde/mids11/WI937/individual/2019/306/image'\n",
    "ftpstndir = '/ionosonde/mids11'"
   ]
  },
  {
   "cell_type": "markdown",
   "metadata": {},
   "source": [
    "## Station List"
   ]
  },
  {
   "cell_type": "code",
   "execution_count": 4,
   "metadata": {},
   "outputs": [],
   "source": [
    "#ftp://ftp.ngdc.noaa.gov//ionosonde/mids11/SAA0K/individual/2019/252/image\n",
    "#ftp://ftp.ngdc.noaa.gov/ionosonde/mids11/SAA0K/individual/2019/252/ionogram/\n",
    "\n",
    "def get_station_list(ftpserver = 'ftp.ngdc.noaa.gov',rootdir = '/ionosonde/mids11'):\n",
    "    \n",
    "    with FTP(ftpserver) as ftp:\n",
    "        ftp.login()\n",
    "        ftp.cwd(rootdir)\n",
    "        stn_list = [f for f in ftp.nlst() if re.search('[0-9A-Z]{5}',f)]        \n",
    "    \n",
    "    return stn_list"
   ]
  },
  {
   "cell_type": "code",
   "execution_count": 5,
   "metadata": {},
   "outputs": [],
   "source": [
    "stations = get_station_list()"
   ]
  },
  {
   "cell_type": "code",
   "execution_count": 6,
   "metadata": {},
   "outputs": [
    {
     "data": {
      "text/plain": [
       "98"
      ]
     },
     "execution_count": 6,
     "metadata": {},
     "output_type": "execute_result"
    }
   ],
   "source": [
    "len(stations)"
   ]
  },
  {
   "cell_type": "markdown",
   "metadata": {},
   "source": [
    "## Get the last ionograms from each station"
   ]
  },
  {
   "cell_type": "code",
   "execution_count": 7,
   "metadata": {},
   "outputs": [],
   "source": [
    "# TODO: make sure the directory lists are sorted in order to take the most recent entry\n",
    "def get_ionogram_ngi(ftp, stn, rootdir = '/ionosonde/mids11', datadir='individual'):\n",
    "    \n",
    "    ftp.cwd(f'{rootdir}/{stn}/{datadir}')\n",
    "    yrs = ftp.nlst()\n",
    "    file_list={}\n",
    "    year = yrs[-1] # year of most recent data\n",
    "   \n",
    "    daysdir = f'{rootdir}/{stn}/{datadir}/{year}'\n",
    "    ftp.cwd(daysdir)\n",
    "    days = [d for d in ftp.nlst() if re.search('[0-9]{3}',d)]\n",
    "    if len(days) == 0: #no observation days\n",
    "        day = '999' #invalid day\n",
    "    else:\n",
    "        day = days[-1] # most recent days' data (assume nlst returns them that way)\n",
    "\n",
    "    daydir = f'{daysdir}/{day}/ionogram'\n",
    "    #print(f'daydir: {daydir}')\n",
    "    \n",
    "    try:\n",
    "        ftp.cwd(daydir)\n",
    "        file_list[f'{year}-{day}'] = ftp.nlst()\n",
    "    except:\n",
    "        file_list[f'{year}-{day}'] = []\n",
    "    \n",
    "    return file_list"
   ]
  },
  {
   "cell_type": "code",
   "execution_count": 8,
   "metadata": {},
   "outputs": [],
   "source": [
    "with FTP(ftpsite) as ftp:\n",
    "    ftp.login()\n",
    "    vipir_list = {}\n",
    "    for stn in stations:\n",
    "        vipir_list[stn] = get_ionogram_ngi(ftp, stn)"
   ]
  },
  {
   "cell_type": "markdown",
   "metadata": {},
   "source": [
    "## Summarize the Station Info"
   ]
  },
  {
   "cell_type": "code",
   "execution_count": 9,
   "metadata": {},
   "outputs": [],
   "source": [
    "def get_obs_type(fname):\n",
    "    \"\"\"\n",
    "    returns the extension from the file name supplied\n",
    "    \"\"\"\n",
    "    comps = fname.split('.')\n",
    "\n",
    "    ftype = 'Unknown' if len(comps)==1 or comps[1] == '' else comps[1]\n",
    "        \n",
    "    return ftype"
   ]
  },
  {
   "cell_type": "code",
   "execution_count": 10,
   "metadata": {},
   "outputs": [],
   "source": [
    "def get_summary(vipir, stn):\n",
    "    last_obs_date = list(vipir[stn].keys())[-1]\n",
    "    n_data_files =  len(vipir[stn][last_obs_date])\n",
    "    f_types = ','.join(set([get_obs_type(fn) for fn in vipir[stn][last_obs_date]]))\n",
    "    \n",
    "    return stn, last_obs_date, n_data_files, f_types\n",
    "    "
   ]
  },
  {
   "cell_type": "code",
   "execution_count": 11,
   "metadata": {},
   "outputs": [],
   "source": [
    "station_summary = pd.DataFrame([get_summary(vipir_list,stn) for stn in stations],\n",
    "                               columns=['StationName','LastObsDate','NObservations','ObsTypes'])"
   ]
  },
  {
   "cell_type": "code",
   "execution_count": 12,
   "metadata": {},
   "outputs": [
    {
     "data": {
      "text/html": [
       "<div>\n",
       "<style scoped>\n",
       "    .dataframe tbody tr th:only-of-type {\n",
       "        vertical-align: middle;\n",
       "    }\n",
       "\n",
       "    .dataframe tbody tr th {\n",
       "        vertical-align: top;\n",
       "    }\n",
       "\n",
       "    .dataframe thead th {\n",
       "        text-align: right;\n",
       "    }\n",
       "</style>\n",
       "<table border=\"1\" class=\"dataframe\">\n",
       "  <thead>\n",
       "    <tr style=\"text-align: right;\">\n",
       "      <th></th>\n",
       "      <th>StationName</th>\n",
       "      <th>LastObsDate</th>\n",
       "      <th>NObservations</th>\n",
       "      <th>ObsTypes</th>\n",
       "    </tr>\n",
       "  </thead>\n",
       "  <tbody>\n",
       "    <tr>\n",
       "      <th>0</th>\n",
       "      <td>09429</td>\n",
       "      <td>2019-365</td>\n",
       "      <td>0</td>\n",
       "      <td></td>\n",
       "    </tr>\n",
       "    <tr>\n",
       "      <th>1</th>\n",
       "      <td>AD930</td>\n",
       "      <td>2019-999</td>\n",
       "      <td>0</td>\n",
       "      <td></td>\n",
       "    </tr>\n",
       "    <tr>\n",
       "      <th>2</th>\n",
       "      <td>AL945</td>\n",
       "      <td>2019-365</td>\n",
       "      <td>0</td>\n",
       "      <td></td>\n",
       "    </tr>\n",
       "    <tr>\n",
       "      <th>3</th>\n",
       "      <td>AS00Q</td>\n",
       "      <td>2019-365</td>\n",
       "      <td>96</td>\n",
       "      <td>RSF</td>\n",
       "    </tr>\n",
       "    <tr>\n",
       "      <th>4</th>\n",
       "      <td>AS237</td>\n",
       "      <td>2019-264</td>\n",
       "      <td>0</td>\n",
       "      <td></td>\n",
       "    </tr>\n",
       "    <tr>\n",
       "      <th>...</th>\n",
       "      <td>...</td>\n",
       "      <td>...</td>\n",
       "      <td>...</td>\n",
       "      <td>...</td>\n",
       "    </tr>\n",
       "    <tr>\n",
       "      <th>93</th>\n",
       "      <td>VT139</td>\n",
       "      <td>2019-365</td>\n",
       "      <td>96</td>\n",
       "      <td>RSF</td>\n",
       "    </tr>\n",
       "    <tr>\n",
       "      <th>94</th>\n",
       "      <td>WI937</td>\n",
       "      <td>2019-365</td>\n",
       "      <td>720</td>\n",
       "      <td>NGI</td>\n",
       "    </tr>\n",
       "    <tr>\n",
       "      <th>95</th>\n",
       "      <td>WK546</td>\n",
       "      <td>2019-365</td>\n",
       "      <td>0</td>\n",
       "      <td></td>\n",
       "    </tr>\n",
       "    <tr>\n",
       "      <th>96</th>\n",
       "      <td>WP937</td>\n",
       "      <td>2019-365</td>\n",
       "      <td>288</td>\n",
       "      <td>MMM</td>\n",
       "    </tr>\n",
       "    <tr>\n",
       "      <th>97</th>\n",
       "      <td>YG431</td>\n",
       "      <td>2019-365</td>\n",
       "      <td>0</td>\n",
       "      <td></td>\n",
       "    </tr>\n",
       "  </tbody>\n",
       "</table>\n",
       "<p>98 rows × 4 columns</p>\n",
       "</div>"
      ],
      "text/plain": [
       "   StationName LastObsDate  NObservations ObsTypes\n",
       "0        09429    2019-365              0         \n",
       "1        AD930    2019-999              0         \n",
       "2        AL945    2019-365              0         \n",
       "3        AS00Q    2019-365             96      RSF\n",
       "4        AS237    2019-264              0         \n",
       "..         ...         ...            ...      ...\n",
       "93       VT139    2019-365             96      RSF\n",
       "94       WI937    2019-365            720      NGI\n",
       "95       WK546    2019-365              0         \n",
       "96       WP937    2019-365            288      MMM\n",
       "97       YG431    2019-365              0         \n",
       "\n",
       "[98 rows x 4 columns]"
      ]
     },
     "execution_count": 12,
     "metadata": {},
     "output_type": "execute_result"
    }
   ],
   "source": [
    "station_summary"
   ]
  },
  {
   "cell_type": "markdown",
   "metadata": {},
   "source": [
    "## Stations with NGI files"
   ]
  },
  {
   "cell_type": "code",
   "execution_count": 13,
   "metadata": {},
   "outputs": [
    {
     "data": {
      "text/html": [
       "<div>\n",
       "<style scoped>\n",
       "    .dataframe tbody tr th:only-of-type {\n",
       "        vertical-align: middle;\n",
       "    }\n",
       "\n",
       "    .dataframe tbody tr th {\n",
       "        vertical-align: top;\n",
       "    }\n",
       "\n",
       "    .dataframe thead th {\n",
       "        text-align: right;\n",
       "    }\n",
       "</style>\n",
       "<table border=\"1\" class=\"dataframe\">\n",
       "  <thead>\n",
       "    <tr style=\"text-align: right;\">\n",
       "      <th></th>\n",
       "      <th>StationName</th>\n",
       "      <th>LastObsDate</th>\n",
       "      <th>NObservations</th>\n",
       "      <th>ObsTypes</th>\n",
       "    </tr>\n",
       "  </thead>\n",
       "  <tbody>\n",
       "    <tr>\n",
       "      <th>43</th>\n",
       "      <td>IV437</td>\n",
       "      <td>2019-365</td>\n",
       "      <td>960</td>\n",
       "      <td>NGI</td>\n",
       "    </tr>\n",
       "    <tr>\n",
       "      <th>48</th>\n",
       "      <td>JV433</td>\n",
       "      <td>2019-365</td>\n",
       "      <td>576</td>\n",
       "      <td>NGI</td>\n",
       "    </tr>\n",
       "    <tr>\n",
       "      <th>82</th>\n",
       "      <td>SJJ18</td>\n",
       "      <td>2019-365</td>\n",
       "      <td>482</td>\n",
       "      <td>NGI</td>\n",
       "    </tr>\n",
       "    <tr>\n",
       "      <th>94</th>\n",
       "      <td>WI937</td>\n",
       "      <td>2019-365</td>\n",
       "      <td>720</td>\n",
       "      <td>NGI</td>\n",
       "    </tr>\n",
       "  </tbody>\n",
       "</table>\n",
       "</div>"
      ],
      "text/plain": [
       "   StationName LastObsDate  NObservations ObsTypes\n",
       "43       IV437    2019-365            960      NGI\n",
       "48       JV433    2019-365            576      NGI\n",
       "82       SJJ18    2019-365            482      NGI\n",
       "94       WI937    2019-365            720      NGI"
      ]
     },
     "execution_count": 13,
     "metadata": {},
     "output_type": "execute_result"
    }
   ],
   "source": [
    "station_summary.query('ObsTypes == \\'NGI\\'')"
   ]
  },
  {
   "cell_type": "markdown",
   "metadata": {},
   "source": [
    "## Other available File Types"
   ]
  },
  {
   "cell_type": "code",
   "execution_count": 14,
   "metadata": {},
   "outputs": [
    {
     "data": {
      "text/plain": [
       "       69\n",
       "RSF    18\n",
       "MMM     6\n",
       "NGI     4\n",
       "SBF     1\n",
       "Name: ObsTypes, dtype: int64"
      ]
     },
     "execution_count": 14,
     "metadata": {},
     "output_type": "execute_result"
    }
   ],
   "source": [
    "station_summary.ObsTypes.value_counts()"
   ]
  },
  {
   "cell_type": "code",
   "execution_count": null,
   "metadata": {},
   "outputs": [],
   "source": []
  }
 ],
 "metadata": {
  "kernelspec": {
   "display_name": "Python 3",
   "language": "python",
   "name": "python3"
  },
  "language_info": {
   "codemirror_mode": {
    "name": "ipython",
    "version": 3
   },
   "file_extension": ".py",
   "mimetype": "text/x-python",
   "name": "python",
   "nbconvert_exporter": "python",
   "pygments_lexer": "ipython3",
   "version": "3.7.6"
  }
 },
 "nbformat": 4,
 "nbformat_minor": 4
}
