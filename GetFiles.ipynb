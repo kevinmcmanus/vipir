{
 "cells": [
  {
   "cell_type": "markdown",
   "metadata": {},
   "source": [
    "# Get NetCDF Files\n",
    "This notebook will retrieve random vipir data from ftp site: 'ftp.ngdc.noaa.gov/ionosonde/mids11'"
   ]
  },
  {
   "cell_type": "code",
   "execution_count": 1,
   "metadata": {},
   "outputs": [],
   "source": [
    "import numpy as np\n",
    "import pandas as pd\n",
    "import matplotlib.pyplot as plt\n",
    "from ftplib import FTP\n",
    "import re\n",
    "\n",
    "from netCDF4 import Dataset"
   ]
  },
  {
   "cell_type": "code",
   "execution_count": 2,
   "metadata": {},
   "outputs": [],
   "source": [
    "%matplotlib inline\n"
   ]
  },
  {
   "cell_type": "markdown",
   "metadata": {},
   "source": [
    "## FTP site params"
   ]
  },
  {
   "cell_type": "code",
   "execution_count": 3,
   "metadata": {},
   "outputs": [],
   "source": [
    "ftpsite ='ftp.ngdc.noaa.gov'\n",
    "ftpdir = '/ionosonde/mids11/WI937/individual/2019/306/image'\n",
    "ftpstndir = '/ionosonde/mids11'"
   ]
  },
  {
   "cell_type": "markdown",
   "metadata": {},
   "source": [
    "## Station List"
   ]
  },
  {
   "cell_type": "code",
   "execution_count": 7,
   "metadata": {},
   "outputs": [],
   "source": [
    "#ftp://ftp.ngdc.noaa.gov//ionosonde/mids11/SAA0K/individual/2019/252/image\n",
    "#ftp://ftp.ngdc.noaa.gov/ionosonde/mids11/SAA0K/individual/2019/252/ionogram/\n",
    "\n",
    "def get_station_list(ftpserver = 'ftp.ngdc.noaa.gov',rootdir = '/ionosonde/data'):\n",
    "    \n",
    "    with FTP(ftpserver) as ftp:\n",
    "        ftp.login()\n",
    "        ftp.cwd(rootdir)\n",
    "        stn_list = [f for f in ftp.nlst() if re.search('[0-9A-Z]{5}',f)]        \n",
    "    \n",
    "    return stn_list"
   ]
  },
  {
   "cell_type": "code",
   "execution_count": 8,
   "metadata": {},
   "outputs": [],
   "source": [
    "stations = get_station_list()"
   ]
  },
  {
   "cell_type": "code",
   "execution_count": 9,
   "metadata": {},
   "outputs": [
    {
     "data": {
      "text/plain": "156"
     },
     "execution_count": 9,
     "metadata": {},
     "output_type": "execute_result"
    }
   ],
   "source": [
    "len(stations)"
   ]
  },
  {
   "cell_type": "markdown",
   "metadata": {},
   "source": [
    "## Get the last ionograms from each station"
   ]
  },
  {
   "cell_type": "code",
   "execution_count": 19,
   "metadata": {},
   "outputs": [],
   "source": [
    "# TODO: make sure the directory lists are sorted in order to take the most recent entry\n",
    "def get_ionogram_ngi(ftp, stn, rootdir = '/ionosonde/data', datadir='individual'):\n",
    "    \n",
    "    try:\n",
    "        file_list={}\n",
    "        ftp.cwd(f'{rootdir}/{stn}/{datadir}')\n",
    "        yrs = ftp.nlst()\n",
    "        \n",
    "        year = yrs[-1] # year of most recent data\n",
    "    \n",
    "        daysdir = f'{rootdir}/{stn}/{datadir}/{year}'\n",
    "        ftp.cwd(daysdir)\n",
    "        days = [d for d in ftp.nlst() if re.search('[0-9]{3}',d)]\n",
    "        if len(days) == 0: #no observation days\n",
    "            day = '999' #invalid day\n",
    "        else:\n",
    "            day = days[-1] # most recent days' data (assume nlst returns them that way)\n",
    "\n",
    "        daydir = f'{daysdir}/{day}/ionogram'\n",
    "        print(f'daydir: {daydir}')\n",
    "        \n",
    " \n",
    "        ftp.cwd(daydir)\n",
    "        file_list[f'{year}-{day}'] = ftp.nlst()\n",
    "    except:\n",
    "        file_list[f'9999-999'] = []\n",
    "    \n",
    "    return file_list"
   ]
  },
  {
   "cell_type": "code",
   "execution_count": 20,
   "metadata": {},
   "outputs": [
    {
     "name": "stdout",
     "output_type": "stream",
     "text": "daydir: /ionosonde/data/09429/individual/2020/999/ionogram\ndaydir: /ionosonde/data/AA109/individual/2014/210/ionogram\ndaydir: /ionosonde/data/AC843/individual/2013/999/ionogram\ndaydir: /ionosonde/data/AD930/individual/2020/999/ionogram\ndaydir: /ionosonde/data/AFJ49/individual/2012/999/ionogram\ndaydir: /ionosonde/data/AH223/individual/2018/999/ionogram\ndaydir: /ionosonde/data/AL945/individual/2020/019/ionogram\ndaydir: /ionosonde/data/AM269/individual/2018/999/ionogram\ndaydir: /ionosonde/data/AN438/individual/2012/999/ionogram\ndaydir: /ionosonde/data/AS00Q/individual/2020/018/ionogram\ndaydir: /ionosonde/data/AS237/individual/2020/999/ionogram\ndaydir: /ionosonde/data/AT138/individual/2020/019/ionogram\ndaydir: /ionosonde/data/AU930/individual/2020/019/ionogram\ndaydir: /ionosonde/data/BBJ3R/individual/2020/019/ionogram\ndaydir: /ionosonde/data/BC840/individual/2020/019/ionogram\ndaydir: /ionosonde/data/BD840/individual/2018/999/ionogram\ndaydir: /ionosonde/data/BJJ32/individual/2012/999/ionogram\ndaydir: /ionosonde/data/BL841/individual/2012/999/ionogram\ndaydir: /ionosonde/data/BLJ03/individual/2020/999/ionogram\ndaydir: /ionosonde/data/BP440/individual/2020/999/ionogram\ndaydir: /ionosonde/data/BR52P/individual/2020/019/ionogram\ndaydir: /ionosonde/data/BV53Q/individual/2012/999/ionogram\ndaydir: /ionosonde/data/BVJ03/individual/2020/999/ionogram\ndaydir: /ionosonde/data/CAJ2M/individual/2020/018/ionogram\ndaydir: /ionosonde/data/CB53N/individual/2020/019/ionogram\ndaydir: /ionosonde/data/CD923/individual/2012/999/ionogram\ndaydir: /ionosonde/data/CGK21/individual/2020/999/ionogram\ndaydir: /ionosonde/data/CL424/individual/2016/999/ionogram\ndaydir: /ionosonde/data/CN53L/individual/2020/019/ionogram\ndaydir: /ionosonde/data/CO764/individual/2012/999/ionogram\ndaydir: /ionosonde/data/CS31K/individual/2020/019/ionogram\ndaydir: /ionosonde/data/CW460/individual/2020/999/ionogram\ndaydir: /ionosonde/data/CW46O/individual/2018/358/ionogram\ndaydir: /ionosonde/data/DB049/individual/2020/019/ionogram\ndaydir: /ionosonde/data/DI373/individual/2020/999/ionogram\ndaydir: /ionosonde/data/DS932/individual/2012/999/ionogram\ndaydir: /ionosonde/data/DV36Q/individual/2012/999/ionogram\ndaydir: /ionosonde/data/DW41K/individual/2020/019/ionogram\ndaydir: /ionosonde/data/EA036/individual/2020/018/ionogram\ndaydir: /ionosonde/data/EA653/individual/2020/019/ionogram\ndaydir: /ionosonde/data/EB040/individual/2020/018/ionogram\ndaydir: /ionosonde/data/EG931/individual/2020/019/ionogram\ndaydir: /ionosonde/data/EI764/individual/2020/019/ionogram\ndaydir: /ionosonde/data/FF051/individual/2020/999/ionogram\ndaydir: /ionosonde/data/FZA0M/individual/2020/018/ionogram\ndaydir: /ionosonde/data/GA762/individual/2020/018/ionogram\ndaydir: /ionosonde/data/GH64L/individual/2018/999/ionogram\ndaydir: /ionosonde/data/GM037/individual/2020/016/ionogram\ndaydir: /ionosonde/data/GR13L/individual/2020/002/ionogram\ndaydir: /ionosonde/data/GR160/individual/2020/999/ionogram\ndaydir: /ionosonde/data/GSJ53/individual/2016/999/ionogram\ndaydir: /ionosonde/data/GU421/individual/2020/999/ionogram\ndaydir: /ionosonde/data/GU513/individual/2020/019/ionogram\ndaydir: /ionosonde/data/HA419/individual/2020/999/ionogram\ndaydir: /ionosonde/data/HAJ43/individual/2012/999/ionogram\ndaydir: /ionosonde/data/HAJ45/individual/2012/999/ionogram\ndaydir: /ionosonde/data/HE13N/individual/2020/013/ionogram\ndaydir: /ionosonde/data/HL424/individual/2019/999/ionogram\ndaydir: /ionosonde/data/HO53K/individual/2012/999/ionogram\ndaydir: /ionosonde/data/HO54K/individual/2020/019/ionogram\ndaydir: /ionosonde/data/IC437/individual/2020/019/ionogram\ndaydir: /ionosonde/data/IF843/individual/2020/018/ionogram\ndaydir: /ionosonde/data/IL008/individual/2020/999/ionogram\ndaydir: /ionosonde/data/IR352/individual/2018/999/ionogram\ndaydir: /ionosonde/data/IS141/individual/2020/999/ionogram\ndaydir: /ionosonde/data/IV437/individual/2020/019/ionogram\ndaydir: /ionosonde/data/JB57N/individual/2020/018/ionogram\ndaydir: /ionosonde/data/JI91J/individual/2020/019/ionogram\ndaydir: /ionosonde/data/JJ433/individual/2020/019/ionogram\ndaydir: /ionosonde/data/JM91J/individual/2012/999/ionogram\ndaydir: /ionosonde/data/JR055/individual/2020/019/ionogram\ndaydir: /ionosonde/data/JV433/individual/2020/019/ionogram\ndaydir: /ionosonde/data/KB548/individual/2020/001/ionogram\ndaydir: /ionosonde/data/KI167/individual/2020/999/ionogram\ndaydir: /ionosonde/data/KJ609/individual/2018/999/ionogram\ndaydir: /ionosonde/data/KS759/individual/2020/999/ionogram\ndaydir: /ionosonde/data/LG178/individual/2018/999/ionogram\ndaydir: /ionosonde/data/LL721/individual/2020/019/ionogram\ndaydir: /ionosonde/data/LM42B/individual/2020/019/ionogram\ndaydir: /ionosonde/data/LM42J/individual/2020/999/ionogram\ndaydir: /ionosonde/data/LO168/individual/2019/999/ionogram\ndaydir: /ionosonde/data/LV12P/individual/2020/999/ionogram\ndaydir: /ionosonde/data/LY164/individual/2012/999/ionogram\ndaydir: /ionosonde/data/MA155/individual/2020/019/ionogram\ndaydir: /ionosonde/data/MG560/individual/2020/001/ionogram\ndaydir: /ionosonde/data/MHJ45/individual/2016/999/ionogram\ndaydir: /ionosonde/data/ML449/individual/2020/999/ionogram\ndaydir: /ionosonde/data/MM168/individual/2020/001/ionogram\ndaydir: /ionosonde/data/MO155/individual/2020/018/ionogram\ndaydir: /ionosonde/data/MO414/individual/2020/019/ionogram\ndaydir: /ionosonde/data/MQ55M/individual/2018/999/ionogram\ndaydir: /ionosonde/data/MU12K/individual/2020/999/ionogram\ndaydir: /ionosonde/data/MU43K/individual/2012/999/ionogram\ndaydir: /ionosonde/data/MW26P/individual/2020/019/ionogram\ndaydir: /ionosonde/data/MZ152/individual/2020/999/ionogram\ndaydir: /ionosonde/data/ND61R/individual/2020/019/ionogram\ndaydir: /ionosonde/data/NI135/individual/2020/999/ionogram\ndaydir: /ionosonde/data/NO369/individual/2018/999/ionogram\ndaydir: /ionosonde/data/NQJ61/individual/2012/999/ionogram\ndaydir: /ionosonde/data/OK426/individual/2020/019/ionogram\ndaydir: /ionosonde/data/OS768/individual/2012/999/ionogram\ndaydir: /ionosonde/data/PA836/individual/2020/019/ionogram\ndaydir: /ionosonde/data/PB671/individual/2020/999/ionogram\ndaydir: /ionosonde/data/PDJ5J/individual/2020/999/ionogram\ndaydir: /ionosonde/data/PE43K/individual/2020/019/ionogram\ndaydir: /ionosonde/data/PK553/individual/2019/999/ionogram\ndaydir: /ionosonde/data/PQ052/individual/2020/019/ionogram\ndaydir: /ionosonde/data/PRJ18/individual/2020/019/ionogram\ndaydir: /ionosonde/data/PSJ5J/individual/2020/999/ionogram\ndaydir: /ionosonde/data/PY52R/individual/2012/999/ionogram\ndaydir: /ionosonde/data/RA041/individual/2020/019/ionogram\ndaydir: /ionosonde/data/RL052/individual/2020/018/ionogram\ndaydir: /ionosonde/data/RO041/individual/2020/019/ionogram\ndaydir: /ionosonde/data/SAA0K/individual/2020/018/ionogram\ndaydir: /ionosonde/data/SB079/individual/2012/999/ionogram\ndaydir: /ionosonde/data/SD266/individual/2020/001/ionogram\ndaydir: /ionosonde/data/SJJ18/individual/2020/019/ionogram\ndaydir: /ionosonde/data/SL051/individual/2012/999/ionogram\ndaydir: /ionosonde/data/SMJ67/individual/2016/999/ionogram\ndaydir: /ionosonde/data/SN437/individual/2012/999/ionogram\ndaydir: /ionosonde/data/SO147/individual/2020/999/ionogram\ndaydir: /ionosonde/data/SO148/individual/2020/016/ionogram\ndaydir: /ionosonde/data/SO166/individual/2020/001/ionogram\ndaydir: /ionosonde/data/SQ67Q/individual/2020/018/ionogram\ndaydir: /ionosonde/data/TAJ20/individual/2018/999/ionogram\ndaydir: /ionosonde/data/THJ77/individual/2020/999/ionogram\ndaydir: /ionosonde/data/TK356/individual/2020/001/ionogram\ndaydir: /ionosonde/data/TM308/individual/2018/999/ionogram\ndaydir: /ionosonde/data/TO535/individual/2012/999/ionogram\ndaydir: /ionosonde/data/TO536/individual/2020/019/ionogram\ndaydir: /ionosonde/data/TR169/individual/2018/999/ionogram\ndaydir: /ionosonde/data/TR170/individual/2018/365/ionogram\ndaydir: /ionosonde/data/TUJ2O/individual/2020/018/ionogram\ndaydir: /ionosonde/data/TV51R/individual/2020/999/ionogram\ndaydir: /ionosonde/data/TZJ2J/individual/2020/999/ionogram\ndaydir: /ionosonde/data/VA50L/individual/2012/999/ionogram\ndaydir: /ionosonde/data/VT139/individual/2020/019/ionogram\ndaydir: /ionosonde/data/WI937/individual/2020/019/ionogram\ndaydir: /ionosonde/data/WK546/individual/2020/019/ionogram\ndaydir: /ionosonde/data/WP937/individual/2020/103/ionogram\ndaydir: /ionosonde/data/YA462/individual/2018/999/ionogram\ndaydir: /ionosonde/data/YG431/individual/2020/019/ionogram\n"
    }
   ],
   "source": [
    "with FTP(ftpsite) as ftp:\n",
    "    ftp.login()\n",
    "    vipir_list = {}\n",
    "    for stn in stations:\n",
    "        vipir_list[stn] = get_ionogram_ngi(ftp, stn)"
   ]
  },
  {
   "cell_type": "markdown",
   "metadata": {},
   "source": [
    "## Summarize the Station Info"
   ]
  },
  {
   "cell_type": "code",
   "execution_count": 21,
   "metadata": {},
   "outputs": [],
   "source": [
    "def get_obs_type(fname):\n",
    "    \"\"\"\n",
    "    returns the extension from the file name supplied\n",
    "    \"\"\"\n",
    "    comps = fname.split('.')\n",
    "\n",
    "    ftype = 'Unknown' if len(comps)==1 or comps[1] == '' else comps[1]\n",
    "        \n",
    "    return ftype"
   ]
  },
  {
   "cell_type": "code",
   "execution_count": 22,
   "metadata": {},
   "outputs": [],
   "source": [
    "def get_summary(vipir, stn):\n",
    "    last_obs_date = list(vipir[stn].keys())[-1]\n",
    "    n_data_files =  len(vipir[stn][last_obs_date])\n",
    "    f_types = ','.join(set([get_obs_type(fn) for fn in vipir[stn][last_obs_date]]))\n",
    "    \n",
    "    return stn, last_obs_date, n_data_files, f_types\n",
    "    "
   ]
  },
  {
   "cell_type": "code",
   "execution_count": 23,
   "metadata": {},
   "outputs": [],
   "source": [
    "station_summary = pd.DataFrame([get_summary(vipir_list,stn) for stn in stations],\n",
    "                               columns=['StationName','LastObsDate','NObservations','ObsTypes'])"
   ]
  },
  {
   "cell_type": "code",
   "execution_count": 24,
   "metadata": {},
   "outputs": [
    {
     "data": {
      "text/html": "<div>\n<style scoped>\n    .dataframe tbody tr th:only-of-type {\n        vertical-align: middle;\n    }\n\n    .dataframe tbody tr th {\n        vertical-align: top;\n    }\n\n    .dataframe thead th {\n        text-align: right;\n    }\n</style>\n<table border=\"1\" class=\"dataframe\">\n  <thead>\n    <tr style=\"text-align: right;\">\n      <th></th>\n      <th>StationName</th>\n      <th>LastObsDate</th>\n      <th>NObservations</th>\n      <th>ObsTypes</th>\n    </tr>\n  </thead>\n  <tbody>\n    <tr>\n      <th>0</th>\n      <td>09429</td>\n      <td>9999-999</td>\n      <td>0</td>\n      <td></td>\n    </tr>\n    <tr>\n      <th>1</th>\n      <td>AA109</td>\n      <td>9999-999</td>\n      <td>0</td>\n      <td></td>\n    </tr>\n    <tr>\n      <th>2</th>\n      <td>AC843</td>\n      <td>9999-999</td>\n      <td>0</td>\n      <td></td>\n    </tr>\n    <tr>\n      <th>3</th>\n      <td>AD651</td>\n      <td>9999-999</td>\n      <td>0</td>\n      <td></td>\n    </tr>\n    <tr>\n      <th>4</th>\n      <td>AD930</td>\n      <td>9999-999</td>\n      <td>0</td>\n      <td></td>\n    </tr>\n    <tr>\n      <th>...</th>\n      <td>...</td>\n      <td>...</td>\n      <td>...</td>\n      <td>...</td>\n    </tr>\n    <tr>\n      <th>151</th>\n      <td>WI937</td>\n      <td>2020-019</td>\n      <td>13</td>\n      <td>NGI</td>\n    </tr>\n    <tr>\n      <th>152</th>\n      <td>WK546</td>\n      <td>9999-999</td>\n      <td>0</td>\n      <td></td>\n    </tr>\n    <tr>\n      <th>153</th>\n      <td>WP937</td>\n      <td>2020-103</td>\n      <td>1</td>\n      <td>MMM</td>\n    </tr>\n    <tr>\n      <th>154</th>\n      <td>YA462</td>\n      <td>9999-999</td>\n      <td>0</td>\n      <td></td>\n    </tr>\n    <tr>\n      <th>155</th>\n      <td>YG431</td>\n      <td>9999-999</td>\n      <td>0</td>\n      <td></td>\n    </tr>\n  </tbody>\n</table>\n<p>156 rows × 4 columns</p>\n</div>",
      "text/plain": "    StationName LastObsDate  NObservations ObsTypes\n0         09429    9999-999              0         \n1         AA109    9999-999              0         \n2         AC843    9999-999              0         \n3         AD651    9999-999              0         \n4         AD930    9999-999              0         \n..          ...         ...            ...      ...\n151       WI937    2020-019             13      NGI\n152       WK546    9999-999              0         \n153       WP937    2020-103              1      MMM\n154       YA462    9999-999              0         \n155       YG431    9999-999              0         \n\n[156 rows x 4 columns]"
     },
     "execution_count": 24,
     "metadata": {},
     "output_type": "execute_result"
    }
   ],
   "source": [
    "station_summary"
   ]
  },
  {
   "cell_type": "markdown",
   "metadata": {},
   "source": [
    "## Stations with NGI files"
   ]
  },
  {
   "cell_type": "code",
   "execution_count": 25,
   "metadata": {},
   "outputs": [
    {
     "data": {
      "text/html": "<div>\n<style scoped>\n    .dataframe tbody tr th:only-of-type {\n        vertical-align: middle;\n    }\n\n    .dataframe tbody tr th {\n        vertical-align: top;\n    }\n\n    .dataframe thead th {\n        text-align: right;\n    }\n</style>\n<table border=\"1\" class=\"dataframe\">\n  <thead>\n    <tr style=\"text-align: right;\">\n      <th></th>\n      <th>StationName</th>\n      <th>LastObsDate</th>\n      <th>NObservations</th>\n      <th>ObsTypes</th>\n    </tr>\n  </thead>\n  <tbody>\n    <tr>\n      <th>71</th>\n      <td>IV437</td>\n      <td>2020-019</td>\n      <td>17</td>\n      <td>NGI</td>\n    </tr>\n    <tr>\n      <th>77</th>\n      <td>JV433</td>\n      <td>2020-019</td>\n      <td>11</td>\n      <td>NGI</td>\n    </tr>\n    <tr>\n      <th>127</th>\n      <td>SJJ18</td>\n      <td>2020-019</td>\n      <td>9</td>\n      <td>NGI</td>\n    </tr>\n    <tr>\n      <th>151</th>\n      <td>WI937</td>\n      <td>2020-019</td>\n      <td>13</td>\n      <td>NGI</td>\n    </tr>\n  </tbody>\n</table>\n</div>",
      "text/plain": "    StationName LastObsDate  NObservations ObsTypes\n71        IV437    2020-019             17      NGI\n77        JV433    2020-019             11      NGI\n127       SJJ18    2020-019              9      NGI\n151       WI937    2020-019             13      NGI"
     },
     "execution_count": 25,
     "metadata": {},
     "output_type": "execute_result"
    }
   ],
   "source": [
    "station_summary.query('ObsTypes == \\'NGI\\'')"
   ]
  },
  {
   "cell_type": "markdown",
   "metadata": {},
   "source": [
    "## Other available File Types"
   ]
  },
  {
   "cell_type": "code",
   "execution_count": 26,
   "metadata": {},
   "outputs": [
    {
     "data": {
      "text/plain": "       135\nRSF     11\nMMM      5\nNGI      4\nSBF      1\nName: ObsTypes, dtype: int64"
     },
     "execution_count": 26,
     "metadata": {},
     "output_type": "execute_result"
    }
   ],
   "source": [
    "station_summary.ObsTypes.value_counts()"
   ]
  },
  {
   "cell_type": "markdown",
   "execution_count": null,
   "metadata": {},
   "outputs": [],
   "source": [
    "## Get Some NGI files\n",
    "\n",
    "want to get a ranom mix of 2019 and 2020 files. We'll assume that the stations have data for those years"
   ]
  },
  {
   "cell_type": "code",
   "execution_count": 29,
   "metadata": {},
   "outputs": [],
   "source": [
    "stations_ngi = station_summary.query('ObsTypes==\\'NGI\\'').StationName"
   ]
  },
  {
   "cell_type": "code",
   "execution_count": 30,
   "metadata": {},
   "outputs": [
    {
     "data": {
      "text/plain": "71     IV437\n77     JV433\n127    SJJ18\n151    WI937\nName: StationName, dtype: object"
     },
     "execution_count": 30,
     "metadata": {},
     "output_type": "execute_result"
    }
   ],
   "source": [
    "stations_ngi"
   ]
  },
  {
   "cell_type": "code",
   "execution_count": null,
   "metadata": {},
   "outputs": [],
   "source": []
  }
 ],
 "metadata": {
  "kernelspec": {
   "display_name": "Python 3",
   "language": "python",
   "name": "python3"
  },
  "language_info": {
   "codemirror_mode": {
    "name": "ipython",
    "version": 3
   },
   "file_extension": ".py",
   "mimetype": "text/x-python",
   "name": "python",
   "nbconvert_exporter": "python",
   "pygments_lexer": "ipython3",
   "version": "3.7.6-final"
  }
 },
 "nbformat": 4,
 "nbformat_minor": 4
}