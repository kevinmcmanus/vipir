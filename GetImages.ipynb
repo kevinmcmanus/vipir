{
 "cells": [
  {
   "cell_type": "code",
   "execution_count": 1,
   "metadata": {},
   "outputs": [],
   "source": [
    "from os import path, listdir"
   ]
  },
  {
   "cell_type": "code",
   "execution_count": 2,
   "metadata": {},
   "outputs": [],
   "source": [
    "vlist = [f.split('.')[0] for f in listdir('netcdf')]"
   ]
  },
  {
   "cell_type": "code",
   "execution_count": 3,
   "metadata": {},
   "outputs": [
    {
     "data": {
      "text/plain": [
       "211"
      ]
     },
     "execution_count": 3,
     "metadata": {},
     "output_type": "execute_result"
    }
   ],
   "source": [
    "len(vlist)"
   ]
  },
  {
   "cell_type": "code",
   "execution_count": 4,
   "metadata": {},
   "outputs": [
    {
     "data": {
      "text/plain": [
       "'SJJ18_2020020021201'"
      ]
     },
     "execution_count": 4,
     "metadata": {},
     "output_type": "execute_result"
    }
   ],
   "source": [
    "vlist[2]"
   ]
  },
  {
   "cell_type": "code",
   "execution_count": 5,
   "metadata": {},
   "outputs": [
    {
     "data": {
      "text/plain": [
       "'JV433_2019352233000'"
      ]
     },
     "execution_count": 5,
     "metadata": {},
     "output_type": "execute_result"
    }
   ],
   "source": [
    "vlist[-1]"
   ]
  },
  {
   "cell_type": "code",
   "execution_count": 31,
   "metadata": {},
   "outputs": [],
   "source": [
    "#ftp://ftp.ngdc.noaa.gov/ionosonde/mids11/SJJ18/individual/2019/319/image/SJJ18_2019319151402_SNR.PNG\n",
    "#ftp://ftp.ngdc.noaa.gov/ionosonde/mids11/SJJ18/individual/2019/319/image/\n",
    "def fname_topath(fname, ftproot='/ionosonde/data'):\n",
    "    stn, dt = fname.split('_')\n",
    "    yr = dt[0:4]\n",
    "    daynum = dt[4:7]\n",
    "    t = dt[7:13]\n",
    "    \n",
    "    pngfile = fname+'_SNR.PNG'\n",
    "    p = path.join(ftproot,stn,'individual',yr,daynum,'image', pngfile)\n",
    "    return p, pngfile\n",
    "    "
   ]
  },
  {
   "cell_type": "code",
   "execution_count": 38,
   "metadata": {},
   "outputs": [
    {
     "data": {
      "text/plain": [
       "('/ionosonde/data/WI937/individual/2019/231/image/WI937_2019231103003_SNR.PNG',\n",
       " 'WI937_2019231103003_SNR.PNG')"
      ]
     },
     "execution_count": 38,
     "metadata": {},
     "output_type": "execute_result"
    }
   ],
   "source": [
    "fname_topath('WI937_2019231103003')"
   ]
  },
  {
   "cell_type": "code",
   "execution_count": 10,
   "metadata": {},
   "outputs": [
    {
     "data": {
      "text/plain": [
       "'ionosonde/mids11/JV433/individual/2019/352/image/JV433_2019352233000_SNR.PNG'"
      ]
     },
     "execution_count": 10,
     "metadata": {},
     "output_type": "execute_result"
    }
   ],
   "source": [
    "fname_topath(vlist[-1])"
   ]
  },
  {
   "cell_type": "code",
   "execution_count": 36,
   "metadata": {},
   "outputs": [],
   "source": [
    "from ftplib import FTP\n",
    "import os"
   ]
  },
  {
   "cell_type": "code",
   "execution_count": 14,
   "metadata": {},
   "outputs": [],
   "source": [
    "ftpsite ='ftp.ngdc.noaa.gov'"
   ]
  },
  {
   "cell_type": "code",
   "execution_count": 37,
   "metadata": {},
   "outputs": [
    {
     "name": "stdout",
     "output_type": "stream",
     "text": [
      "Failed to retrieve image: WI937_2019004221403_SNR.PNG\n"
     ]
    }
   ],
   "source": [
    "with FTP(ftpsite) as ftp:\n",
    "    ftp.login()\n",
    "    for f in vlist:\n",
    "        ftppath, fname = fname_topath(f)\n",
    "        try:\n",
    "            with open(f'images_png/{fname}','wb') as fout:\n",
    "               ftp.retrbinary(f'RETR {ftppath}', fout.write)\n",
    "        except:\n",
    "            print(f'Failed to retrieve image: {fname}')\n",
    "            os.unlink(f'images_png/{fname}')"
   ]
  },
  {
   "cell_type": "code",
   "execution_count": 34,
   "metadata": {},
   "outputs": [
    {
     "data": {
      "text/plain": [
       "'/ionosonde/data/WI937/individual/2019/004/image/WI937_2019004221403_SNR.PNG'"
      ]
     },
     "execution_count": 34,
     "metadata": {},
     "output_type": "execute_result"
    }
   ],
   "source": [
    "#ftp://ftp.ngdc.noaa.gov/ionosonde/data/SJJ18/individual/2020/011/image/\n",
    "ftppath"
   ]
  },
  {
   "cell_type": "code",
   "execution_count": 17,
   "metadata": {},
   "outputs": [
    {
     "data": {
      "text/plain": [
       "'WI937_2019344115003_SNR.PNG'"
      ]
     },
     "execution_count": 17,
     "metadata": {},
     "output_type": "execute_result"
    }
   ],
   "source": [
    "fname"
   ]
  },
  {
   "cell_type": "code",
   "execution_count": null,
   "metadata": {},
   "outputs": [],
   "source": []
  }
 ],
 "metadata": {
  "kernelspec": {
   "display_name": "Python 3.7.6 64-bit ('validate': conda)",
   "language": "python",
   "name": "python37664bitvalidateconda1bd74ffd49e34299a6403b160da18410"
  },
  "language_info": {
   "codemirror_mode": {
    "name": "ipython",
    "version": 3
   },
   "file_extension": ".py",
   "mimetype": "text/x-python",
   "name": "python",
   "nbconvert_exporter": "python",
   "pygments_lexer": "ipython3",
   "version": "3.7.6"
  }
 },
 "nbformat": 4,
 "nbformat_minor": 4
}
