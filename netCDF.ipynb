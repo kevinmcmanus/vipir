{
 "cells": [
  {
   "cell_type": "markdown",
   "metadata": {},
   "source": [
    "# NetCDF File Structure\n",
    "\n",
    "Here's a [tutorial](https://unidata.github.io/netcdf4-python/netCDF4/index.html) for general netCDF handling in python.  Here we're concerned with netCDF files produced by VIPIR ionosondes."
   ]
  },
  {
   "cell_type": "code",
   "execution_count": 1,
   "metadata": {},
   "outputs": [],
   "source": [
    "import numpy as np\n",
    "import matplotlib.pyplot as plt\n",
    "import pandas as pd\n",
    "\n",
    "%matplotlib inline"
   ]
  },
  {
   "cell_type": "markdown",
   "metadata": {},
   "source": [
    "### TODO: figure out why the following doesn't work with conda"
   ]
  },
  {
   "cell_type": "code",
   "execution_count": 2,
   "metadata": {},
   "outputs": [
    {
     "name": "stdout",
     "output_type": "stream",
     "text": [
      "Requirement already satisfied: netCDF4 in /home/kevin_leo_mcmanus/anaconda3/envs/validate/lib/python3.7/site-packages (1.4.2)\n",
      "Requirement already satisfied: cftime in /home/kevin_leo_mcmanus/anaconda3/envs/validate/lib/python3.7/site-packages (from netCDF4) (1.0.4.2)\n",
      "Requirement already satisfied: numpy>=1.7 in /home/kevin_leo_mcmanus/anaconda3/envs/validate/lib/python3.7/site-packages (from netCDF4) (1.17.4)\n"
     ]
    }
   ],
   "source": [
    "!pip install netCDF4"
   ]
  },
  {
   "cell_type": "code",
   "execution_count": 3,
   "metadata": {},
   "outputs": [],
   "source": [
    "from netCDF4 import Dataset"
   ]
  },
  {
   "cell_type": "code",
   "execution_count": 4,
   "metadata": {},
   "outputs": [],
   "source": [
    "path = r\"./netcdf/WI937_2020004132603.NGI\""
   ]
  },
  {
   "cell_type": "code",
   "execution_count": 5,
   "metadata": {},
   "outputs": [],
   "source": [
    "rootgrp = Dataset(path, \"r\", format=\"NETCDF4\")"
   ]
  },
  {
   "cell_type": "code",
   "execution_count": 6,
   "metadata": {},
   "outputs": [
    {
     "data": {
      "text/plain": [
       "netCDF4._netCDF4.Dataset"
      ]
     },
     "execution_count": 6,
     "metadata": {},
     "output_type": "execute_result"
    }
   ],
   "source": [
    "type(rootgrp)"
   ]
  },
  {
   "cell_type": "code",
   "execution_count": 7,
   "metadata": {},
   "outputs": [
    {
     "data": {
      "text/plain": [
       "OrderedDict()"
      ]
     },
     "execution_count": 7,
     "metadata": {},
     "output_type": "execute_result"
    }
   ],
   "source": [
    "#no group structure to these netCDF's\n",
    "rootgrp.groups"
   ]
  },
  {
   "cell_type": "markdown",
   "metadata": {},
   "source": [
    "## Global Attributes\n",
    "\n",
    "capture the meta data.  Use the `ncattrs` method to get an iterator."
   ]
  },
  {
   "cell_type": "code",
   "execution_count": 8,
   "metadata": {},
   "outputs": [],
   "source": [
    "df = pd.DataFrame([[name, str(getattr(rootgrp, name)), type(getattr(rootgrp, name))] for name in rootgrp.ncattrs()],\n",
    "        columns=['Attribute','Value','PythonType'])"
   ]
  },
  {
   "cell_type": "code",
   "execution_count": 9,
   "metadata": {},
   "outputs": [
    {
     "data": {
      "text/html": [
       "<div>\n",
       "<style scoped>\n",
       "    .dataframe tbody tr th:only-of-type {\n",
       "        vertical-align: middle;\n",
       "    }\n",
       "\n",
       "    .dataframe tbody tr th {\n",
       "        vertical-align: top;\n",
       "    }\n",
       "\n",
       "    .dataframe thead th {\n",
       "        text-align: right;\n",
       "    }\n",
       "</style>\n",
       "<table border=\"1\" class=\"dataframe\">\n",
       "  <thead>\n",
       "    <tr style=\"text-align: right;\">\n",
       "      <th></th>\n",
       "      <th>Attribute</th>\n",
       "      <th>Value</th>\n",
       "      <th>PythonType</th>\n",
       "    </tr>\n",
       "  </thead>\n",
       "  <tbody>\n",
       "    <tr>\n",
       "      <th>0</th>\n",
       "      <td>format_version</td>\n",
       "      <td>1.10</td>\n",
       "      <td>&lt;class 'str'&gt;</td>\n",
       "    </tr>\n",
       "    <tr>\n",
       "      <th>1</th>\n",
       "      <td>id</td>\n",
       "      <td>ionogram.WI937_2020004132603</td>\n",
       "      <td>&lt;class 'str'&gt;</td>\n",
       "    </tr>\n",
       "    <tr>\n",
       "      <th>2</th>\n",
       "      <td>naming_authority</td>\n",
       "      <td>gov.noaa.ngdc</td>\n",
       "      <td>&lt;class 'str'&gt;</td>\n",
       "    </tr>\n",
       "    <tr>\n",
       "      <th>3</th>\n",
       "      <td>Metadata_Link</td>\n",
       "      <td>http://www.ngdc.noaa.gov/ionosonde/documentation/</td>\n",
       "      <td>&lt;class 'str'&gt;</td>\n",
       "    </tr>\n",
       "    <tr>\n",
       "      <th>4</th>\n",
       "      <td>title</td>\n",
       "      <td>Ionosonde Data</td>\n",
       "      <td>&lt;class 'str'&gt;</td>\n",
       "    </tr>\n",
       "    <tr>\n",
       "      <th>5</th>\n",
       "      <td>station</td>\n",
       "      <td>Wallops Island</td>\n",
       "      <td>&lt;class 'str'&gt;</td>\n",
       "    </tr>\n",
       "    <tr>\n",
       "      <th>6</th>\n",
       "      <td>instrument</td>\n",
       "      <td>Vertical Incidence Pulsed Ionospheric Radar</td>\n",
       "      <td>&lt;class 'str'&gt;</td>\n",
       "    </tr>\n",
       "    <tr>\n",
       "      <th>7</th>\n",
       "      <td>cdm_data_type</td>\n",
       "      <td>Station</td>\n",
       "      <td>&lt;class 'str'&gt;</td>\n",
       "    </tr>\n",
       "    <tr>\n",
       "      <th>8</th>\n",
       "      <td>processing_level</td>\n",
       "      <td>Power Average</td>\n",
       "      <td>&lt;class 'str'&gt;</td>\n",
       "    </tr>\n",
       "    <tr>\n",
       "      <th>9</th>\n",
       "      <td>experiment</td>\n",
       "      <td>Routine Observations</td>\n",
       "      <td>&lt;class 'str'&gt;</td>\n",
       "    </tr>\n",
       "    <tr>\n",
       "      <th>10</th>\n",
       "      <td>date_created</td>\n",
       "      <td>2020-01-04T13:33:00Z</td>\n",
       "      <td>&lt;class 'str'&gt;</td>\n",
       "    </tr>\n",
       "    <tr>\n",
       "      <th>11</th>\n",
       "      <td>date_modified</td>\n",
       "      <td>2020-01-04T13:33:00Z</td>\n",
       "      <td>&lt;class 'str'&gt;</td>\n",
       "    </tr>\n",
       "    <tr>\n",
       "      <th>12</th>\n",
       "      <td>date_issued</td>\n",
       "      <td>2020-01-04T13:33:00Z</td>\n",
       "      <td>&lt;class 'str'&gt;</td>\n",
       "    </tr>\n",
       "    <tr>\n",
       "      <th>13</th>\n",
       "      <td>time_coverage_start</td>\n",
       "      <td>2020-01-04T13:26:03Z</td>\n",
       "      <td>&lt;class 'str'&gt;</td>\n",
       "    </tr>\n",
       "    <tr>\n",
       "      <th>14</th>\n",
       "      <td>time_coverage_end</td>\n",
       "      <td>2020-01-04T13:27:47Z</td>\n",
       "      <td>&lt;class 'str'&gt;</td>\n",
       "    </tr>\n",
       "    <tr>\n",
       "      <th>15</th>\n",
       "      <td>time_coverage_duration</td>\n",
       "      <td>TM01S44</td>\n",
       "      <td>&lt;class 'str'&gt;</td>\n",
       "    </tr>\n",
       "    <tr>\n",
       "      <th>16</th>\n",
       "      <td>time_coverage_resolution</td>\n",
       "      <td>none</td>\n",
       "      <td>&lt;class 'str'&gt;</td>\n",
       "    </tr>\n",
       "    <tr>\n",
       "      <th>17</th>\n",
       "      <td>geospatial_lat_min</td>\n",
       "      <td>37.837</td>\n",
       "      <td>&lt;class 'str'&gt;</td>\n",
       "    </tr>\n",
       "    <tr>\n",
       "      <th>18</th>\n",
       "      <td>geospatial_lat_max</td>\n",
       "      <td>38.037</td>\n",
       "      <td>&lt;class 'str'&gt;</td>\n",
       "    </tr>\n",
       "    <tr>\n",
       "      <th>19</th>\n",
       "      <td>geospatial_lat_units</td>\n",
       "      <td>degrees</td>\n",
       "      <td>&lt;class 'str'&gt;</td>\n",
       "    </tr>\n",
       "    <tr>\n",
       "      <th>20</th>\n",
       "      <td>geospatial_lat_resolution</td>\n",
       "      <td>none</td>\n",
       "      <td>&lt;class 'str'&gt;</td>\n",
       "    </tr>\n",
       "    <tr>\n",
       "      <th>21</th>\n",
       "      <td>geospatial_lon_min</td>\n",
       "      <td>-75.578</td>\n",
       "      <td>&lt;class 'str'&gt;</td>\n",
       "    </tr>\n",
       "    <tr>\n",
       "      <th>22</th>\n",
       "      <td>geospatial_lon_max</td>\n",
       "      <td>-75.378</td>\n",
       "      <td>&lt;class 'str'&gt;</td>\n",
       "    </tr>\n",
       "    <tr>\n",
       "      <th>23</th>\n",
       "      <td>geospatial_lon_units</td>\n",
       "      <td>degrees</td>\n",
       "      <td>&lt;class 'str'&gt;</td>\n",
       "    </tr>\n",
       "    <tr>\n",
       "      <th>24</th>\n",
       "      <td>geospatial_lon_resolution</td>\n",
       "      <td>none</td>\n",
       "      <td>&lt;class 'str'&gt;</td>\n",
       "    </tr>\n",
       "    <tr>\n",
       "      <th>25</th>\n",
       "      <td>geospatial_vertical_min</td>\n",
       "      <td>20</td>\n",
       "      <td>&lt;class 'str'&gt;</td>\n",
       "    </tr>\n",
       "    <tr>\n",
       "      <th>26</th>\n",
       "      <td>geospatial_vertical_max</td>\n",
       "      <td>500</td>\n",
       "      <td>&lt;class 'str'&gt;</td>\n",
       "    </tr>\n",
       "    <tr>\n",
       "      <th>27</th>\n",
       "      <td>geospatial_vertical_units</td>\n",
       "      <td>kilometers</td>\n",
       "      <td>&lt;class 'str'&gt;</td>\n",
       "    </tr>\n",
       "    <tr>\n",
       "      <th>28</th>\n",
       "      <td>geospatial_vertical_resolution</td>\n",
       "      <td>variable</td>\n",
       "      <td>&lt;class 'str'&gt;</td>\n",
       "    </tr>\n",
       "    <tr>\n",
       "      <th>29</th>\n",
       "      <td>geospatial_vertical_positive</td>\n",
       "      <td>up</td>\n",
       "      <td>&lt;class 'str'&gt;</td>\n",
       "    </tr>\n",
       "    <tr>\n",
       "      <th>30</th>\n",
       "      <td>mode</td>\n",
       "      <td>Dynasonde21 B-mode</td>\n",
       "      <td>&lt;class 'str'&gt;</td>\n",
       "    </tr>\n",
       "    <tr>\n",
       "      <th>31</th>\n",
       "      <td>magnetic_model</td>\n",
       "      <td>IGRF 10</td>\n",
       "      <td>&lt;class 'str'&gt;</td>\n",
       "    </tr>\n",
       "    <tr>\n",
       "      <th>32</th>\n",
       "      <td>creator_name</td>\n",
       "      <td>Terry Bullett</td>\n",
       "      <td>&lt;class 'str'&gt;</td>\n",
       "    </tr>\n",
       "    <tr>\n",
       "      <th>33</th>\n",
       "      <td>institution</td>\n",
       "      <td>NASA Wallops Island Flight Facility</td>\n",
       "      <td>&lt;class 'str'&gt;</td>\n",
       "    </tr>\n",
       "    <tr>\n",
       "      <th>34</th>\n",
       "      <td>creator_email</td>\n",
       "      <td>Terry.Bullett@noaa.gov</td>\n",
       "      <td>&lt;class 'str'&gt;</td>\n",
       "    </tr>\n",
       "    <tr>\n",
       "      <th>35</th>\n",
       "      <td>creator_url</td>\n",
       "      <td>http://www.ngdc.noaa.gov/stp/</td>\n",
       "      <td>&lt;class 'str'&gt;</td>\n",
       "    </tr>\n",
       "    <tr>\n",
       "      <th>36</th>\n",
       "      <td>publisher_name</td>\n",
       "      <td>NOAA/NGDC</td>\n",
       "      <td>&lt;class 'str'&gt;</td>\n",
       "    </tr>\n",
       "    <tr>\n",
       "      <th>37</th>\n",
       "      <td>publisher_email</td>\n",
       "      <td>ionosonde@noaa.gov</td>\n",
       "      <td>&lt;class 'str'&gt;</td>\n",
       "    </tr>\n",
       "    <tr>\n",
       "      <th>38</th>\n",
       "      <td>publisher_url</td>\n",
       "      <td>http://www.ngdc.noaa.gov/stp/</td>\n",
       "      <td>&lt;class 'str'&gt;</td>\n",
       "    </tr>\n",
       "    <tr>\n",
       "      <th>39</th>\n",
       "      <td>license</td>\n",
       "      <td>Principle Investigator Permission</td>\n",
       "      <td>&lt;class 'str'&gt;</td>\n",
       "    </tr>\n",
       "    <tr>\n",
       "      <th>40</th>\n",
       "      <td>project</td>\n",
       "      <td>Global Ionospheric Specification and Forecast</td>\n",
       "      <td>&lt;class 'str'&gt;</td>\n",
       "    </tr>\n",
       "    <tr>\n",
       "      <th>41</th>\n",
       "      <td>acknowledgment</td>\n",
       "      <td>Archived by NGDC</td>\n",
       "      <td>&lt;class 'str'&gt;</td>\n",
       "    </tr>\n",
       "    <tr>\n",
       "      <th>42</th>\n",
       "      <td>contributor_name</td>\n",
       "      <td>Terry Bullett</td>\n",
       "      <td>&lt;class 'str'&gt;</td>\n",
       "    </tr>\n",
       "    <tr>\n",
       "      <th>43</th>\n",
       "      <td>contributor_role</td>\n",
       "      <td>raw data reduction software</td>\n",
       "      <td>&lt;class 'str'&gt;</td>\n",
       "    </tr>\n",
       "    <tr>\n",
       "      <th>44</th>\n",
       "      <td>Conventions</td>\n",
       "      <td>_Coordinates</td>\n",
       "      <td>&lt;class 'str'&gt;</td>\n",
       "    </tr>\n",
       "    <tr>\n",
       "      <th>45</th>\n",
       "      <td>Metadata_Conventions</td>\n",
       "      <td>UNIDATA Dataset Discovery v1.0</td>\n",
       "      <td>&lt;class 'str'&gt;</td>\n",
       "    </tr>\n",
       "    <tr>\n",
       "      <th>46</th>\n",
       "      <td>keywords</td>\n",
       "      <td>IONOSONDE RADAR</td>\n",
       "      <td>&lt;class 'str'&gt;</td>\n",
       "    </tr>\n",
       "    <tr>\n",
       "      <th>47</th>\n",
       "      <td>keywords_vocabulary</td>\n",
       "      <td>http://gcmd.gsfc.nasa.gov/Resources/valids/arc...</td>\n",
       "      <td>&lt;class 'str'&gt;</td>\n",
       "    </tr>\n",
       "    <tr>\n",
       "      <th>48</th>\n",
       "      <td>standard_name_vocabulary</td>\n",
       "      <td>CF-1.0</td>\n",
       "      <td>&lt;class 'str'&gt;</td>\n",
       "    </tr>\n",
       "    <tr>\n",
       "      <th>49</th>\n",
       "      <td>summary</td>\n",
       "      <td>This file contains ionogram data consisting of...</td>\n",
       "      <td>&lt;class 'str'&gt;</td>\n",
       "    </tr>\n",
       "    <tr>\n",
       "      <th>50</th>\n",
       "      <td>comment</td>\n",
       "      <td></td>\n",
       "      <td>&lt;class 'str'&gt;</td>\n",
       "    </tr>\n",
       "    <tr>\n",
       "      <th>51</th>\n",
       "      <td>history</td>\n",
       "      <td>Generated by riq_ionogram version 2.080 at Sat...</td>\n",
       "      <td>&lt;class 'str'&gt;</td>\n",
       "    </tr>\n",
       "  </tbody>\n",
       "</table>\n",
       "</div>"
      ],
      "text/plain": [
       "                         Attribute  \\\n",
       "0                   format_version   \n",
       "1                               id   \n",
       "2                 naming_authority   \n",
       "3                    Metadata_Link   \n",
       "4                            title   \n",
       "5                          station   \n",
       "6                       instrument   \n",
       "7                    cdm_data_type   \n",
       "8                 processing_level   \n",
       "9                       experiment   \n",
       "10                    date_created   \n",
       "11                   date_modified   \n",
       "12                     date_issued   \n",
       "13             time_coverage_start   \n",
       "14               time_coverage_end   \n",
       "15          time_coverage_duration   \n",
       "16        time_coverage_resolution   \n",
       "17              geospatial_lat_min   \n",
       "18              geospatial_lat_max   \n",
       "19            geospatial_lat_units   \n",
       "20       geospatial_lat_resolution   \n",
       "21              geospatial_lon_min   \n",
       "22              geospatial_lon_max   \n",
       "23            geospatial_lon_units   \n",
       "24       geospatial_lon_resolution   \n",
       "25         geospatial_vertical_min   \n",
       "26         geospatial_vertical_max   \n",
       "27       geospatial_vertical_units   \n",
       "28  geospatial_vertical_resolution   \n",
       "29    geospatial_vertical_positive   \n",
       "30                            mode   \n",
       "31                  magnetic_model   \n",
       "32                    creator_name   \n",
       "33                     institution   \n",
       "34                   creator_email   \n",
       "35                     creator_url   \n",
       "36                  publisher_name   \n",
       "37                 publisher_email   \n",
       "38                   publisher_url   \n",
       "39                         license   \n",
       "40                         project   \n",
       "41                  acknowledgment   \n",
       "42                contributor_name   \n",
       "43                contributor_role   \n",
       "44                     Conventions   \n",
       "45            Metadata_Conventions   \n",
       "46                        keywords   \n",
       "47             keywords_vocabulary   \n",
       "48        standard_name_vocabulary   \n",
       "49                         summary   \n",
       "50                         comment   \n",
       "51                         history   \n",
       "\n",
       "                                                Value     PythonType  \n",
       "0                                                1.10  <class 'str'>  \n",
       "1                        ionogram.WI937_2020004132603  <class 'str'>  \n",
       "2                                       gov.noaa.ngdc  <class 'str'>  \n",
       "3   http://www.ngdc.noaa.gov/ionosonde/documentation/  <class 'str'>  \n",
       "4                                      Ionosonde Data  <class 'str'>  \n",
       "5                                      Wallops Island  <class 'str'>  \n",
       "6         Vertical Incidence Pulsed Ionospheric Radar  <class 'str'>  \n",
       "7                                             Station  <class 'str'>  \n",
       "8                                       Power Average  <class 'str'>  \n",
       "9                                Routine Observations  <class 'str'>  \n",
       "10                               2020-01-04T13:33:00Z  <class 'str'>  \n",
       "11                               2020-01-04T13:33:00Z  <class 'str'>  \n",
       "12                               2020-01-04T13:33:00Z  <class 'str'>  \n",
       "13                               2020-01-04T13:26:03Z  <class 'str'>  \n",
       "14                               2020-01-04T13:27:47Z  <class 'str'>  \n",
       "15                                            TM01S44  <class 'str'>  \n",
       "16                                               none  <class 'str'>  \n",
       "17                                             37.837  <class 'str'>  \n",
       "18                                             38.037  <class 'str'>  \n",
       "19                                            degrees  <class 'str'>  \n",
       "20                                               none  <class 'str'>  \n",
       "21                                            -75.578  <class 'str'>  \n",
       "22                                            -75.378  <class 'str'>  \n",
       "23                                            degrees  <class 'str'>  \n",
       "24                                               none  <class 'str'>  \n",
       "25                                                 20  <class 'str'>  \n",
       "26                                                500  <class 'str'>  \n",
       "27                                         kilometers  <class 'str'>  \n",
       "28                                           variable  <class 'str'>  \n",
       "29                                                 up  <class 'str'>  \n",
       "30                                 Dynasonde21 B-mode  <class 'str'>  \n",
       "31                                            IGRF 10  <class 'str'>  \n",
       "32                                      Terry Bullett  <class 'str'>  \n",
       "33                NASA Wallops Island Flight Facility  <class 'str'>  \n",
       "34                             Terry.Bullett@noaa.gov  <class 'str'>  \n",
       "35                      http://www.ngdc.noaa.gov/stp/  <class 'str'>  \n",
       "36                                          NOAA/NGDC  <class 'str'>  \n",
       "37                                 ionosonde@noaa.gov  <class 'str'>  \n",
       "38                      http://www.ngdc.noaa.gov/stp/  <class 'str'>  \n",
       "39                  Principle Investigator Permission  <class 'str'>  \n",
       "40      Global Ionospheric Specification and Forecast  <class 'str'>  \n",
       "41                                   Archived by NGDC  <class 'str'>  \n",
       "42                                      Terry Bullett  <class 'str'>  \n",
       "43                        raw data reduction software  <class 'str'>  \n",
       "44                                       _Coordinates  <class 'str'>  \n",
       "45                     UNIDATA Dataset Discovery v1.0  <class 'str'>  \n",
       "46                                    IONOSONDE RADAR  <class 'str'>  \n",
       "47  http://gcmd.gsfc.nasa.gov/Resources/valids/arc...  <class 'str'>  \n",
       "48                                             CF-1.0  <class 'str'>  \n",
       "49  This file contains ionogram data consisting of...  <class 'str'>  \n",
       "50                                                     <class 'str'>  \n",
       "51  Generated by riq_ionogram version 2.080 at Sat...  <class 'str'>  "
      ]
     },
     "execution_count": 9,
     "metadata": {},
     "output_type": "execute_result"
    }
   ],
   "source": [
    "df"
   ]
  },
  {
   "cell_type": "markdown",
   "metadata": {},
   "source": [
    "Use `getattr(rootgrp, attr_name)` to get individual attribute values"
   ]
  },
  {
   "cell_type": "code",
   "execution_count": 10,
   "metadata": {},
   "outputs": [
    {
     "data": {
      "text/plain": [
       "'Vertical Incidence Pulsed Ionospheric Radar'"
      ]
     },
     "execution_count": 10,
     "metadata": {},
     "output_type": "execute_result"
    }
   ],
   "source": [
    "getattr(rootgrp,'instrument')"
   ]
  },
  {
   "cell_type": "markdown",
   "metadata": {},
   "source": [
    "## Data\n",
    "\n",
    "Two major sections of the file capture the data. The `dimensions` section contained named objects that are used to size (some of?) the objects in the `variables` section"
   ]
  },
  {
   "cell_type": "code",
   "execution_count": 11,
   "metadata": {},
   "outputs": [
    {
     "data": {
      "text/plain": [
       "odict_keys(['NumRange', 'NumFrequency', 'NumDoppler', 'DIM002', 'DIM003', 'NumRxPair', 'DIM008', 'DIM016', 'DIM032', 'DIM064', 'DIM128', 'DIM160', 'DIM256', 'DIM512', 'DIM1024', 'DIM2048', 'DIM8192', 'SCTsize', 'PCTsize', 'PRIsize', 'PREFACEsize'])"
      ]
     },
     "execution_count": 11,
     "metadata": {},
     "output_type": "execute_result"
    }
   ],
   "source": [
    "rootgrp.dimensions.keys()"
   ]
  },
  {
   "cell_type": "code",
   "execution_count": 12,
   "metadata": {},
   "outputs": [
    {
     "data": {
      "text/plain": [
       "odict_keys(['URSI', 'StationName', 'year', 'daynumber', 'month', 'day', 'hour', 'minute', 'second', 'epoch', 'latitude', 'longitude', 'altitude', 'MagLat', 'MagLon', 'MagDip', 'GyroFreq', 'pri', 'range_gate_offset', 'gate_count', 'gate_start', 'gate_end', 'gate_step', 'Range0', 'freq_start', 'freq_end', 'tune_type', 'freq_count', 'linear_step', 'log_step', 'Magic', 'SCT_version', 'SCT_readme', 'SCT_user', 'decimation_method', 'decimation_threshold', 'station_file_id', 'rx_name', 'rx_latitude', 'rx_longitude', 'rx_altitude', 'rx_count', 'rx_antenna_type', 'rx_position', 'rx_direction', 'rx_height', 'rx_cable_length', 'frontend_atten', 'tx_name', 'tx_latitude', 'tx_longitude', 'tx_altitude', 'tx_antenna_type', 'tx_vector', 'tx_height', 'tx_cable_length', 'drive_band_count', 'drive_band_bounds', 'drive_band_atten', 'rf_control', 'ref_type', 'clock_type', 'station_user', 'timing_file_id', 'pri_count', 'ionogram_count', 'holdoff', 'data_start', 'date_width', 'data_baud_count', 'data_wave_file', 'data_baud', 'data_pairs', 'cal_start', 'cal_width', 'cal_baud_count', 'cal_wave_file', 'cal_baud', 'cal_pairs', 'timing_user', 'frequency_file_id', 'base_steps', 'base_table', 'frequency_table_id', 'tune_steps', 'pulse_count', 'pulse_pattern', 'pulse_offset', 'ramp_steps', 'ramp_repeats', 'drive_table', 'frequency_user', 'receiver_file_id', 'rx_chan', 'rx_map', 'word_format', 'rx_cic2_dec', 'rx_cic2_interp', 'rx_cic2_scale', 'rx_cic5_dec', 'rx_cic5_scale', 'rx_rcf_type', 'rx_rcf_dec', 'rx_rcf_taps', 'rx_coefficients', 'rx_analog_delay', 'receiver_user', 'exciter_file_id', 'ex_cic2_scale', 'ex_cic2_dec', 'ex_cic2_interp', 'ex_cic5_interp', 'ex_rcf_type', 'ex_rcf_taps', 'ex_rcf_taps_phase', 'ex_coefficients', 'ex_analog_delay', 'exciter_user', 'balun_currents', 'balun_status', 'frontend_status', 'receiver_status', 'exciter_status', 'monitor_user', 'SCT', 'PREFACE', 'Range', 'Frequency', 'Time', 'TxDrive', 'NumAve', 'Has_total_power', 'total_power', 'total_noise', 'Has_O-mode_power', 'O-mode_power', 'O-mode_noise', 'Has_X-mode_power', 'X-mode_power', 'X-mode_noise', 'Has_VLoS', 'Has_Doppler', 'Has_SPGR', 'Has_Zenith', 'Has_Azimuth', 'Has_Coherence'])"
      ]
     },
     "execution_count": 12,
     "metadata": {},
     "output_type": "execute_result"
    }
   ],
   "source": [
    "rootgrp.variables.keys()"
   ]
  },
  {
   "cell_type": "markdown",
   "metadata": {},
   "source": [
    "## Dimension Names and Sizes"
   ]
  },
  {
   "cell_type": "code",
   "execution_count": 13,
   "metadata": {},
   "outputs": [
    {
     "name": "stdout",
     "output_type": "stream",
     "text": [
      "Dimension Name: NumRange, Dimension Size: 960\n",
      "Dimension Name: NumFrequency, Dimension Size: 328\n",
      "Dimension Name: NumDoppler, Dimension Size: 1\n",
      "Dimension Name: DIM002, Dimension Size: 2\n",
      "Dimension Name: DIM003, Dimension Size: 3\n",
      "Dimension Name: NumRxPair, Dimension Size: 4\n",
      "Dimension Name: DIM008, Dimension Size: 8\n",
      "Dimension Name: DIM016, Dimension Size: 16\n",
      "Dimension Name: DIM032, Dimension Size: 32\n",
      "Dimension Name: DIM064, Dimension Size: 64\n",
      "Dimension Name: DIM128, Dimension Size: 128\n",
      "Dimension Name: DIM160, Dimension Size: 160\n",
      "Dimension Name: DIM256, Dimension Size: 256\n",
      "Dimension Name: DIM512, Dimension Size: 512\n",
      "Dimension Name: DIM1024, Dimension Size: 1024\n",
      "Dimension Name: DIM2048, Dimension Size: 2048\n",
      "Dimension Name: DIM8192, Dimension Size: 8192\n",
      "Dimension Name: SCTsize, Dimension Size: 90076\n",
      "Dimension Name: PCTsize, Dimension Size: 144\n",
      "Dimension Name: PRIsize, Dimension Size: 30720\n",
      "Dimension Name: PREFACEsize, Dimension Size: 77\n"
     ]
    }
   ],
   "source": [
    "for d in rootgrp.dimensions:\n",
    "    print (f'Dimension Name: {rootgrp.dimensions[d].name}, Dimension Size: {rootgrp.dimensions[d].size}')"
   ]
  },
  {
   "cell_type": "markdown",
   "metadata": {},
   "source": [
    "## Variables Section\n",
    "\n",
    "Access the variables through the variables (what else?) field:"
   ]
  },
  {
   "cell_type": "code",
   "execution_count": 14,
   "metadata": {},
   "outputs": [],
   "source": [
    "vars = rootgrp.variables"
   ]
  },
  {
   "cell_type": "markdown",
   "metadata": {},
   "source": [
    "vars is a Python dict with a whole bunch of variables"
   ]
  },
  {
   "cell_type": "code",
   "execution_count": 15,
   "metadata": {},
   "outputs": [
    {
     "data": {
      "text/plain": [
       "odict_keys(['URSI', 'StationName', 'year', 'daynumber', 'month', 'day', 'hour', 'minute', 'second', 'epoch', 'latitude', 'longitude', 'altitude', 'MagLat', 'MagLon', 'MagDip', 'GyroFreq', 'pri', 'range_gate_offset', 'gate_count', 'gate_start', 'gate_end', 'gate_step', 'Range0', 'freq_start', 'freq_end', 'tune_type', 'freq_count', 'linear_step', 'log_step', 'Magic', 'SCT_version', 'SCT_readme', 'SCT_user', 'decimation_method', 'decimation_threshold', 'station_file_id', 'rx_name', 'rx_latitude', 'rx_longitude', 'rx_altitude', 'rx_count', 'rx_antenna_type', 'rx_position', 'rx_direction', 'rx_height', 'rx_cable_length', 'frontend_atten', 'tx_name', 'tx_latitude', 'tx_longitude', 'tx_altitude', 'tx_antenna_type', 'tx_vector', 'tx_height', 'tx_cable_length', 'drive_band_count', 'drive_band_bounds', 'drive_band_atten', 'rf_control', 'ref_type', 'clock_type', 'station_user', 'timing_file_id', 'pri_count', 'ionogram_count', 'holdoff', 'data_start', 'date_width', 'data_baud_count', 'data_wave_file', 'data_baud', 'data_pairs', 'cal_start', 'cal_width', 'cal_baud_count', 'cal_wave_file', 'cal_baud', 'cal_pairs', 'timing_user', 'frequency_file_id', 'base_steps', 'base_table', 'frequency_table_id', 'tune_steps', 'pulse_count', 'pulse_pattern', 'pulse_offset', 'ramp_steps', 'ramp_repeats', 'drive_table', 'frequency_user', 'receiver_file_id', 'rx_chan', 'rx_map', 'word_format', 'rx_cic2_dec', 'rx_cic2_interp', 'rx_cic2_scale', 'rx_cic5_dec', 'rx_cic5_scale', 'rx_rcf_type', 'rx_rcf_dec', 'rx_rcf_taps', 'rx_coefficients', 'rx_analog_delay', 'receiver_user', 'exciter_file_id', 'ex_cic2_scale', 'ex_cic2_dec', 'ex_cic2_interp', 'ex_cic5_interp', 'ex_rcf_type', 'ex_rcf_taps', 'ex_rcf_taps_phase', 'ex_coefficients', 'ex_analog_delay', 'exciter_user', 'balun_currents', 'balun_status', 'frontend_status', 'receiver_status', 'exciter_status', 'monitor_user', 'SCT', 'PREFACE', 'Range', 'Frequency', 'Time', 'TxDrive', 'NumAve', 'Has_total_power', 'total_power', 'total_noise', 'Has_O-mode_power', 'O-mode_power', 'O-mode_noise', 'Has_X-mode_power', 'X-mode_power', 'X-mode_noise', 'Has_VLoS', 'Has_Doppler', 'Has_SPGR', 'Has_Zenith', 'Has_Azimuth', 'Has_Coherence'])"
      ]
     },
     "execution_count": 15,
     "metadata": {},
     "output_type": "execute_result"
    }
   ],
   "source": [
    "vars.keys()"
   ]
  },
  {
   "cell_type": "markdown",
   "metadata": {},
   "source": [
    "### Scalar Variables\n",
    "\n",
    "This is what a scalar variable looks like:"
   ]
  },
  {
   "cell_type": "code",
   "execution_count": 16,
   "metadata": {},
   "outputs": [
    {
     "data": {
      "text/plain": [
       "<class 'netCDF4._netCDF4.Variable'>\n",
       "int16 year()\n",
       "    units: UTC\n",
       "unlimited dimensions: \n",
       "current shape = ()\n",
       "filling on, default _FillValue of -32767 used"
      ]
     },
     "execution_count": 16,
     "metadata": {},
     "output_type": "execute_result"
    }
   ],
   "source": [
    "vars['year']"
   ]
  },
  {
   "cell_type": "code",
   "execution_count": 17,
   "metadata": {},
   "outputs": [
    {
     "data": {
      "text/plain": [
       "['units']"
      ]
     },
     "execution_count": 17,
     "metadata": {},
     "output_type": "execute_result"
    }
   ],
   "source": [
    "#to see a varibles attributes:\n",
    "vars['year'].ncattrs()"
   ]
  },
  {
   "cell_type": "code",
   "execution_count": 18,
   "metadata": {},
   "outputs": [
    {
     "data": {
      "text/plain": [
       "'UTC'"
      ]
     },
     "execution_count": 18,
     "metadata": {},
     "output_type": "execute_result"
    }
   ],
   "source": [
    "#to get the attribute value\n",
    "getattr(vars['year'],'units')"
   ]
  },
  {
   "cell_type": "markdown",
   "metadata": {},
   "source": [
    "The tipoff that this value is scalar is the NULL shape: `()`"
   ]
  },
  {
   "cell_type": "code",
   "execution_count": 19,
   "metadata": {},
   "outputs": [
    {
     "data": {
      "text/plain": [
       "()"
      ]
     },
     "execution_count": 19,
     "metadata": {},
     "output_type": "execute_result"
    }
   ],
   "source": [
    "vars['year'].shape"
   ]
  },
  {
   "cell_type": "markdown",
   "metadata": {},
   "source": [
    "Use the `getvalue()` method to fetch the value, which comes back as a masked array.  The `np.item` function will yield the scalar value"
   ]
  },
  {
   "cell_type": "code",
   "execution_count": 20,
   "metadata": {},
   "outputs": [
    {
     "data": {
      "text/plain": [
       "masked_array(data=2020,\n",
       "             mask=False,\n",
       "       fill_value=999999,\n",
       "            dtype=int16)"
      ]
     },
     "execution_count": 20,
     "metadata": {},
     "output_type": "execute_result"
    }
   ],
   "source": [
    "vars['year'].getValue()"
   ]
  },
  {
   "cell_type": "code",
   "execution_count": 21,
   "metadata": {},
   "outputs": [
    {
     "data": {
      "text/plain": [
       "2020"
      ]
     },
     "execution_count": 21,
     "metadata": {},
     "output_type": "execute_result"
    }
   ],
   "source": [
    "#use np.item to get scalar values\n",
    "vars['year'].getValue().item()"
   ]
  },
  {
   "cell_type": "code",
   "execution_count": 22,
   "metadata": {},
   "outputs": [
    {
     "data": {
      "text/plain": [
       "-75.47799682617188"
      ]
     },
     "execution_count": 22,
     "metadata": {},
     "output_type": "execute_result"
    }
   ],
   "source": [
    "vars['longitude'].getValue().item()"
   ]
  },
  {
   "cell_type": "code",
   "execution_count": 23,
   "metadata": {},
   "outputs": [
    {
     "data": {
      "text/plain": [
       "0.8999999761581421"
      ]
     },
     "execution_count": 23,
     "metadata": {},
     "output_type": "execute_result"
    }
   ],
   "source": [
    "vars['log_step'].getValue().item()"
   ]
  },
  {
   "cell_type": "code",
   "execution_count": 24,
   "metadata": {},
   "outputs": [
    {
     "data": {
      "text/plain": [
       "1"
      ]
     },
     "execution_count": 24,
     "metadata": {},
     "output_type": "execute_result"
    }
   ],
   "source": [
    "#boolean comes back as int\n",
    "vars['Has_O-mode_power'].getValue().item()"
   ]
  },
  {
   "cell_type": "markdown",
   "metadata": {},
   "source": [
    "### String Variables"
   ]
  },
  {
   "cell_type": "code",
   "execution_count": 25,
   "metadata": {},
   "outputs": [
    {
     "data": {
      "text/plain": [
       "<class 'netCDF4._netCDF4.Variable'>\n",
       "|S1 StationName(DIM064)\n",
       "    description: Station Name\n",
       "unlimited dimensions: \n",
       "current shape = (64,)\n",
       "filling on, default _FillValue of \u0000 used"
      ]
     },
     "execution_count": 25,
     "metadata": {},
     "output_type": "execute_result"
    }
   ],
   "source": [
    "vars['StationName']"
   ]
  },
  {
   "cell_type": "markdown",
   "metadata": {},
   "source": [
    "Note this variable is dimensioned using `DIM064` which is:"
   ]
  },
  {
   "cell_type": "code",
   "execution_count": 26,
   "metadata": {},
   "outputs": [
    {
     "data": {
      "text/plain": [
       "<class 'netCDF4._netCDF4.Dimension'>: name = 'DIM064', size = 64"
      ]
     },
     "execution_count": 26,
     "metadata": {},
     "output_type": "execute_result"
    }
   ],
   "source": [
    "rootgrp.dimensions['DIM064']"
   ]
  },
  {
   "cell_type": "markdown",
   "metadata": {},
   "source": [
    "but the data type is stored with the variable definition:"
   ]
  },
  {
   "cell_type": "code",
   "execution_count": 27,
   "metadata": {},
   "outputs": [
    {
     "data": {
      "text/plain": [
       "dtype('S1')"
      ]
     },
     "execution_count": 27,
     "metadata": {},
     "output_type": "execute_result"
    }
   ],
   "source": [
    "vars['StationName'].dtype"
   ]
  },
  {
   "cell_type": "code",
   "execution_count": 28,
   "metadata": {},
   "outputs": [
    {
     "data": {
      "text/plain": [
       "masked_array(data=[b'W', b'a', b'l', b'l', b'o', b'p', b's', b' ', b'I',\n",
       "                   b's', b'l', b'a', b'n', b'd', b' ', b' ', b' ', b' ',\n",
       "                   b' ', b' ', b' ', b' ', b' ', b' ', b' ', b' ', b' ',\n",
       "                   b' ', b' ', b' ', b' ', b' ', b' ', b' ', b' ', b' ',\n",
       "                   b' ', b' ', b' ', b' ', b' ', b' ', b' ', b' ', b' ',\n",
       "                   b' ', b' ', b' ', b' ', b' ', b' ', b' ', b' ', b' ',\n",
       "                   b' ', b' ', b' ', b' ', b' ', b' ', b' ', b' ', b' ',\n",
       "                   b' '],\n",
       "             mask=False,\n",
       "       fill_value=b'N/A',\n",
       "            dtype='|S1')"
      ]
     },
     "execution_count": 28,
     "metadata": {},
     "output_type": "execute_result"
    }
   ],
   "source": [
    "#pull the value out via slicing\n",
    "vars['StationName'][:]"
   ]
  },
  {
   "cell_type": "code",
   "execution_count": 29,
   "metadata": {},
   "outputs": [
    {
     "data": {
      "text/plain": [
       "'Wallops Island'"
      ]
     },
     "execution_count": 29,
     "metadata": {},
     "output_type": "execute_result"
    }
   ],
   "source": [
    "#to get as a 'normal' python string\n",
    "vars['StationName'][:].tostring().decode('UTF8').strip()"
   ]
  },
  {
   "cell_type": "markdown",
   "metadata": {},
   "source": [
    "Some other string variables:"
   ]
  },
  {
   "cell_type": "code",
   "execution_count": 30,
   "metadata": {},
   "outputs": [
    {
     "data": {
      "text/plain": [
       "'/home/control/run/dg21//station_settings.txt'"
      ]
     },
     "execution_count": 30,
     "metadata": {},
     "output_type": "execute_result"
    }
   ],
   "source": [
    "vars['station_file_id'][:].tostring().decode('UTF8').strip()"
   ]
  },
  {
   "cell_type": "code",
   "execution_count": 31,
   "metadata": {},
   "outputs": [
    {
     "data": {
      "text/plain": [
       "'WI937\\x00\\x00\\x00'"
      ]
     },
     "execution_count": 31,
     "metadata": {},
     "output_type": "execute_result"
    }
   ],
   "source": [
    "vars['URSI'][:].tostring().decode('UTF8').strip()"
   ]
  },
  {
   "cell_type": "markdown",
   "metadata": {},
   "source": [
    "### Data Arrays"
   ]
  },
  {
   "cell_type": "code",
   "execution_count": 32,
   "metadata": {},
   "outputs": [
    {
     "data": {
      "text/plain": [
       "<class 'netCDF4._netCDF4.Variable'>\n",
       "float32 total_power(NumFrequency, NumRange)\n",
       "    description: total received power\n",
       "    units: decibel\n",
       "unlimited dimensions: \n",
       "current shape = (328, 960)\n",
       "filling on, default _FillValue of 9.969209968386869e+36 used"
      ]
     },
     "execution_count": 32,
     "metadata": {},
     "output_type": "execute_result"
    }
   ],
   "source": [
    "vars['total_power']"
   ]
  },
  {
   "cell_type": "code",
   "execution_count": 33,
   "metadata": {},
   "outputs": [],
   "source": [
    "total_power_def=vars['total_power']"
   ]
  },
  {
   "cell_type": "code",
   "execution_count": 34,
   "metadata": {},
   "outputs": [
    {
     "data": {
      "text/plain": [
       "(328, 960)"
      ]
     },
     "execution_count": 34,
     "metadata": {},
     "output_type": "execute_result"
    }
   ],
   "source": [
    "total_power_def.shape"
   ]
  },
  {
   "cell_type": "code",
   "execution_count": 35,
   "metadata": {},
   "outputs": [
    {
     "data": {
      "text/plain": [
       "('NumFrequency', 'NumRange')"
      ]
     },
     "execution_count": 35,
     "metadata": {},
     "output_type": "execute_result"
    }
   ],
   "source": [
    "total_power_def.dimensions"
   ]
  },
  {
   "cell_type": "code",
   "execution_count": 36,
   "metadata": {},
   "outputs": [
    {
     "data": {
      "text/plain": [
       "'NumFrequency'"
      ]
     },
     "execution_count": 36,
     "metadata": {},
     "output_type": "execute_result"
    }
   ],
   "source": [
    "total_power_def.dimensions[0]"
   ]
  },
  {
   "cell_type": "code",
   "execution_count": 37,
   "metadata": {},
   "outputs": [
    {
     "name": "stdout",
     "output_type": "stream",
     "text": [
      "<class 'netCDF4._netCDF4.Dimension'>: name = 'NumFrequency', size = 328\n",
      "\n",
      "<class 'netCDF4._netCDF4.Dimension'>: name = 'NumRange', size = 960\n",
      "\n"
     ]
    }
   ],
   "source": [
    "print(rootgrp.dimensions[total_power_def.dimensions[0]])\n",
    "print(rootgrp.dimensions[total_power_def.dimensions[1]])"
   ]
  },
  {
   "cell_type": "code",
   "execution_count": 38,
   "metadata": {},
   "outputs": [
    {
     "data": {
      "text/plain": [
       "numpy.ma.core.MaskedArray"
      ]
     },
     "execution_count": 38,
     "metadata": {},
     "output_type": "execute_result"
    }
   ],
   "source": [
    "tot_pwr = vars['total_power'][:]\n",
    "\n",
    "type(tot_pwr)"
   ]
  },
  {
   "cell_type": "markdown",
   "metadata": {},
   "source": [
    "So in addition, use numpy `asarray` to get a 'normal' array"
   ]
  },
  {
   "cell_type": "code",
   "execution_count": 39,
   "metadata": {},
   "outputs": [
    {
     "name": "stdout",
     "output_type": "stream",
     "text": [
      "Type: <class 'numpy.ndarray'>, Shape: (328, 960), dtype: float32\n"
     ]
    }
   ],
   "source": [
    "tot_pwr = np.asarray(vars['total_power'][:])\n",
    "type(tot_pwr)\n",
    "print(f'Type: {type(tot_pwr)}, Shape: {tot_pwr.shape}, dtype: {tot_pwr.dtype}')"
   ]
  },
  {
   "cell_type": "markdown",
   "metadata": {},
   "source": [
    "The frequency vector as another example:"
   ]
  },
  {
   "cell_type": "code",
   "execution_count": 40,
   "metadata": {},
   "outputs": [
    {
     "name": "stdout",
     "output_type": "stream",
     "text": [
      "Type: <class 'numpy.ndarray'>, Shape: (328,), dtype: float32\n"
     ]
    }
   ],
   "source": [
    "freq = np.asarray(vars['Frequency'][:])\n",
    "type(freq)\n",
    "print(f'Type: {type(freq)}, Shape: {freq.shape}, dtype: {freq.dtype}')"
   ]
  },
  {
   "cell_type": "markdown",
   "metadata": {},
   "source": [
    "### Frequency is logarithmic\n",
    "\n",
    "The **ratio** of adjacent values in the frequency vector is constant:"
   ]
  },
  {
   "cell_type": "code",
   "execution_count": 41,
   "metadata": {},
   "outputs": [
    {
     "data": {
      "text/plain": [
       "(1.0089949, 1.0089995, 1.0089931)"
      ]
     },
     "execution_count": 41,
     "metadata": {},
     "output_type": "execute_result"
    }
   ],
   "source": [
    "freq[45]/freq[44], freq[300]/freq[299], freq[10]/freq[9]"
   ]
  },
  {
   "cell_type": "markdown",
   "metadata": {},
   "source": [
    "or pretty close to a constant (within 32-bit floating point precision). Using this ratio we can predict frequency values along the frequency axis.  Pick an arbitrary point along the axis:"
   ]
  },
  {
   "cell_type": "code",
   "execution_count": 42,
   "metadata": {},
   "outputs": [
    {
     "name": "stdout",
     "output_type": "stream",
     "text": [
      "Ratio of adjacent frequencies: 1.0090\n"
     ]
    }
   ],
   "source": [
    "#arbitrary 45\n",
    "rate = freq[45]/freq[44]\n",
    "print(f'Ratio of adjacent frequencies: {rate:.4f}')"
   ]
  },
  {
   "cell_type": "markdown",
   "metadata": {},
   "source": [
    "The value of the $i+1$ frequency can be calculated from the $i'th$ value as follows:\n",
    "$$\n",
    "freq_{i+1} = rate * freq_i\n",
    "$$"
   ]
  },
  {
   "cell_type": "code",
   "execution_count": 43,
   "metadata": {},
   "outputs": [
    {
     "name": "stdout",
     "output_type": "stream",
     "text": [
      "Predicted: 22470.3535, Actual: 22470.4551, Percent Error: -0.0005 %\n"
     ]
    }
   ],
   "source": [
    "# predict the 327'th value and compare it to actual\n",
    "i = 327\n",
    "pred = freq[i-1]*rate\n",
    "act = freq[i]\n",
    "print(f'Predicted: {pred:.4f}, Actual: {act:.4f}, Percent Error: {100.0*(pred/act-1):.4f} %')"
   ]
  },
  {
   "cell_type": "markdown",
   "metadata": {},
   "source": [
    "Similarly, we can predict the $i'th$ frequency value from the intial value as follows\n",
    "$$\n",
    "freq_i = freq_0*rate^i\n",
    "$$"
   ]
  },
  {
   "cell_type": "code",
   "execution_count": 44,
   "metadata": {},
   "outputs": [
    {
     "name": "stdout",
     "output_type": "stream",
     "text": [
      "Predicted: 12321.9552, Actual: 12328.7666, Percent Error: -0.0552 %\n"
     ]
    }
   ],
   "source": [
    "i=260 #arbitrary\n",
    "pred = freq[0]*(rate**i)\n",
    "act = freq[i]\n",
    "print(f'Predicted: {pred:.4f}, Actual: {act:.4f}, Percent Error: {100.0*(pred/act-1):.4f} %')"
   ]
  },
  {
   "cell_type": "markdown",
   "metadata": {},
   "source": [
    "**Caution:** The `variables` section contains variables `log_step`, `freq_start` and `freq_end` which don't agree with the adjacent frequency ratio, and the first and last values in the frequency vectors."
   ]
  },
  {
   "cell_type": "markdown",
   "metadata": {},
   "source": [
    "### Range is Linear\n"
   ]
  },
  {
   "cell_type": "code",
   "execution_count": 45,
   "metadata": {},
   "outputs": [
    {
     "name": "stdout",
     "output_type": "stream",
     "text": [
      "Type: <class 'numpy.ndarray'>, Shape: (960,), dtype: float32\n"
     ]
    }
   ],
   "source": [
    "rng = np.asarray(vars['Range'][:])\n",
    "\n",
    "print(f'Type: {type(rng)}, Shape: {rng.shape}, dtype: {rng.dtype}')"
   ]
  },
  {
   "cell_type": "markdown",
   "metadata": {},
   "source": [
    "The **difference** between adjacent points on the range vector is roughly constant:"
   ]
  },
  {
   "cell_type": "code",
   "execution_count": 46,
   "metadata": {},
   "outputs": [
    {
     "data": {
      "text/plain": [
       "(1.4989614, 1.4989624, 1.4989014)"
      ]
     },
     "execution_count": 46,
     "metadata": {},
     "output_type": "execute_result"
    }
   ],
   "source": [
    "rng[10]-rng[9], rng[300]-rng[299], rng[825]-rng[824]"
   ]
  },
  {
   "cell_type": "code",
   "execution_count": 47,
   "metadata": {},
   "outputs": [
    {
     "data": {
      "text/plain": [
       "1.4989624"
      ]
     },
     "execution_count": 47,
     "metadata": {},
     "output_type": "execute_result"
    }
   ],
   "source": [
    "i=400 #arbitrary\n",
    "rng_diff = rng[i]-rng[i-1]\n",
    "rng_diff"
   ]
  },
  {
   "cell_type": "code",
   "execution_count": 48,
   "metadata": {},
   "outputs": [
    {
     "name": "stdout",
     "output_type": "stream",
     "text": [
      "Predicted: 1101.7332, Actual: 1101.7332, Percent Error: 0.0000 %\n"
     ]
    }
   ],
   "source": [
    "# predicting an arbitrary range along the range axis\n",
    "i=738 #arbitrary\n",
    "pred = rng[0]+ (rng_diff*i)\n",
    "act = rng[i]\n",
    "print(f'Predicted: {pred:.4f}, Actual: {act:.4f}, Percent Error: {100.0*(pred/act-1):.4f} %')"
   ]
  },
  {
   "cell_type": "markdown",
   "metadata": {},
   "source": [
    "### Variables and Their Data Types\n",
    "\n",
    "Below are all of the variables and their data types and shapes in the `variables` section"
   ]
  },
  {
   "cell_type": "code",
   "execution_count": 49,
   "metadata": {},
   "outputs": [],
   "source": [
    "#make a data frame for pretty printing\n",
    "df = pd.DataFrame([[v,vars[v].dtype, vars[v].shape,\n",
    "                   '' if 'description' not in vars[v].ncattrs() else getattr(vars[v],'description')] for v in vars],\n",
    "                  columns = ['VariableName','DataType','Shape','Description'])"
   ]
  },
  {
   "cell_type": "code",
   "execution_count": 50,
   "metadata": {},
   "outputs": [],
   "source": [
    "from IPython.display import display"
   ]
  },
  {
   "cell_type": "code",
   "execution_count": 51,
   "metadata": {},
   "outputs": [
    {
     "data": {
      "text/html": [
       "<div>\n",
       "<style scoped>\n",
       "    .dataframe tbody tr th:only-of-type {\n",
       "        vertical-align: middle;\n",
       "    }\n",
       "\n",
       "    .dataframe tbody tr th {\n",
       "        vertical-align: top;\n",
       "    }\n",
       "\n",
       "    .dataframe thead th {\n",
       "        text-align: right;\n",
       "    }\n",
       "</style>\n",
       "<table border=\"1\" class=\"dataframe\">\n",
       "  <thead>\n",
       "    <tr style=\"text-align: right;\">\n",
       "      <th></th>\n",
       "      <th>VariableName</th>\n",
       "      <th>DataType</th>\n",
       "      <th>Shape</th>\n",
       "      <th>Description</th>\n",
       "    </tr>\n",
       "  </thead>\n",
       "  <tbody>\n",
       "    <tr>\n",
       "      <th>0</th>\n",
       "      <td>URSI</td>\n",
       "      <td>|S1</td>\n",
       "      <td>(8,)</td>\n",
       "      <td>URSI station code</td>\n",
       "    </tr>\n",
       "    <tr>\n",
       "      <th>1</th>\n",
       "      <td>StationName</td>\n",
       "      <td>|S1</td>\n",
       "      <td>(64,)</td>\n",
       "      <td>Station Name</td>\n",
       "    </tr>\n",
       "    <tr>\n",
       "      <th>2</th>\n",
       "      <td>year</td>\n",
       "      <td>int16</td>\n",
       "      <td>()</td>\n",
       "      <td></td>\n",
       "    </tr>\n",
       "    <tr>\n",
       "      <th>3</th>\n",
       "      <td>daynumber</td>\n",
       "      <td>int16</td>\n",
       "      <td>()</td>\n",
       "      <td>Day of the Year</td>\n",
       "    </tr>\n",
       "    <tr>\n",
       "      <th>4</th>\n",
       "      <td>month</td>\n",
       "      <td>int16</td>\n",
       "      <td>()</td>\n",
       "      <td></td>\n",
       "    </tr>\n",
       "    <tr>\n",
       "      <th>5</th>\n",
       "      <td>day</td>\n",
       "      <td>int16</td>\n",
       "      <td>()</td>\n",
       "      <td></td>\n",
       "    </tr>\n",
       "    <tr>\n",
       "      <th>6</th>\n",
       "      <td>hour</td>\n",
       "      <td>int16</td>\n",
       "      <td>()</td>\n",
       "      <td></td>\n",
       "    </tr>\n",
       "    <tr>\n",
       "      <th>7</th>\n",
       "      <td>minute</td>\n",
       "      <td>int16</td>\n",
       "      <td>()</td>\n",
       "      <td></td>\n",
       "    </tr>\n",
       "    <tr>\n",
       "      <th>8</th>\n",
       "      <td>second</td>\n",
       "      <td>int16</td>\n",
       "      <td>()</td>\n",
       "      <td></td>\n",
       "    </tr>\n",
       "    <tr>\n",
       "      <th>9</th>\n",
       "      <td>epoch</td>\n",
       "      <td>int32</td>\n",
       "      <td>()</td>\n",
       "      <td>UNIX epoch time</td>\n",
       "    </tr>\n",
       "    <tr>\n",
       "      <th>10</th>\n",
       "      <td>latitude</td>\n",
       "      <td>float32</td>\n",
       "      <td>()</td>\n",
       "      <td>Observation latitude</td>\n",
       "    </tr>\n",
       "    <tr>\n",
       "      <th>11</th>\n",
       "      <td>longitude</td>\n",
       "      <td>float32</td>\n",
       "      <td>()</td>\n",
       "      <td>Observation longitude</td>\n",
       "    </tr>\n",
       "    <tr>\n",
       "      <th>12</th>\n",
       "      <td>altitude</td>\n",
       "      <td>float32</td>\n",
       "      <td>()</td>\n",
       "      <td>Observation altitude above Mean Sea Level</td>\n",
       "    </tr>\n",
       "    <tr>\n",
       "      <th>13</th>\n",
       "      <td>MagLat</td>\n",
       "      <td>float32</td>\n",
       "      <td>()</td>\n",
       "      <td>Station Magnetic Latitude</td>\n",
       "    </tr>\n",
       "    <tr>\n",
       "      <th>14</th>\n",
       "      <td>MagLon</td>\n",
       "      <td>float32</td>\n",
       "      <td>()</td>\n",
       "      <td>Station Magnetic Longitude</td>\n",
       "    </tr>\n",
       "    <tr>\n",
       "      <th>15</th>\n",
       "      <td>MagDip</td>\n",
       "      <td>float32</td>\n",
       "      <td>()</td>\n",
       "      <td>Station Magnetic Dip</td>\n",
       "    </tr>\n",
       "    <tr>\n",
       "      <th>16</th>\n",
       "      <td>GyroFreq</td>\n",
       "      <td>float32</td>\n",
       "      <td>()</td>\n",
       "      <td>Station GyroFrequency at 300 km altitude</td>\n",
       "    </tr>\n",
       "    <tr>\n",
       "      <th>17</th>\n",
       "      <td>pri</td>\n",
       "      <td>float32</td>\n",
       "      <td>()</td>\n",
       "      <td>Pulse Repetition Interval</td>\n",
       "    </tr>\n",
       "    <tr>\n",
       "      <th>18</th>\n",
       "      <td>range_gate_offset</td>\n",
       "      <td>float32</td>\n",
       "      <td>()</td>\n",
       "      <td>Range Gate Ofset</td>\n",
       "    </tr>\n",
       "    <tr>\n",
       "      <th>19</th>\n",
       "      <td>gate_count</td>\n",
       "      <td>int32</td>\n",
       "      <td>()</td>\n",
       "      <td>Number of Range Gates</td>\n",
       "    </tr>\n",
       "    <tr>\n",
       "      <th>20</th>\n",
       "      <td>gate_start</td>\n",
       "      <td>float32</td>\n",
       "      <td>()</td>\n",
       "      <td>start range gate placement</td>\n",
       "    </tr>\n",
       "    <tr>\n",
       "      <th>21</th>\n",
       "      <td>gate_end</td>\n",
       "      <td>float32</td>\n",
       "      <td>()</td>\n",
       "      <td>end range gate placement</td>\n",
       "    </tr>\n",
       "    <tr>\n",
       "      <th>22</th>\n",
       "      <td>gate_step</td>\n",
       "      <td>float32</td>\n",
       "      <td>()</td>\n",
       "      <td>range gate spacing</td>\n",
       "    </tr>\n",
       "    <tr>\n",
       "      <th>23</th>\n",
       "      <td>Range0</td>\n",
       "      <td>float32</td>\n",
       "      <td>()</td>\n",
       "      <td>Range of the 0th range gate</td>\n",
       "    </tr>\n",
       "    <tr>\n",
       "      <th>24</th>\n",
       "      <td>freq_start</td>\n",
       "      <td>float32</td>\n",
       "      <td>()</td>\n",
       "      <td>lower frequency</td>\n",
       "    </tr>\n",
       "    <tr>\n",
       "      <th>25</th>\n",
       "      <td>freq_end</td>\n",
       "      <td>float32</td>\n",
       "      <td>()</td>\n",
       "      <td>upper frequency</td>\n",
       "    </tr>\n",
       "    <tr>\n",
       "      <th>26</th>\n",
       "      <td>tune_type</td>\n",
       "      <td>int32</td>\n",
       "      <td>()</td>\n",
       "      <td>tuning method</td>\n",
       "    </tr>\n",
       "    <tr>\n",
       "      <th>27</th>\n",
       "      <td>freq_count</td>\n",
       "      <td>float32</td>\n",
       "      <td>()</td>\n",
       "      <td>number of base frequencies</td>\n",
       "    </tr>\n",
       "    <tr>\n",
       "      <th>28</th>\n",
       "      <td>linear_step</td>\n",
       "      <td>float32</td>\n",
       "      <td>()</td>\n",
       "      <td>linear tuning step</td>\n",
       "    </tr>\n",
       "    <tr>\n",
       "      <th>29</th>\n",
       "      <td>log_step</td>\n",
       "      <td>float32</td>\n",
       "      <td>()</td>\n",
       "      <td>logarithmic tuning step</td>\n",
       "    </tr>\n",
       "    <tr>\n",
       "      <th>30</th>\n",
       "      <td>Magic</td>\n",
       "      <td>int32</td>\n",
       "      <td>()</td>\n",
       "      <td>File Identification number for RIQ raw data fo...</td>\n",
       "    </tr>\n",
       "    <tr>\n",
       "      <th>31</th>\n",
       "      <td>SCT_version</td>\n",
       "      <td>float32</td>\n",
       "      <td>()</td>\n",
       "      <td>version indicator for sounding configuration t...</td>\n",
       "    </tr>\n",
       "    <tr>\n",
       "      <th>32</th>\n",
       "      <td>SCT_readme</td>\n",
       "      <td>|S1</td>\n",
       "      <td>(128,)</td>\n",
       "      <td>operator comments</td>\n",
       "    </tr>\n",
       "    <tr>\n",
       "      <th>33</th>\n",
       "      <td>SCT_user</td>\n",
       "      <td>|S1</td>\n",
       "      <td>(128,)</td>\n",
       "      <td>SCT user-defined field</td>\n",
       "    </tr>\n",
       "    <tr>\n",
       "      <th>34</th>\n",
       "      <td>decimation_method</td>\n",
       "      <td>int32</td>\n",
       "      <td>()</td>\n",
       "      <td>decimation method</td>\n",
       "    </tr>\n",
       "    <tr>\n",
       "      <th>35</th>\n",
       "      <td>decimation_threshold</td>\n",
       "      <td>float32</td>\n",
       "      <td>()</td>\n",
       "      <td>threshold parameter for decimation method</td>\n",
       "    </tr>\n",
       "    <tr>\n",
       "      <th>36</th>\n",
       "      <td>station_file_id</td>\n",
       "      <td>|S1</td>\n",
       "      <td>(64,)</td>\n",
       "      <td>name of station settings file</td>\n",
       "    </tr>\n",
       "    <tr>\n",
       "      <th>37</th>\n",
       "      <td>rx_name</td>\n",
       "      <td>|S1</td>\n",
       "      <td>(32,)</td>\n",
       "      <td>receiver station name</td>\n",
       "    </tr>\n",
       "    <tr>\n",
       "      <th>38</th>\n",
       "      <td>rx_latitude</td>\n",
       "      <td>float32</td>\n",
       "      <td>()</td>\n",
       "      <td>receiver latitude</td>\n",
       "    </tr>\n",
       "    <tr>\n",
       "      <th>39</th>\n",
       "      <td>rx_longitude</td>\n",
       "      <td>float32</td>\n",
       "      <td>()</td>\n",
       "      <td>receiver longitude</td>\n",
       "    </tr>\n",
       "    <tr>\n",
       "      <th>40</th>\n",
       "      <td>rx_altitude</td>\n",
       "      <td>float32</td>\n",
       "      <td>()</td>\n",
       "      <td>receiver altitude above mean sea level</td>\n",
       "    </tr>\n",
       "    <tr>\n",
       "      <th>41</th>\n",
       "      <td>rx_count</td>\n",
       "      <td>int32</td>\n",
       "      <td>()</td>\n",
       "      <td>numer of receive antennas</td>\n",
       "    </tr>\n",
       "    <tr>\n",
       "      <th>42</th>\n",
       "      <td>rx_antenna_type</td>\n",
       "      <td>|S1</td>\n",
       "      <td>(32, 32)</td>\n",
       "      <td>receive antenna type</td>\n",
       "    </tr>\n",
       "    <tr>\n",
       "      <th>43</th>\n",
       "      <td>rx_position</td>\n",
       "      <td>float32</td>\n",
       "      <td>(32, 3)</td>\n",
       "      <td>X,Y,Z = (East,North,Up) position of receive an...</td>\n",
       "    </tr>\n",
       "    <tr>\n",
       "      <th>44</th>\n",
       "      <td>rx_direction</td>\n",
       "      <td>float32</td>\n",
       "      <td>(32, 3)</td>\n",
       "      <td>X,Y,Z = (East,North,Up) direction of receive a...</td>\n",
       "    </tr>\n",
       "    <tr>\n",
       "      <th>45</th>\n",
       "      <td>rx_height</td>\n",
       "      <td>float32</td>\n",
       "      <td>(32,)</td>\n",
       "      <td>receive antenna height above ground</td>\n",
       "    </tr>\n",
       "    <tr>\n",
       "      <th>46</th>\n",
       "      <td>rx_cable_length</td>\n",
       "      <td>float32</td>\n",
       "      <td>(32,)</td>\n",
       "      <td>length of receive cables</td>\n",
       "    </tr>\n",
       "    <tr>\n",
       "      <th>47</th>\n",
       "      <td>frontend_atten</td>\n",
       "      <td>float32</td>\n",
       "      <td>()</td>\n",
       "      <td>attenuation of the front end chassis</td>\n",
       "    </tr>\n",
       "    <tr>\n",
       "      <th>48</th>\n",
       "      <td>tx_name</td>\n",
       "      <td>|S1</td>\n",
       "      <td>(32,)</td>\n",
       "      <td>transmitter station name</td>\n",
       "    </tr>\n",
       "    <tr>\n",
       "      <th>49</th>\n",
       "      <td>tx_latitude</td>\n",
       "      <td>float32</td>\n",
       "      <td>()</td>\n",
       "      <td>tramsmitter latitude</td>\n",
       "    </tr>\n",
       "    <tr>\n",
       "      <th>50</th>\n",
       "      <td>tx_longitude</td>\n",
       "      <td>float32</td>\n",
       "      <td>()</td>\n",
       "      <td>transmitter longitude</td>\n",
       "    </tr>\n",
       "    <tr>\n",
       "      <th>51</th>\n",
       "      <td>tx_altitude</td>\n",
       "      <td>float32</td>\n",
       "      <td>()</td>\n",
       "      <td>transmit altitude above Mean Sea Level</td>\n",
       "    </tr>\n",
       "    <tr>\n",
       "      <th>52</th>\n",
       "      <td>tx_antenna_type</td>\n",
       "      <td>|S1</td>\n",
       "      <td>(32,)</td>\n",
       "      <td>transmit antenna type</td>\n",
       "    </tr>\n",
       "    <tr>\n",
       "      <th>53</th>\n",
       "      <td>tx_vector</td>\n",
       "      <td>float32</td>\n",
       "      <td>()</td>\n",
       "      <td>X,Y,Z = (East,North,Up) direction of transmit ...</td>\n",
       "    </tr>\n",
       "    <tr>\n",
       "      <th>54</th>\n",
       "      <td>tx_height</td>\n",
       "      <td>float32</td>\n",
       "      <td>()</td>\n",
       "      <td>transmit antenna height above ground</td>\n",
       "    </tr>\n",
       "    <tr>\n",
       "      <th>55</th>\n",
       "      <td>tx_cable_length</td>\n",
       "      <td>float32</td>\n",
       "      <td>()</td>\n",
       "      <td>length of transmit cable</td>\n",
       "    </tr>\n",
       "    <tr>\n",
       "      <th>56</th>\n",
       "      <td>drive_band_count</td>\n",
       "      <td>int32</td>\n",
       "      <td>()</td>\n",
       "      <td>numer of drive bands for the transmit antenna</td>\n",
       "    </tr>\n",
       "    <tr>\n",
       "      <th>57</th>\n",
       "      <td>drive_band_bounds</td>\n",
       "      <td>float32</td>\n",
       "      <td>(64, 2)</td>\n",
       "      <td>drive band boundaries</td>\n",
       "    </tr>\n",
       "    <tr>\n",
       "      <th>58</th>\n",
       "      <td>drive_band_atten</td>\n",
       "      <td>float32</td>\n",
       "      <td>(64,)</td>\n",
       "      <td>drive attenuation</td>\n",
       "    </tr>\n",
       "    <tr>\n",
       "      <th>59</th>\n",
       "      <td>rf_control</td>\n",
       "      <td>int32</td>\n",
       "      <td>()</td>\n",
       "      <td>transmitter control flag</td>\n",
       "    </tr>\n",
       "    <tr>\n",
       "      <th>60</th>\n",
       "      <td>ref_type</td>\n",
       "      <td>|S1</td>\n",
       "      <td>(32,)</td>\n",
       "      <td>type of reference oscillator</td>\n",
       "    </tr>\n",
       "    <tr>\n",
       "      <th>61</th>\n",
       "      <td>clock_type</td>\n",
       "      <td>|S1</td>\n",
       "      <td>(32,)</td>\n",
       "      <td>source of absolute timing</td>\n",
       "    </tr>\n",
       "    <tr>\n",
       "      <th>62</th>\n",
       "      <td>station_user</td>\n",
       "      <td>|S1</td>\n",
       "      <td>(128,)</td>\n",
       "      <td>Spare space for user-defined information</td>\n",
       "    </tr>\n",
       "    <tr>\n",
       "      <th>63</th>\n",
       "      <td>timing_file_id</td>\n",
       "      <td>|S1</td>\n",
       "      <td>(64,)</td>\n",
       "      <td>name of timing settings file</td>\n",
       "    </tr>\n",
       "    <tr>\n",
       "      <th>64</th>\n",
       "      <td>pri_count</td>\n",
       "      <td>int32</td>\n",
       "      <td>()</td>\n",
       "      <td>number of pulse repetition intervals</td>\n",
       "    </tr>\n",
       "    <tr>\n",
       "      <th>65</th>\n",
       "      <td>ionogram_count</td>\n",
       "      <td>int32</td>\n",
       "      <td>()</td>\n",
       "      <td>number of ionogram sweeps</td>\n",
       "    </tr>\n",
       "    <tr>\n",
       "      <th>66</th>\n",
       "      <td>holdoff</td>\n",
       "      <td>float32</td>\n",
       "      <td>()</td>\n",
       "      <td>time between GPS reference time and ionogram s...</td>\n",
       "    </tr>\n",
       "    <tr>\n",
       "      <th>67</th>\n",
       "      <td>data_start</td>\n",
       "      <td>float32</td>\n",
       "      <td>()</td>\n",
       "      <td>data range placement start</td>\n",
       "    </tr>\n",
       "    <tr>\n",
       "      <th>68</th>\n",
       "      <td>date_width</td>\n",
       "      <td>float32</td>\n",
       "      <td>()</td>\n",
       "      <td>data pulse baud width</td>\n",
       "    </tr>\n",
       "    <tr>\n",
       "      <th>69</th>\n",
       "      <td>data_baud_count</td>\n",
       "      <td>int32</td>\n",
       "      <td>()</td>\n",
       "      <td>data pulse baud count</td>\n",
       "    </tr>\n",
       "    <tr>\n",
       "      <th>70</th>\n",
       "      <td>data_wave_file</td>\n",
       "      <td>|S1</td>\n",
       "      <td>(64,)</td>\n",
       "      <td>data baud pattern file name</td>\n",
       "    </tr>\n",
       "    <tr>\n",
       "      <th>71</th>\n",
       "      <td>data_baud</td>\n",
       "      <td>float32</td>\n",
       "      <td>(1024, 2)</td>\n",
       "      <td>data waveform baud pattern</td>\n",
       "    </tr>\n",
       "    <tr>\n",
       "      <th>72</th>\n",
       "      <td>data_pairs</td>\n",
       "      <td>int32</td>\n",
       "      <td>()</td>\n",
       "      <td>number of data I/Q values in waveform memory</td>\n",
       "    </tr>\n",
       "    <tr>\n",
       "      <th>73</th>\n",
       "      <td>cal_start</td>\n",
       "      <td>float32</td>\n",
       "      <td>()</td>\n",
       "      <td>calibration range placement start</td>\n",
       "    </tr>\n",
       "    <tr>\n",
       "      <th>74</th>\n",
       "      <td>cal_width</td>\n",
       "      <td>float32</td>\n",
       "      <td>()</td>\n",
       "      <td>calibration pulse baud width</td>\n",
       "    </tr>\n",
       "    <tr>\n",
       "      <th>75</th>\n",
       "      <td>cal_baud_count</td>\n",
       "      <td>int32</td>\n",
       "      <td>()</td>\n",
       "      <td>calibration pulse baud count</td>\n",
       "    </tr>\n",
       "    <tr>\n",
       "      <th>76</th>\n",
       "      <td>cal_wave_file</td>\n",
       "      <td>|S1</td>\n",
       "      <td>(64,)</td>\n",
       "      <td>calibration baud pattern file name</td>\n",
       "    </tr>\n",
       "    <tr>\n",
       "      <th>77</th>\n",
       "      <td>cal_baud</td>\n",
       "      <td>float32</td>\n",
       "      <td>(1024, 2)</td>\n",
       "      <td>calibration waveform baud pattern</td>\n",
       "    </tr>\n",
       "    <tr>\n",
       "      <th>78</th>\n",
       "      <td>cal_pairs</td>\n",
       "      <td>int32</td>\n",
       "      <td>()</td>\n",
       "      <td>number of calibration I/Q values in waveform m...</td>\n",
       "    </tr>\n",
       "    <tr>\n",
       "      <th>79</th>\n",
       "      <td>timing_user</td>\n",
       "      <td>|S1</td>\n",
       "      <td>(128,)</td>\n",
       "      <td>Spare space for user-defined information</td>\n",
       "    </tr>\n",
       "    <tr>\n",
       "      <th>80</th>\n",
       "      <td>frequency_file_id</td>\n",
       "      <td>|S1</td>\n",
       "      <td>(64,)</td>\n",
       "      <td>name of frequency settings file</td>\n",
       "    </tr>\n",
       "    <tr>\n",
       "      <th>81</th>\n",
       "      <td>base_steps</td>\n",
       "      <td>int32</td>\n",
       "      <td>()</td>\n",
       "      <td>number of base frequencies</td>\n",
       "    </tr>\n",
       "    <tr>\n",
       "      <th>82</th>\n",
       "      <td>base_table</td>\n",
       "      <td>float32</td>\n",
       "      <td>(8192,)</td>\n",
       "      <td>base frequency table</td>\n",
       "    </tr>\n",
       "    <tr>\n",
       "      <th>83</th>\n",
       "      <td>frequency_table_id</td>\n",
       "      <td>|S1</td>\n",
       "      <td>(64,)</td>\n",
       "      <td>manual tuning file name</td>\n",
       "    </tr>\n",
       "    <tr>\n",
       "      <th>84</th>\n",
       "      <td>tune_steps</td>\n",
       "      <td>int32</td>\n",
       "      <td>()</td>\n",
       "      <td>number of frequencies, pre-ramp repeats</td>\n",
       "    </tr>\n",
       "    <tr>\n",
       "      <th>85</th>\n",
       "      <td>pulse_count</td>\n",
       "      <td>int32</td>\n",
       "      <td>()</td>\n",
       "      <td>pulset frequency vector length</td>\n",
       "    </tr>\n",
       "    <tr>\n",
       "      <th>86</th>\n",
       "      <td>pulse_pattern</td>\n",
       "      <td>int32</td>\n",
       "      <td>(256,)</td>\n",
       "      <td>pulset frequency vector</td>\n",
       "    </tr>\n",
       "    <tr>\n",
       "      <th>87</th>\n",
       "      <td>pulse_offset</td>\n",
       "      <td>int32</td>\n",
       "      <td>(256,)</td>\n",
       "      <td>pulset frequency multiplier</td>\n",
       "    </tr>\n",
       "    <tr>\n",
       "      <th>88</th>\n",
       "      <td>ramp_steps</td>\n",
       "      <td>int32</td>\n",
       "      <td>()</td>\n",
       "      <td>pulsets per B-mode ramp (ramp length, base fre...</td>\n",
       "    </tr>\n",
       "    <tr>\n",
       "      <th>89</th>\n",
       "      <td>ramp_repeats</td>\n",
       "      <td>int32</td>\n",
       "      <td>()</td>\n",
       "      <td>repeat count of B-mode ramps</td>\n",
       "    </tr>\n",
       "    <tr>\n",
       "      <th>90</th>\n",
       "      <td>drive_table</td>\n",
       "      <td>float32</td>\n",
       "      <td>(8192,)</td>\n",
       "      <td>base frequencies attenuation/silent table</td>\n",
       "    </tr>\n",
       "    <tr>\n",
       "      <th>91</th>\n",
       "      <td>frequency_user</td>\n",
       "      <td>|S1</td>\n",
       "      <td>(128,)</td>\n",
       "      <td>Spare space for user-defined information</td>\n",
       "    </tr>\n",
       "    <tr>\n",
       "      <th>92</th>\n",
       "      <td>receiver_file_id</td>\n",
       "      <td>|S1</td>\n",
       "      <td>(64,)</td>\n",
       "      <td>name of receiver settings file</td>\n",
       "    </tr>\n",
       "    <tr>\n",
       "      <th>93</th>\n",
       "      <td>rx_chan</td>\n",
       "      <td>int32</td>\n",
       "      <td>()</td>\n",
       "      <td>number of receivers</td>\n",
       "    </tr>\n",
       "    <tr>\n",
       "      <th>94</th>\n",
       "      <td>rx_map</td>\n",
       "      <td>int32</td>\n",
       "      <td>(16,)</td>\n",
       "      <td>receiver to antenna mapping</td>\n",
       "    </tr>\n",
       "    <tr>\n",
       "      <th>95</th>\n",
       "      <td>word_format</td>\n",
       "      <td>int32</td>\n",
       "      <td>()</td>\n",
       "      <td>data word format</td>\n",
       "    </tr>\n",
       "    <tr>\n",
       "      <th>96</th>\n",
       "      <td>rx_cic2_dec</td>\n",
       "      <td>int32</td>\n",
       "      <td>()</td>\n",
       "      <td>DDC filter cic2 decimation factor</td>\n",
       "    </tr>\n",
       "    <tr>\n",
       "      <th>97</th>\n",
       "      <td>rx_cic2_interp</td>\n",
       "      <td>int32</td>\n",
       "      <td>()</td>\n",
       "      <td>DDC filter cic2 interpolation factor</td>\n",
       "    </tr>\n",
       "    <tr>\n",
       "      <th>98</th>\n",
       "      <td>rx_cic2_scale</td>\n",
       "      <td>int32</td>\n",
       "      <td>()</td>\n",
       "      <td>DDC filter cic2 scale factor</td>\n",
       "    </tr>\n",
       "    <tr>\n",
       "      <th>99</th>\n",
       "      <td>rx_cic5_dec</td>\n",
       "      <td>int32</td>\n",
       "      <td>()</td>\n",
       "      <td>DDC filter cic5 decimation factor</td>\n",
       "    </tr>\n",
       "    <tr>\n",
       "      <th>100</th>\n",
       "      <td>rx_cic5_scale</td>\n",
       "      <td>int32</td>\n",
       "      <td>()</td>\n",
       "      <td>DDC filter cic5 scale factor</td>\n",
       "    </tr>\n",
       "    <tr>\n",
       "      <th>101</th>\n",
       "      <td>rx_rcf_type</td>\n",
       "      <td>|S1</td>\n",
       "      <td>(32,)</td>\n",
       "      <td>text descriptor of FIR filter block</td>\n",
       "    </tr>\n",
       "    <tr>\n",
       "      <th>102</th>\n",
       "      <td>rx_rcf_dec</td>\n",
       "      <td>int32</td>\n",
       "      <td>()</td>\n",
       "      <td>decimation factor for FIR filter block</td>\n",
       "    </tr>\n",
       "    <tr>\n",
       "      <th>103</th>\n",
       "      <td>rx_rcf_taps</td>\n",
       "      <td>int32</td>\n",
       "      <td>()</td>\n",
       "      <td>number of taps in FIR filter block</td>\n",
       "    </tr>\n",
       "    <tr>\n",
       "      <th>104</th>\n",
       "      <td>rx_coefficients</td>\n",
       "      <td>int32</td>\n",
       "      <td>(160,)</td>\n",
       "      <td>Receiver filter coefficients</td>\n",
       "    </tr>\n",
       "    <tr>\n",
       "      <th>105</th>\n",
       "      <td>rx_analog_delay</td>\n",
       "      <td>float32</td>\n",
       "      <td>()</td>\n",
       "      <td>analog delay of receiver</td>\n",
       "    </tr>\n",
       "    <tr>\n",
       "      <th>106</th>\n",
       "      <td>receiver_user</td>\n",
       "      <td>|S1</td>\n",
       "      <td>(128,)</td>\n",
       "      <td>Spare space for user-defined information</td>\n",
       "    </tr>\n",
       "    <tr>\n",
       "      <th>107</th>\n",
       "      <td>exciter_file_id</td>\n",
       "      <td>|S1</td>\n",
       "      <td>(64,)</td>\n",
       "      <td>name of  settings file</td>\n",
       "    </tr>\n",
       "    <tr>\n",
       "      <th>108</th>\n",
       "      <td>ex_cic2_scale</td>\n",
       "      <td>int32</td>\n",
       "      <td>()</td>\n",
       "      <td>DUC filter cic2 scale factor</td>\n",
       "    </tr>\n",
       "    <tr>\n",
       "      <th>109</th>\n",
       "      <td>ex_cic2_dec</td>\n",
       "      <td>int32</td>\n",
       "      <td>()</td>\n",
       "      <td>DUC filter cic2 decimation factor</td>\n",
       "    </tr>\n",
       "    <tr>\n",
       "      <th>110</th>\n",
       "      <td>ex_cic2_interp</td>\n",
       "      <td>int32</td>\n",
       "      <td>()</td>\n",
       "      <td>DUC filter cic2 interpolation factor</td>\n",
       "    </tr>\n",
       "    <tr>\n",
       "      <th>111</th>\n",
       "      <td>ex_cic5_interp</td>\n",
       "      <td>int32</td>\n",
       "      <td>()</td>\n",
       "      <td>DUC filter cic5 interpolation factor</td>\n",
       "    </tr>\n",
       "    <tr>\n",
       "      <th>112</th>\n",
       "      <td>ex_rcf_type</td>\n",
       "      <td>|S1</td>\n",
       "      <td>(32,)</td>\n",
       "      <td>text descriptor of FIR filter block</td>\n",
       "    </tr>\n",
       "    <tr>\n",
       "      <th>113</th>\n",
       "      <td>ex_rcf_taps</td>\n",
       "      <td>int32</td>\n",
       "      <td>()</td>\n",
       "      <td>number of taps in FIR filter block</td>\n",
       "    </tr>\n",
       "    <tr>\n",
       "      <th>114</th>\n",
       "      <td>ex_rcf_taps_phase</td>\n",
       "      <td>int32</td>\n",
       "      <td>()</td>\n",
       "      <td>exciter phase</td>\n",
       "    </tr>\n",
       "    <tr>\n",
       "      <th>115</th>\n",
       "      <td>ex_coefficients</td>\n",
       "      <td>int32</td>\n",
       "      <td>(256,)</td>\n",
       "      <td>Exciter filter coefficients</td>\n",
       "    </tr>\n",
       "    <tr>\n",
       "      <th>116</th>\n",
       "      <td>ex_analog_delay</td>\n",
       "      <td>float32</td>\n",
       "      <td>()</td>\n",
       "      <td>analog delay of exciter</td>\n",
       "    </tr>\n",
       "    <tr>\n",
       "      <th>117</th>\n",
       "      <td>exciter_user</td>\n",
       "      <td>|S1</td>\n",
       "      <td>(128,)</td>\n",
       "      <td></td>\n",
       "    </tr>\n",
       "    <tr>\n",
       "      <th>118</th>\n",
       "      <td>balun_currents</td>\n",
       "      <td>int32</td>\n",
       "      <td>(8,)</td>\n",
       "      <td>Balun chassis current monitor</td>\n",
       "    </tr>\n",
       "    <tr>\n",
       "      <th>119</th>\n",
       "      <td>balun_status</td>\n",
       "      <td>int32</td>\n",
       "      <td>(8,)</td>\n",
       "      <td>Balun chassis status monitor</td>\n",
       "    </tr>\n",
       "    <tr>\n",
       "      <th>120</th>\n",
       "      <td>frontend_status</td>\n",
       "      <td>int32</td>\n",
       "      <td>(8,)</td>\n",
       "      <td>Front End chassis status monitor</td>\n",
       "    </tr>\n",
       "    <tr>\n",
       "      <th>121</th>\n",
       "      <td>receiver_status</td>\n",
       "      <td>int32</td>\n",
       "      <td>(8,)</td>\n",
       "      <td>Receiver chassis status monitor</td>\n",
       "    </tr>\n",
       "    <tr>\n",
       "      <th>122</th>\n",
       "      <td>exciter_status</td>\n",
       "      <td>int32</td>\n",
       "      <td>(8,)</td>\n",
       "      <td>Exciter chassis status monitor</td>\n",
       "    </tr>\n",
       "    <tr>\n",
       "      <th>123</th>\n",
       "      <td>monitor_user</td>\n",
       "      <td>|S1</td>\n",
       "      <td>(512,)</td>\n",
       "      <td>Spare space for user-defined information</td>\n",
       "    </tr>\n",
       "    <tr>\n",
       "      <th>124</th>\n",
       "      <td>SCT</td>\n",
       "      <td>int8</td>\n",
       "      <td>(90076,)</td>\n",
       "      <td>VIPIR Sounding Configuration Table</td>\n",
       "    </tr>\n",
       "    <tr>\n",
       "      <th>125</th>\n",
       "      <td>PREFACE</td>\n",
       "      <td>int8</td>\n",
       "      <td>(77,)</td>\n",
       "      <td>Digisonde Preface</td>\n",
       "    </tr>\n",
       "    <tr>\n",
       "      <th>126</th>\n",
       "      <td>Range</td>\n",
       "      <td>float32</td>\n",
       "      <td>(960,)</td>\n",
       "      <td>Radar Range</td>\n",
       "    </tr>\n",
       "    <tr>\n",
       "      <th>127</th>\n",
       "      <td>Frequency</td>\n",
       "      <td>float32</td>\n",
       "      <td>(328,)</td>\n",
       "      <td>Nominal Frequency</td>\n",
       "    </tr>\n",
       "    <tr>\n",
       "      <th>128</th>\n",
       "      <td>Time</td>\n",
       "      <td>float32</td>\n",
       "      <td>(328,)</td>\n",
       "      <td>Nominal Observation Time, UT</td>\n",
       "    </tr>\n",
       "    <tr>\n",
       "      <th>129</th>\n",
       "      <td>TxDrive</td>\n",
       "      <td>float32</td>\n",
       "      <td>(328,)</td>\n",
       "      <td>Transmitter Drive Level</td>\n",
       "    </tr>\n",
       "    <tr>\n",
       "      <th>130</th>\n",
       "      <td>NumAve</td>\n",
       "      <td>int32</td>\n",
       "      <td>(328,)</td>\n",
       "      <td>Number of PRIs and Receivers included</td>\n",
       "    </tr>\n",
       "    <tr>\n",
       "      <th>131</th>\n",
       "      <td>Has_total_power</td>\n",
       "      <td>int8</td>\n",
       "      <td>()</td>\n",
       "      <td>Flag indicating presence of total power data</td>\n",
       "    </tr>\n",
       "    <tr>\n",
       "      <th>132</th>\n",
       "      <td>total_power</td>\n",
       "      <td>float32</td>\n",
       "      <td>(328, 960)</td>\n",
       "      <td>total received power</td>\n",
       "    </tr>\n",
       "    <tr>\n",
       "      <th>133</th>\n",
       "      <td>total_noise</td>\n",
       "      <td>float32</td>\n",
       "      <td>(328,)</td>\n",
       "      <td>Total Power Noise Level</td>\n",
       "    </tr>\n",
       "    <tr>\n",
       "      <th>134</th>\n",
       "      <td>Has_O-mode_power</td>\n",
       "      <td>int8</td>\n",
       "      <td>()</td>\n",
       "      <td>Flag indicating presence of O-mode power data</td>\n",
       "    </tr>\n",
       "    <tr>\n",
       "      <th>135</th>\n",
       "      <td>O-mode_power</td>\n",
       "      <td>float32</td>\n",
       "      <td>(328, 960)</td>\n",
       "      <td>Ordinary mode received power</td>\n",
       "    </tr>\n",
       "    <tr>\n",
       "      <th>136</th>\n",
       "      <td>O-mode_noise</td>\n",
       "      <td>float32</td>\n",
       "      <td>(328,)</td>\n",
       "      <td>Ordinary mode Noise Level</td>\n",
       "    </tr>\n",
       "    <tr>\n",
       "      <th>137</th>\n",
       "      <td>Has_X-mode_power</td>\n",
       "      <td>int8</td>\n",
       "      <td>()</td>\n",
       "      <td>Flag indicating presence of X-mode power data</td>\n",
       "    </tr>\n",
       "    <tr>\n",
       "      <th>138</th>\n",
       "      <td>X-mode_power</td>\n",
       "      <td>float32</td>\n",
       "      <td>(328, 960)</td>\n",
       "      <td>eXtraordinary mode received power</td>\n",
       "    </tr>\n",
       "    <tr>\n",
       "      <th>139</th>\n",
       "      <td>X-mode_noise</td>\n",
       "      <td>float32</td>\n",
       "      <td>(328,)</td>\n",
       "      <td>eXtraordiary mode Noise Level</td>\n",
       "    </tr>\n",
       "    <tr>\n",
       "      <th>140</th>\n",
       "      <td>Has_VLoS</td>\n",
       "      <td>int8</td>\n",
       "      <td>()</td>\n",
       "      <td>Flag indicating presence of Line of Sight Velo...</td>\n",
       "    </tr>\n",
       "    <tr>\n",
       "      <th>141</th>\n",
       "      <td>Has_Doppler</td>\n",
       "      <td>int8</td>\n",
       "      <td>()</td>\n",
       "      <td>Flag indicating presence of Doppler data</td>\n",
       "    </tr>\n",
       "    <tr>\n",
       "      <th>142</th>\n",
       "      <td>Has_SPGR</td>\n",
       "      <td>int8</td>\n",
       "      <td>()</td>\n",
       "      <td>Flag indicating presence of SPGR data</td>\n",
       "    </tr>\n",
       "    <tr>\n",
       "      <th>143</th>\n",
       "      <td>Has_Zenith</td>\n",
       "      <td>int8</td>\n",
       "      <td>()</td>\n",
       "      <td>Flag indicating presence of zenith angle data</td>\n",
       "    </tr>\n",
       "    <tr>\n",
       "      <th>144</th>\n",
       "      <td>Has_Azimuth</td>\n",
       "      <td>int8</td>\n",
       "      <td>()</td>\n",
       "      <td>Flag indicating presence of azimuth angle data</td>\n",
       "    </tr>\n",
       "    <tr>\n",
       "      <th>145</th>\n",
       "      <td>Has_Coherence</td>\n",
       "      <td>int8</td>\n",
       "      <td>()</td>\n",
       "      <td>Flag indicating presence of coherence data</td>\n",
       "    </tr>\n",
       "  </tbody>\n",
       "</table>\n",
       "</div>"
      ],
      "text/plain": [
       "             VariableName DataType       Shape  \\\n",
       "0                    URSI      |S1        (8,)   \n",
       "1             StationName      |S1       (64,)   \n",
       "2                    year    int16          ()   \n",
       "3               daynumber    int16          ()   \n",
       "4                   month    int16          ()   \n",
       "5                     day    int16          ()   \n",
       "6                    hour    int16          ()   \n",
       "7                  minute    int16          ()   \n",
       "8                  second    int16          ()   \n",
       "9                   epoch    int32          ()   \n",
       "10               latitude  float32          ()   \n",
       "11              longitude  float32          ()   \n",
       "12               altitude  float32          ()   \n",
       "13                 MagLat  float32          ()   \n",
       "14                 MagLon  float32          ()   \n",
       "15                 MagDip  float32          ()   \n",
       "16               GyroFreq  float32          ()   \n",
       "17                    pri  float32          ()   \n",
       "18      range_gate_offset  float32          ()   \n",
       "19             gate_count    int32          ()   \n",
       "20             gate_start  float32          ()   \n",
       "21               gate_end  float32          ()   \n",
       "22              gate_step  float32          ()   \n",
       "23                 Range0  float32          ()   \n",
       "24             freq_start  float32          ()   \n",
       "25               freq_end  float32          ()   \n",
       "26              tune_type    int32          ()   \n",
       "27             freq_count  float32          ()   \n",
       "28            linear_step  float32          ()   \n",
       "29               log_step  float32          ()   \n",
       "30                  Magic    int32          ()   \n",
       "31            SCT_version  float32          ()   \n",
       "32             SCT_readme      |S1      (128,)   \n",
       "33               SCT_user      |S1      (128,)   \n",
       "34      decimation_method    int32          ()   \n",
       "35   decimation_threshold  float32          ()   \n",
       "36        station_file_id      |S1       (64,)   \n",
       "37                rx_name      |S1       (32,)   \n",
       "38            rx_latitude  float32          ()   \n",
       "39           rx_longitude  float32          ()   \n",
       "40            rx_altitude  float32          ()   \n",
       "41               rx_count    int32          ()   \n",
       "42        rx_antenna_type      |S1    (32, 32)   \n",
       "43            rx_position  float32     (32, 3)   \n",
       "44           rx_direction  float32     (32, 3)   \n",
       "45              rx_height  float32       (32,)   \n",
       "46        rx_cable_length  float32       (32,)   \n",
       "47         frontend_atten  float32          ()   \n",
       "48                tx_name      |S1       (32,)   \n",
       "49            tx_latitude  float32          ()   \n",
       "50           tx_longitude  float32          ()   \n",
       "51            tx_altitude  float32          ()   \n",
       "52        tx_antenna_type      |S1       (32,)   \n",
       "53              tx_vector  float32          ()   \n",
       "54              tx_height  float32          ()   \n",
       "55        tx_cable_length  float32          ()   \n",
       "56       drive_band_count    int32          ()   \n",
       "57      drive_band_bounds  float32     (64, 2)   \n",
       "58       drive_band_atten  float32       (64,)   \n",
       "59             rf_control    int32          ()   \n",
       "60               ref_type      |S1       (32,)   \n",
       "61             clock_type      |S1       (32,)   \n",
       "62           station_user      |S1      (128,)   \n",
       "63         timing_file_id      |S1       (64,)   \n",
       "64              pri_count    int32          ()   \n",
       "65         ionogram_count    int32          ()   \n",
       "66                holdoff  float32          ()   \n",
       "67             data_start  float32          ()   \n",
       "68             date_width  float32          ()   \n",
       "69        data_baud_count    int32          ()   \n",
       "70         data_wave_file      |S1       (64,)   \n",
       "71              data_baud  float32   (1024, 2)   \n",
       "72             data_pairs    int32          ()   \n",
       "73              cal_start  float32          ()   \n",
       "74              cal_width  float32          ()   \n",
       "75         cal_baud_count    int32          ()   \n",
       "76          cal_wave_file      |S1       (64,)   \n",
       "77               cal_baud  float32   (1024, 2)   \n",
       "78              cal_pairs    int32          ()   \n",
       "79            timing_user      |S1      (128,)   \n",
       "80      frequency_file_id      |S1       (64,)   \n",
       "81             base_steps    int32          ()   \n",
       "82             base_table  float32     (8192,)   \n",
       "83     frequency_table_id      |S1       (64,)   \n",
       "84             tune_steps    int32          ()   \n",
       "85            pulse_count    int32          ()   \n",
       "86          pulse_pattern    int32      (256,)   \n",
       "87           pulse_offset    int32      (256,)   \n",
       "88             ramp_steps    int32          ()   \n",
       "89           ramp_repeats    int32          ()   \n",
       "90            drive_table  float32     (8192,)   \n",
       "91         frequency_user      |S1      (128,)   \n",
       "92       receiver_file_id      |S1       (64,)   \n",
       "93                rx_chan    int32          ()   \n",
       "94                 rx_map    int32       (16,)   \n",
       "95            word_format    int32          ()   \n",
       "96            rx_cic2_dec    int32          ()   \n",
       "97         rx_cic2_interp    int32          ()   \n",
       "98          rx_cic2_scale    int32          ()   \n",
       "99            rx_cic5_dec    int32          ()   \n",
       "100         rx_cic5_scale    int32          ()   \n",
       "101           rx_rcf_type      |S1       (32,)   \n",
       "102            rx_rcf_dec    int32          ()   \n",
       "103           rx_rcf_taps    int32          ()   \n",
       "104       rx_coefficients    int32      (160,)   \n",
       "105       rx_analog_delay  float32          ()   \n",
       "106         receiver_user      |S1      (128,)   \n",
       "107       exciter_file_id      |S1       (64,)   \n",
       "108         ex_cic2_scale    int32          ()   \n",
       "109           ex_cic2_dec    int32          ()   \n",
       "110        ex_cic2_interp    int32          ()   \n",
       "111        ex_cic5_interp    int32          ()   \n",
       "112           ex_rcf_type      |S1       (32,)   \n",
       "113           ex_rcf_taps    int32          ()   \n",
       "114     ex_rcf_taps_phase    int32          ()   \n",
       "115       ex_coefficients    int32      (256,)   \n",
       "116       ex_analog_delay  float32          ()   \n",
       "117          exciter_user      |S1      (128,)   \n",
       "118        balun_currents    int32        (8,)   \n",
       "119          balun_status    int32        (8,)   \n",
       "120       frontend_status    int32        (8,)   \n",
       "121       receiver_status    int32        (8,)   \n",
       "122        exciter_status    int32        (8,)   \n",
       "123          monitor_user      |S1      (512,)   \n",
       "124                   SCT     int8    (90076,)   \n",
       "125               PREFACE     int8       (77,)   \n",
       "126                 Range  float32      (960,)   \n",
       "127             Frequency  float32      (328,)   \n",
       "128                  Time  float32      (328,)   \n",
       "129               TxDrive  float32      (328,)   \n",
       "130                NumAve    int32      (328,)   \n",
       "131       Has_total_power     int8          ()   \n",
       "132           total_power  float32  (328, 960)   \n",
       "133           total_noise  float32      (328,)   \n",
       "134      Has_O-mode_power     int8          ()   \n",
       "135          O-mode_power  float32  (328, 960)   \n",
       "136          O-mode_noise  float32      (328,)   \n",
       "137      Has_X-mode_power     int8          ()   \n",
       "138          X-mode_power  float32  (328, 960)   \n",
       "139          X-mode_noise  float32      (328,)   \n",
       "140              Has_VLoS     int8          ()   \n",
       "141           Has_Doppler     int8          ()   \n",
       "142              Has_SPGR     int8          ()   \n",
       "143            Has_Zenith     int8          ()   \n",
       "144           Has_Azimuth     int8          ()   \n",
       "145         Has_Coherence     int8          ()   \n",
       "\n",
       "                                           Description  \n",
       "0                                    URSI station code  \n",
       "1                                         Station Name  \n",
       "2                                                       \n",
       "3                                      Day of the Year  \n",
       "4                                                       \n",
       "5                                                       \n",
       "6                                                       \n",
       "7                                                       \n",
       "8                                                       \n",
       "9                                      UNIX epoch time  \n",
       "10                                Observation latitude  \n",
       "11                               Observation longitude  \n",
       "12           Observation altitude above Mean Sea Level  \n",
       "13                           Station Magnetic Latitude  \n",
       "14                          Station Magnetic Longitude  \n",
       "15                                Station Magnetic Dip  \n",
       "16            Station GyroFrequency at 300 km altitude  \n",
       "17                           Pulse Repetition Interval  \n",
       "18                                    Range Gate Ofset  \n",
       "19                               Number of Range Gates  \n",
       "20                          start range gate placement  \n",
       "21                            end range gate placement  \n",
       "22                                  range gate spacing  \n",
       "23                         Range of the 0th range gate  \n",
       "24                                     lower frequency  \n",
       "25                                     upper frequency  \n",
       "26                                       tuning method  \n",
       "27                          number of base frequencies  \n",
       "28                                  linear tuning step  \n",
       "29                             logarithmic tuning step  \n",
       "30   File Identification number for RIQ raw data fo...  \n",
       "31   version indicator for sounding configuration t...  \n",
       "32                                   operator comments  \n",
       "33                              SCT user-defined field  \n",
       "34                                   decimation method  \n",
       "35           threshold parameter for decimation method  \n",
       "36                       name of station settings file  \n",
       "37                               receiver station name  \n",
       "38                                   receiver latitude  \n",
       "39                                  receiver longitude  \n",
       "40              receiver altitude above mean sea level  \n",
       "41                           numer of receive antennas  \n",
       "42                                receive antenna type  \n",
       "43   X,Y,Z = (East,North,Up) position of receive an...  \n",
       "44   X,Y,Z = (East,North,Up) direction of receive a...  \n",
       "45                 receive antenna height above ground  \n",
       "46                            length of receive cables  \n",
       "47                attenuation of the front end chassis  \n",
       "48                            transmitter station name  \n",
       "49                                tramsmitter latitude  \n",
       "50                               transmitter longitude  \n",
       "51              transmit altitude above Mean Sea Level  \n",
       "52                               transmit antenna type  \n",
       "53   X,Y,Z = (East,North,Up) direction of transmit ...  \n",
       "54                transmit antenna height above ground  \n",
       "55                            length of transmit cable  \n",
       "56       numer of drive bands for the transmit antenna  \n",
       "57                               drive band boundaries  \n",
       "58                                   drive attenuation  \n",
       "59                            transmitter control flag  \n",
       "60                        type of reference oscillator  \n",
       "61                           source of absolute timing  \n",
       "62            Spare space for user-defined information  \n",
       "63                        name of timing settings file  \n",
       "64                number of pulse repetition intervals  \n",
       "65                           number of ionogram sweeps  \n",
       "66   time between GPS reference time and ionogram s...  \n",
       "67                          data range placement start  \n",
       "68                               data pulse baud width  \n",
       "69                               data pulse baud count  \n",
       "70                         data baud pattern file name  \n",
       "71                          data waveform baud pattern  \n",
       "72        number of data I/Q values in waveform memory  \n",
       "73                   calibration range placement start  \n",
       "74                        calibration pulse baud width  \n",
       "75                        calibration pulse baud count  \n",
       "76                  calibration baud pattern file name  \n",
       "77                   calibration waveform baud pattern  \n",
       "78   number of calibration I/Q values in waveform m...  \n",
       "79            Spare space for user-defined information  \n",
       "80                     name of frequency settings file  \n",
       "81                          number of base frequencies  \n",
       "82                                base frequency table  \n",
       "83                             manual tuning file name  \n",
       "84             number of frequencies, pre-ramp repeats  \n",
       "85                      pulset frequency vector length  \n",
       "86                             pulset frequency vector  \n",
       "87                         pulset frequency multiplier  \n",
       "88   pulsets per B-mode ramp (ramp length, base fre...  \n",
       "89                        repeat count of B-mode ramps  \n",
       "90           base frequencies attenuation/silent table  \n",
       "91            Spare space for user-defined information  \n",
       "92                      name of receiver settings file  \n",
       "93                                 number of receivers  \n",
       "94                         receiver to antenna mapping  \n",
       "95                                    data word format  \n",
       "96                   DDC filter cic2 decimation factor  \n",
       "97                DDC filter cic2 interpolation factor  \n",
       "98                        DDC filter cic2 scale factor  \n",
       "99                   DDC filter cic5 decimation factor  \n",
       "100                       DDC filter cic5 scale factor  \n",
       "101                text descriptor of FIR filter block  \n",
       "102             decimation factor for FIR filter block  \n",
       "103                 number of taps in FIR filter block  \n",
       "104                       Receiver filter coefficients  \n",
       "105                           analog delay of receiver  \n",
       "106           Spare space for user-defined information  \n",
       "107                             name of  settings file  \n",
       "108                       DUC filter cic2 scale factor  \n",
       "109                  DUC filter cic2 decimation factor  \n",
       "110               DUC filter cic2 interpolation factor  \n",
       "111               DUC filter cic5 interpolation factor  \n",
       "112                text descriptor of FIR filter block  \n",
       "113                 number of taps in FIR filter block  \n",
       "114                                      exciter phase  \n",
       "115                        Exciter filter coefficients  \n",
       "116                            analog delay of exciter  \n",
       "117                                                     \n",
       "118                      Balun chassis current monitor  \n",
       "119                       Balun chassis status monitor  \n",
       "120                   Front End chassis status monitor  \n",
       "121                    Receiver chassis status monitor  \n",
       "122                     Exciter chassis status monitor  \n",
       "123           Spare space for user-defined information  \n",
       "124                 VIPIR Sounding Configuration Table  \n",
       "125                                  Digisonde Preface  \n",
       "126                                        Radar Range  \n",
       "127                                  Nominal Frequency  \n",
       "128                       Nominal Observation Time, UT  \n",
       "129                            Transmitter Drive Level  \n",
       "130              Number of PRIs and Receivers included  \n",
       "131       Flag indicating presence of total power data  \n",
       "132                               total received power  \n",
       "133                            Total Power Noise Level  \n",
       "134      Flag indicating presence of O-mode power data  \n",
       "135                       Ordinary mode received power  \n",
       "136                          Ordinary mode Noise Level  \n",
       "137      Flag indicating presence of X-mode power data  \n",
       "138                  eXtraordinary mode received power  \n",
       "139                      eXtraordiary mode Noise Level  \n",
       "140  Flag indicating presence of Line of Sight Velo...  \n",
       "141           Flag indicating presence of Doppler data  \n",
       "142              Flag indicating presence of SPGR data  \n",
       "143      Flag indicating presence of zenith angle data  \n",
       "144     Flag indicating presence of azimuth angle data  \n",
       "145         Flag indicating presence of coherence data  "
      ]
     },
     "metadata": {},
     "output_type": "display_data"
    }
   ],
   "source": [
    "#print out the whole data frame\n",
    "with pd.option_context('display.max_rows', None, 'display.max_columns', None):  # more options can be specified also\n",
    "    display(df)"
   ]
  },
  {
   "cell_type": "code",
   "execution_count": null,
   "metadata": {},
   "outputs": [],
   "source": []
  }
 ],
 "metadata": {
  "kernelspec": {
   "display_name": "Python 3.7.6 64-bit",
   "language": "python",
   "name": "python37664bite824ac2e96554fb4b2096e6b521658ab"
  },
  "language_info": {
   "codemirror_mode": {
    "name": "ipython",
    "version": 3
   },
   "file_extension": ".py",
   "mimetype": "text/x-python",
   "name": "python",
   "nbconvert_exporter": "python",
   "pygments_lexer": "ipython3",
   "version": "3.7.6"
  }
 },
 "nbformat": 4,
 "nbformat_minor": 4
}
