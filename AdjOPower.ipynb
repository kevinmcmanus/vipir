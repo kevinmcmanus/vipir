{
 "cells": [
  {
   "cell_type": "code",
   "execution_count": null,
   "metadata": {},
   "outputs": [],
   "source": []
  },
  {
   "cell_type": "code",
   "execution_count": 1,
   "metadata": {},
   "outputs": [],
   "source": [
    "import sys\n",
    "sys.path.append('/home/kevin_leo_mcmanus/vipir/TensorFlow/models/research')"
   ]
  },
  {
   "cell_type": "code",
   "execution_count": 2,
   "metadata": {},
   "outputs": [],
   "source": [
    "import os\n",
    "import pathlib"
   ]
  },
  {
   "cell_type": "code",
   "execution_count": 3,
   "metadata": {},
   "outputs": [],
   "source": [
    "from vipir.vipir import vipir as vp"
   ]
  },
  {
   "cell_type": "code",
   "execution_count": 4,
   "metadata": {},
   "outputs": [],
   "source": [
    "import numpy as np\n",
    "import pandas as pd\n",
    "import os\n",
    "import six.moves.urllib as urllib\n",
    "import sys\n",
    "import tarfile\n",
    "import tensorflow as tf\n",
    "import zipfile\n",
    "\n",
    "from collections import defaultdict\n",
    "from io import StringIO\n",
    "from matplotlib import pyplot as plt\n",
    "from PIL import Image\n",
    "from IPython.display import display"
   ]
  },
  {
   "cell_type": "code",
   "execution_count": 5,
   "metadata": {},
   "outputs": [],
   "source": [
    "import matplotlib.pyplot as plt"
   ]
  },
  {
   "cell_type": "code",
   "execution_count": 6,
   "metadata": {},
   "outputs": [],
   "source": [
    "from object_detection.utils import ops as utils_ops\n",
    "#from object_detection.utils import label_map_util\n",
    "from object_detection.utils import visualization_utils as vis_util"
   ]
  },
  {
   "cell_type": "code",
   "execution_count": 7,
   "metadata": {},
   "outputs": [],
   "source": [
    "from vipir.utils import modelutils as mod_util\n",
    "from vipir.utils import annotationtodict as ad\n",
    "from vipir.utils import dataviz as dv"
   ]
  },
  {
   "cell_type": "code",
   "execution_count": 8,
   "metadata": {},
   "outputs": [],
   "source": [
    "%matplotlib inline"
   ]
  },
  {
   "cell_type": "code",
   "execution_count": 9,
   "metadata": {},
   "outputs": [],
   "source": [
    "# patch tf1 into `utils.ops`\n",
    "utils_ops.tf = tf.compat.v1\n",
    "\n",
    "# Patch the location of gfile\n",
    "tf.gfile = tf.io.gfile"
   ]
  },
  {
   "cell_type": "code",
   "execution_count": 10,
   "metadata": {},
   "outputs": [],
   "source": [
    "PATH_TO_TEST_FILE_LIST = './resnet_train/data/annotations/test.txt'\n",
    "with open(PATH_TO_TEST_FILE_LIST,'r') as fid:\n",
    "    test_file_list = fid.readlines()\n",
    "test_file_list = [t.split()[0] for t in test_file_list]"
   ]
  },
  {
   "cell_type": "code",
   "execution_count": 11,
   "metadata": {},
   "outputs": [],
   "source": [
    "from matplotlib import cm"
   ]
  },
  {
   "cell_type": "code",
   "execution_count": null,
   "metadata": {},
   "outputs": [],
   "source": []
  },
  {
   "cell_type": "code",
   "execution_count": 12,
   "metadata": {},
   "outputs": [],
   "source": [
    "i=0\n",
    "path = os.path.join('netcdf',test_file_list[i] +'.NGI')\n",
    "vip = vp(path)\n",
    "ann = ad.annotationtodict(test_file_list[i],'resnet_train')"
   ]
  },
  {
   "cell_type": "code",
   "execution_count": 37,
   "metadata": {},
   "outputs": [],
   "source": [
    "def show_power(obs):\n",
    "    path = os.path.join('netcdf', obs +'.NGI')\n",
    "    vip = vp(path)\n",
    "    ann = ad.annotationtodict(obs,'resnet_train')\n",
    "    \n",
    "    fig = plt.figure(figsize=(16,16))\n",
    "    ax = fig.subplots(2,2, sharex=True, sharey=True)\n",
    "\n",
    "    fig.suptitle(f'Station: {vip.station}\\nDateTime: {vip.obs_time}',\n",
    "                        fontsize=16, fontweight='bold')\n",
    "    dv.show_objects(vip,[],which='O_mode_power',ax=ax[0,0], ann=ann, colorbar=False, title='O-Mode Power')\n",
    "    dv.show_objects(vip,[],which='X_mode_power',ax=ax[0,1], ann=ann, colorbar=False, title='X-Mode Power')\n",
    "\n",
    "\n",
    "    dv.show_objects(vip,[],which='O_mode_power_adj',ax=ax[1,0], ann=ann, colorbar=False, title='Adjusted O-Mode Power')\n",
    "    pcm = dv.show_objects(vip,[],which='total_power',ax=ax[1,1], ann=ann, colorbar=False, title='Total Power')\n",
    "\n",
    "    fig.subplots_adjust(right=0.85)\n",
    "    cbar_ax = fig.add_axes([0.90, 0.15, 0.025, 0.7])\n",
    "    cbar = fig.colorbar(pcm, cax=cbar_ax)\n",
    "    cbar.set_label('Total Power\\nSignal to Noise Ratio (dB)', rotation=270, labelpad=30,\n",
    "                   fontdict={'size':16, 'weight':'bold'})\n",
    "\n",
    "    _=plt.figtext(0.35, 0.075, f'Observation name: {obs}', size=16, weight='bold')\n"
   ]
  },
  {
   "cell_type": "code",
   "execution_count": 39,
   "metadata": {},
   "outputs": [],
   "source": [
    "!mkdir power_plots"
   ]
  },
  {
   "cell_type": "code",
   "execution_count": null,
   "metadata": {},
   "outputs": [
    {
     "name": "stdout",
     "output_type": "stream",
     "text": [
      "Observation: WI937_2020013112402\n",
      "Observation: WI937_2019308022503\n",
      "Observation: SJJ18_2019316023002\n",
      "Observation: WI937_2019320085803\n",
      "Observation: SJJ18_2019075074802\n",
      "Observation: SJJ18_2019337233801\n",
      "Observation: WI937_2019327130203\n",
      "Observation: SJJ18_2019297154602\n",
      "Observation: JV433_2019362193000\n",
      "Observation: WI937_2020016101802\n",
      "Observation: WI937_2019173141402\n",
      "Observation: JV433_2019297163230\n",
      "Observation: SJJ18_2019359220402\n",
      "Observation: WI937_2019252225302\n",
      "Observation: WI937_2019325234603\n",
      "Observation: IV437_2019125214345\n",
      "Observation: SJJ18_2019341165602\n",
      "Observation: SJJ18_2019332185401\n",
      "Observation: WI937_2020016105603\n",
      "Observation: WI937_2019237021003\n",
      "Observation: WI937_2019004221403\n",
      "Observation: JV433_2019302171500\n",
      "Observation: JV433_2019340230230\n",
      "Observation: WI937_2019353082003\n",
      "Observation: SJJ18_2019207182201\n",
      "Observation: JV433_2019365193345\n",
      "Observation: WI937_2019329095603\n",
      "Observation: SJJ18_2019351120202\n",
      "Observation: WI937_2019231103003\n",
      "Observation: WI937_2019349112803\n",
      "Observation: WI937_2020003071203\n",
      "Observation: JV433_2019356043230\n",
      "Observation: SJJ18_2020002115002\n",
      "Observation: WI937_2019196030402\n",
      "Observation: JV433_2019287144345\n",
      "Observation: SJJ18_2019329120602\n",
      "Observation: SJJ18_2019319151402\n",
      "Observation: WI937_2019052052803\n",
      "Observation: WI937_2020002051403\n",
      "Observation: SJJ18_2020021002202\n",
      "Observation: SJJ18_2019315011002\n",
      "Observation: JV433_2020020053000\n",
      "Observation: SJJ18_2019362100802\n",
      "Observation: JV433_2019305180115\n",
      "Observation: SJJ18_2019209193801\n",
      "Observation: WI937_2019165223202\n",
      "Observation: JV433_2019303233230\n"
     ]
    }
   ],
   "source": [
    "dir = 'power_plots'\n",
    "\n",
    "for f in test_file_list:\n",
    "    print(f'Observation: {f}')\n",
    "    show_power(f)\n",
    "    path = os.path.join(dir, f+'.png')\n",
    "    plt.savefig(path)\n",
    "    plt.close()\n"
   ]
  },
  {
   "cell_type": "code",
   "execution_count": null,
   "metadata": {},
   "outputs": [],
   "source": [
    "cm."
   ]
  },
  {
   "cell_type": "code",
   "execution_count": null,
   "metadata": {},
   "outputs": [],
   "source": [
    "xx is not None"
   ]
  },
  {
   "cell_type": "code",
   "execution_count": null,
   "metadata": {},
   "outputs": [],
   "source": []
  }
 ],
 "metadata": {
  "kernelspec": {
   "display_name": "Python 3.7.6 64-bit ('validate': conda)",
   "language": "python",
   "name": "python37664bitvalidateconda1bd74ffd49e34299a6403b160da18410"
  },
  "language_info": {
   "codemirror_mode": {
    "name": "ipython",
    "version": 3
   },
   "file_extension": ".py",
   "mimetype": "text/x-python",
   "name": "python",
   "nbconvert_exporter": "python",
   "pygments_lexer": "ipython3",
   "version": "3.7.6"
  }
 },
 "nbformat": 4,
 "nbformat_minor": 4
}
