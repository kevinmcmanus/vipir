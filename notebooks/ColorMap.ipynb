{
 "cells": [
  {
   "cell_type": "markdown",
   "metadata": {},
   "source": [
    "From [Colormap reference](https://matplotlib.org/3.1.1/gallery/color/colormap_reference.html)"
   ]
  },
  {
   "cell_type": "code",
   "execution_count": 1,
   "metadata": {},
   "outputs": [],
   "source": [
    "import sys\n",
    "sys.path.append('../input-archives/TensorFlow/models/research')\n",
    "sys.path.append('../src')"
   ]
  },
  {
   "cell_type": "code",
   "execution_count": 2,
   "metadata": {},
   "outputs": [],
   "source": [
    "import os\n",
    "import pathlib"
   ]
  },
  {
   "cell_type": "code",
   "execution_count": 3,
   "metadata": {},
   "outputs": [],
   "source": [
    "\n",
    "import numpy as np\n",
    "from numpy.ma import masked_array\n",
    "import matplotlib.pyplot as plt\n",
    "from matplotlib import cm\n",
    "from matplotlib.colors import ListedColormap, LinearSegmentedColormap"
   ]
  },
  {
   "cell_type": "code",
   "execution_count": null,
   "metadata": {},
   "outputs": [],
   "source": [
    "xx = np.arange(20).reshape((4,5))\n",
    "rows = np.arange(4)"
   ]
  },
  {
   "cell_type": "code",
   "execution_count": null,
   "metadata": {},
   "outputs": [],
   "source": [
    "b=np.array([True, True, False, False])"
   ]
  },
  {
   "cell_type": "code",
   "execution_count": null,
   "metadata": {},
   "outputs": [],
   "source": [
    "rows*np.logical_not(b)"
   ]
  },
  {
   "cell_type": "code",
   "execution_count": 4,
   "metadata": {},
   "outputs": [],
   "source": [
    "from vipir.vipir import vipir as vp"
   ]
  },
  {
   "cell_type": "code",
   "execution_count": null,
   "metadata": {},
   "outputs": [],
   "source": [
    "cmaps = [('Perceptually Uniform Sequential', [\n",
    "            'viridis', 'plasma', 'inferno', 'magma', 'cividis']),\n",
    "         ('Sequential', [\n",
    "            'Greys', 'Purples', 'Blues', 'Greens', 'Oranges', 'Reds',\n",
    "            'YlOrBr', 'YlOrRd', 'OrRd', 'PuRd', 'RdPu', 'BuPu',\n",
    "            'GnBu', 'PuBu', 'YlGnBu', 'PuBuGn', 'BuGn', 'YlGn']),\n",
    "         ('Sequential (2)', [\n",
    "            'binary', 'gist_yarg', 'gist_gray', 'gray', 'bone', 'pink',\n",
    "            'spring', 'summer', 'autumn', 'winter', 'cool', 'Wistia',\n",
    "            'hot', 'afmhot', 'gist_heat', 'copper']),\n",
    "         ('Diverging', [\n",
    "            'PiYG', 'PRGn', 'BrBG', 'PuOr', 'RdGy', 'RdBu',\n",
    "            'RdYlBu', 'RdYlGn', 'Spectral', 'coolwarm', 'bwr', 'seismic']),\n",
    "         ('Cyclic', ['twilight', 'twilight_shifted', 'hsv']),\n",
    "         ('Qualitative', [\n",
    "            'Pastel1', 'Pastel2', 'Paired', 'Accent',\n",
    "            'Dark2', 'Set1', 'Set2', 'Set3',\n",
    "            'tab10', 'tab20', 'tab20b', 'tab20c']),\n",
    "         ('Miscellaneous', [\n",
    "            'flag', 'prism', 'ocean', 'gist_earth', 'terrain', 'gist_stern',\n",
    "            'gnuplot', 'gnuplot2', 'CMRmap', 'cubehelix', 'brg',\n",
    "            'gist_rainbow', 'rainbow', 'jet', 'nipy_spectral', 'gist_ncar'])]"
   ]
  },
  {
   "cell_type": "code",
   "execution_count": null,
   "metadata": {},
   "outputs": [],
   "source": [
    "gradient = np.linspace(0, 1, 256)\n",
    "gradient = np.vstack((gradient, gradient))"
   ]
  },
  {
   "cell_type": "code",
   "execution_count": null,
   "metadata": {},
   "outputs": [],
   "source": [
    "gradient.shape"
   ]
  },
  {
   "cell_type": "code",
   "execution_count": null,
   "metadata": {},
   "outputs": [],
   "source": [
    "def plot_color_gradients(cmap_category, cmap_list):\n",
    "    # Create figure and adjust figure height to number of colormaps\n",
    "    nrows = len(cmap_list)\n",
    "    figh = 0.35 + 0.15 + (nrows + (nrows-1)*0.1)*0.22\n",
    "    fig, axes = plt.subplots(nrows=nrows, figsize=(6.4, figh))\n",
    "    fig.subplots_adjust(top=1-.35/figh, bottom=.15/figh, left=0.2, right=0.99)\n",
    "\n",
    "    axes[0].set_title(cmap_category + ' colormaps', fontsize=14)\n",
    "\n",
    "    for ax, name in zip(axes, cmap_list):\n",
    "        ax.imshow(gradient, aspect='auto', cmap=plt.get_cmap(name))\n",
    "        ax.text(-.01, .5, name, va='center', ha='right', fontsize=10,\n",
    "                transform=ax.transAxes)\n",
    "\n",
    "    # Turn off *all* ticks & spines, not just the ones with colormaps.\n",
    "    for ax in axes:\n",
    "        ax.set_axis_off()"
   ]
  },
  {
   "cell_type": "code",
   "execution_count": null,
   "metadata": {},
   "outputs": [],
   "source": [
    "fig = plt.figure(figsize=(36,12))\n",
    "for cmap_category, cmap_list in cmaps:\n",
    "    plot_color_gradients(cmap_category, cmap_list)"
   ]
  },
  {
   "cell_type": "code",
   "execution_count": null,
   "metadata": {},
   "outputs": [],
   "source": [
    "def plot_examples(cms):\n",
    "    \"\"\"\n",
    "    helper function to plot two colormaps\n",
    "    \"\"\"\n",
    "    np.random.seed(19680801)\n",
    "    data = np.random.randn(30, 30)\n",
    "\n",
    "    fig, axs = plt.subplots(1, len(cms), figsize=(6, 3), constrained_layout=True)\n",
    "    for [ax, cmap] in zip(axs, cms):\n",
    "        psm = ax.pcolormesh(data, cmap=cmap, rasterized=True, vmin=-4, vmax=4)\n",
    "        fig.colorbar(psm, ax=ax)\n",
    "    plt.show()"
   ]
  },
  {
   "cell_type": "code",
   "execution_count": null,
   "metadata": {},
   "outputs": [],
   "source": [
    "viridis = cm.get_cmap('viridis', 256)\n",
    "newcolors = viridis(np.linspace(0, 1, 256))\n",
    "pink = np.array([248/256, 24/256, 148/256, 1])\n",
    "newcolors[:25, :] = pink\n",
    "newcmp = ListedColormap(newcolors)"
   ]
  },
  {
   "cell_type": "code",
   "execution_count": null,
   "metadata": {},
   "outputs": [],
   "source": [
    "plot_examples([viridis, newcmp])"
   ]
  },
  {
   "cell_type": "code",
   "execution_count": null,
   "metadata": {},
   "outputs": [],
   "source": [
    "red = np.array([255,4,9,1])\n",
    "green = np.array([44,255,9,1])"
   ]
  },
  {
   "cell_type": "code",
   "execution_count": null,
   "metadata": {},
   "outputs": [],
   "source": [
    "N=256\n",
    "red_scale = np.ones((N,4))\n",
    "red_scale[:,0]=np.linspace(0,red[0]/256,N)\n",
    "red_scale[:,1]=np.linspace(0,red[1]/256,N)\n",
    "red_scale[:,2]=np.linspace(0,red[2]/256,N)\n",
    "red_cmap=ListedColormap(red_scale)"
   ]
  },
  {
   "cell_type": "code",
   "execution_count": null,
   "metadata": {},
   "outputs": [],
   "source": [
    "green_scale = np.ones((N,4))\n",
    "green_scale[:,0]=np.linspace(0,green[0]/256,N)\n",
    "green_scale[:,1]=np.linspace(0,green[1]/256,N)\n",
    "green_scale[:,2]=np.linspace(0,green[2]/256,N)\n",
    "green_cmap=ListedColormap(green_scale)"
   ]
  },
  {
   "cell_type": "code",
   "execution_count": null,
   "metadata": {},
   "outputs": [],
   "source": [
    "red_scale[0:5]"
   ]
  },
  {
   "cell_type": "code",
   "execution_count": null,
   "metadata": {},
   "outputs": [],
   "source": [
    "plot_examples([ green_cmap, red_cmap])"
   ]
  },
  {
   "cell_type": "code",
   "execution_count": 5,
   "metadata": {},
   "outputs": [],
   "source": [
    "from vipir.vipir import get_cdf, get_flist"
   ]
  },
  {
   "cell_type": "code",
   "execution_count": 6,
   "metadata": {},
   "outputs": [],
   "source": [
    "flist = get_flist('WI937','2020-07-31 18:00:00', '2020-07-31 18:30:00')"
   ]
  },
  {
   "cell_type": "code",
   "execution_count": 7,
   "metadata": {},
   "outputs": [
    {
     "output_type": "execute_result",
     "data": {
      "text/plain": "[('2020-07-31 18:10:03',\n  '/ionosonde/data/WI937/individual/2020/213/ionogram/WI937_2020213181003.NGI'),\n ('2020-07-31 18:20:03',\n  '/ionosonde/data/WI937/individual/2020/213/ionogram/WI937_2020213182003.NGI')]"
     },
     "metadata": {},
     "execution_count": 7
    }
   ],
   "source": [
    "flist"
   ]
  },
  {
   "cell_type": "code",
   "execution_count": 8,
   "metadata": {
    "tags": []
   },
   "outputs": [
    {
     "output_type": "stream",
     "name": "stdout",
     "text": "Rootgroup successfully closed\n"
    },
    {
     "output_type": "error",
     "ename": "PermissionError",
     "evalue": "[WinError 32] The process cannot access the file because it is being used by another process: 'C:\\\\Users\\\\kevin\\\\AppData\\\\Local\\\\Temp\\\\tmpozwgt9ad'",
     "traceback": [
      "\u001b[1;31m---------------------------------------------------------------------------\u001b[0m",
      "\u001b[1;31mPermissionError\u001b[0m                           Traceback (most recent call last)",
      "\u001b[1;32m<ipython-input-8-1ee36ad92c7b>\u001b[0m in \u001b[0;36m<module>\u001b[1;34m\u001b[0m\n\u001b[1;32m----> 1\u001b[1;33m \u001b[0mvip\u001b[0m \u001b[1;33m=\u001b[0m \u001b[0mget_cdf\u001b[0m\u001b[1;33m(\u001b[0m\u001b[0mpath\u001b[0m\u001b[1;33m=\u001b[0m\u001b[0mflist\u001b[0m\u001b[1;33m[\u001b[0m\u001b[1;36m1\u001b[0m\u001b[1;33m]\u001b[0m\u001b[1;33m[\u001b[0m\u001b[1;36m1\u001b[0m\u001b[1;33m]\u001b[0m\u001b[1;33m)\u001b[0m\u001b[1;33m\u001b[0m\u001b[1;33m\u001b[0m\u001b[0m\n\u001b[0m",
      "\u001b[1;32mc:\\Users\\kevin\\Documents\\GitHub\\vipir\\src\\vipir\\vipir.py\u001b[0m in \u001b[0;36mget_cdf\u001b[1;34m(stn, dtstr, path, ftpsite, rootdir)\u001b[0m\n\u001b[0;32m    414\u001b[0m \u001b[1;33m\u001b[0m\u001b[0m\n\u001b[0;32m    415\u001b[0m     \u001b[1;31m#ditch the temp file\u001b[0m\u001b[1;33m\u001b[0m\u001b[1;33m\u001b[0m\u001b[1;33m\u001b[0m\u001b[0m\n\u001b[1;32m--> 416\u001b[1;33m     \u001b[0mos\u001b[0m\u001b[1;33m.\u001b[0m\u001b[0mremove\u001b[0m\u001b[1;33m(\u001b[0m\u001b[0mfh\u001b[0m\u001b[1;33m[\u001b[0m\u001b[1;36m1\u001b[0m\u001b[1;33m]\u001b[0m\u001b[1;33m)\u001b[0m\u001b[1;33m\u001b[0m\u001b[1;33m\u001b[0m\u001b[0m\n\u001b[0m\u001b[0;32m    417\u001b[0m \u001b[1;33m\u001b[0m\u001b[0m\n\u001b[0;32m    418\u001b[0m     \u001b[1;32mreturn\u001b[0m \u001b[0mvip\u001b[0m\u001b[1;33m\u001b[0m\u001b[1;33m\u001b[0m\u001b[0m\n",
      "\u001b[1;31mPermissionError\u001b[0m: [WinError 32] The process cannot access the file because it is being used by another process: 'C:\\\\Users\\\\kevin\\\\AppData\\\\Local\\\\Temp\\\\tmpozwgt9ad'"
     ]
    }
   ],
   "source": [
    "vip = get_cdf(path=flist[1][1])"
   ]
  },
  {
   "cell_type": "code",
   "execution_count": null,
   "metadata": {},
   "outputs": [],
   "source": [
    "thresh=3\n",
    "o_pwr = vip.snr('O_mode_power')\n",
    "x_pwr = vip.snr('X_mode_power')"
   ]
  },
  {
   "cell_type": "code",
   "execution_count": null,
   "metadata": {},
   "outputs": [],
   "source": [
    "x_pwr_m = masked_array(x_pwr, x_pwr <=  o_pwr+thresh)\n",
    "o_pwr_m = masked_array(o_pwr, x_pwr >   o_pwr+thresh)"
   ]
  },
  {
   "cell_type": "code",
   "execution_count": null,
   "metadata": {},
   "outputs": [],
   "source": [
    "from mpl_toolkits.axes_grid1.inset_locator import inset_axes\n",
    "import matplotlib.colors as colors"
   ]
  },
  {
   "cell_type": "code",
   "execution_count": null,
   "metadata": {},
   "outputs": [],
   "source": [
    "gamma=0.5\n",
    "\n",
    "fig,ax = plt.subplots(figsize=(16,12))\n",
    "\n",
    "axins1 = inset_axes(ax,\n",
    "                   width=\"5%\",  # width = 5% of parent_bbox width\n",
    "                   height=\"75%\",  # height : 50%\n",
    "                   loc='center left',\n",
    "                   bbox_to_anchor=(1.10, 0., 1, 1),\n",
    "                   bbox_transform=ax.transAxes,\n",
    "                   borderpad=0,\n",
    "                   )\n",
    "\n",
    "axins2 = inset_axes(ax,\n",
    "                   width=\"5%\",  # width = 5% of parent_bbox width\n",
    "                   height=\"75%\",  # height : 50%\n",
    "                   loc='center left',\n",
    "                   bbox_to_anchor=(1.40, 0., 1, 1),\n",
    "                   bbox_transform=ax.transAxes,\n",
    "                   borderpad=0,\n",
    "                   )\n",
    "\n",
    "px = ax.imshow(x_pwr_m.T,cmap=green_cmap,\n",
    "               norm=colors.PowerNorm(gamma=gamma),\n",
    "              vmin=0, vmax=50) #interpolation='nearest',\n",
    "cba = fig.colorbar(px, cax=axins1, shrink=0.25) #shrink=0.25, \n",
    "\n",
    "po = ax.imshow(o_pwr_m.T,cmap=red_cmap,\n",
    "               norm=colors.PowerNorm(gamma=gamma),\n",
    "              vmin=0, vmax=50) # interpolation='nearest',\n",
    "cbb = fig.colorbar(po, cax=axins2,shrink=0.25) #\n",
    "\n",
    "ax.set_xlabel('Frequency')\n",
    "ax.set_ylabel('Range')\n",
    "ax.invert_yaxis()\n",
    "ax.set_aspect('auto')\n",
    "cba.ax.set_title('X Power')\n",
    "cbb.ax.set_title('O Power')"
   ]
  },
  {
   "cell_type": "markdown",
   "metadata": {},
   "source": [
    "## HSV Color Mapping\n",
    "\n",
    "Equations: (https://www.rapidtables.com/convert/color/hsv-to-rgb.html)\n",
    "\n",
    "Good Article: (http://colorizer.org/)"
   ]
  },
  {
   "cell_type": "code",
   "execution_count": null,
   "metadata": {},
   "outputs": [],
   "source": [
    "def hsv_to_rgb(h,s,v):\n",
    "    c = v*s\n",
    "    x = c*(1-np.abs(((h/60.0) % 2)-1))\n",
    "    m = v-c\n",
    "    \n",
    "    rgb_tbl = np.array([[c,x,0],\n",
    "                      [x,c,0],\n",
    "                      [0,c,x],\n",
    "                      [0,x,c],\n",
    "                      [x,0,c],\n",
    "                      [c,0,x]])\n",
    "    \n",
    "    rgb_prime =  rgb_tbl[int(h//60.0)]\n",
    "    \n",
    "    rgb = (rgb_prime+m)  #*255\n",
    "    \n",
    "    rgba = np.array([*rgb,1])\n",
    "    \n",
    "    return rgba"
   ]
  },
  {
   "cell_type": "code",
   "execution_count": null,
   "metadata": {},
   "outputs": [],
   "source": [
    "hsv_to_rgb(90.0, 1.0, 1.0)"
   ]
  },
  {
   "cell_type": "code",
   "execution_count": null,
   "metadata": {},
   "outputs": [],
   "source": [
    "sv = np.linspace(0.0, 1.0, N)\n",
    "red_hsv = np.array([hsv_to_rgb(0.0, 1.0,v)for v in sv])\n",
    "green_hsv = np.array([hsv_to_rgb(90.0, 1.0,v)for v in sv])\n",
    "red_hsv_cmap=ListedColormap(red_hsv)\n",
    "green_hsv_cmap=ListedColormap(green_hsv)"
   ]
  },
  {
   "cell_type": "code",
   "execution_count": null,
   "metadata": {},
   "outputs": [],
   "source": [
    "plot_examples([ green_cmap, green_hsv_cmap])"
   ]
  },
  {
   "cell_type": "code",
   "execution_count": null,
   "metadata": {},
   "outputs": [],
   "source": [
    "plot_examples([ red_cmap, red_hsv_cmap])"
   ]
  },
  {
   "cell_type": "code",
   "execution_count": null,
   "metadata": {},
   "outputs": [],
   "source": [
    "plot_examples([ green_hsv_cmap, red_hsv_cmap])"
   ]
  },
  {
   "cell_type": "code",
   "execution_count": null,
   "metadata": {},
   "outputs": [],
   "source": [
    "fig,ax = plt.subplots(figsize=(16,12))\n",
    "\n",
    "axins1 = inset_axes(ax,\n",
    "                   width=\"2.5%\",  # width = 5% of parent_bbox width\n",
    "                   height=\"75%\",  # height : 50%\n",
    "                   loc='center left',\n",
    "                   bbox_to_anchor=(1.05, 0., 1, 1),\n",
    "                   bbox_transform=ax.transAxes,\n",
    "                   borderpad=0,\n",
    "                   )\n",
    "\n",
    "axins2 = inset_axes(ax,\n",
    "                   width=\"2.5%\",  # width = 5% of parent_bbox width\n",
    "                   height=\"75%\",  # height : 50%\n",
    "                   loc='center left',\n",
    "                   bbox_to_anchor=(1.15, 0., 1, 1),\n",
    "                   bbox_transform=ax.transAxes,\n",
    "                   borderpad=0,\n",
    "                   )\n",
    "\n",
    "px = ax.imshow(x_pwr_m.T,cmap=green_hsv_cmap,\n",
    "              # norm=colors.PowerNorm(gamma=gamma),\n",
    "              vmin=0, vmax=50) #interpolation='nearest',\n",
    "cba = fig.colorbar(px, cax=axins2, shrink=0.25) #shrink=0.25, \n",
    "\n",
    "po = ax.imshow(o_pwr_m.T,cmap=red_hsv_cmap,\n",
    "              # norm=colors.PowerNorm(gamma=gamma),\n",
    "              vmin=0, vmax=50) # interpolation='nearest',\n",
    "cbb = fig.colorbar(po, cax=axins1,shrink=0.25) #\n",
    "\n",
    "ax.set_xlabel('Frequency')\n",
    "ax.set_ylabel('Range')\n",
    "ax.invert_yaxis()\n",
    "ax.set_aspect('auto')\n",
    "cba.ax.set_title('X Power')\n",
    "cbb.ax.set_title('O Power')"
   ]
  },
  {
   "cell_type": "markdown",
   "metadata": {},
   "source": [
    "![image](../data/ionosonde/WI937/individual/2020/131/image/WI937_2020131000403_OX.PNG)"
   ]
  },
  {
   "cell_type": "code",
   "execution_count": null,
   "metadata": {},
   "outputs": [],
   "source": [
    "def plot_color_gradients2(cmap_category, cmap_dict):\n",
    "    # Create figure and adjust figure height to number of colormaps\n",
    "    nrows = len(cmap_dict)\n",
    "    figh = 0.35 + 0.15 + (nrows + (nrows-1)*0.1)*0.22\n",
    "    fig, axes = plt.subplots(nrows=nrows, figsize=(6.4, figh))\n",
    "    fig.subplots_adjust(top=1-.35/figh, bottom=.15/figh, left=0.2, right=0.99)\n",
    "\n",
    "    axes[0].set_title(cmap_category + ' colormaps', fontsize=14)\n",
    "\n",
    "    for ax, name in zip(axes, cmap_dict):\n",
    "        ax.imshow(gradient, aspect='auto', cmap=cmap_dict[name])\n",
    "        ax.text(-.01, .5, name, va='center', ha='right', fontsize=10,\n",
    "                transform=ax.transAxes)\n",
    "\n",
    "    # Turn off *all* ticks & spines, not just the ones with colormaps.\n",
    "    for ax in axes:\n",
    "        ax.set_axis_off()"
   ]
  },
  {
   "cell_type": "code",
   "execution_count": null,
   "metadata": {},
   "outputs": [],
   "source": [
    "gradient = np.vstack((gradient, gradient))"
   ]
  },
  {
   "cell_type": "code",
   "execution_count": null,
   "metadata": {},
   "outputs": [],
   "source": [
    "plot_color_gradients2('HSV',{'Green':green_hsv_cmap, 'Red':red_hsv_cmap})"
   ]
  }
 ],
 "metadata": {
  "kernelspec": {
   "display_name": "Python 3.7.7 64-bit ('vipir': conda)",
   "language": "python",
   "name": "python_defaultSpec_1596508210277"
  },
  "language_info": {
   "codemirror_mode": {
    "name": "ipython",
    "version": 3
   },
   "file_extension": ".py",
   "mimetype": "text/x-python",
   "name": "python",
   "nbconvert_exporter": "python",
   "pygments_lexer": "ipython3",
   "version": "3.7.7-final"
  }
 },
 "nbformat": 4,
 "nbformat_minor": 4
}