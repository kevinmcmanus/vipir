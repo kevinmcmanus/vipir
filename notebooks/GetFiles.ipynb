{
 "cells": [
  {
   "cell_type": "markdown",
   "metadata": {},
   "source": [
    "# Get NetCDF Files\n",
    "This notebook will retrieve random vipir data from ftp site: 'ftp.ngdc.noaa.gov/ionosonde/mids11'"
   ]
  },
  {
   "cell_type": "code",
   "execution_count": 1,
   "metadata": {},
   "outputs": [],
   "source": [
    "import numpy as np\n",
    "import pandas as pd\n",
    "import matplotlib.pyplot as plt\n",
    "from ftplib import FTP\n",
    "import re\n",
    "\n",
    "from netCDF4 import Dataset"
   ]
  },
  {
   "cell_type": "code",
   "execution_count": 2,
   "metadata": {},
   "outputs": [],
   "source": [
    "%matplotlib inline"
   ]
  },
  {
   "cell_type": "markdown",
   "metadata": {},
   "source": [
    "## FTP site params"
   ]
  },
  {
   "cell_type": "code",
   "execution_count": 3,
   "metadata": {},
   "outputs": [],
   "source": [
    "ftpsite ='ftp.ngdc.noaa.gov'\n",
    "ftpdir = '/ionosonde/mids11/WI937/individual/2019/306/image'\n",
    "ftpstndir = '/ionosonde/mids11'"
   ]
  },
  {
   "cell_type": "markdown",
   "metadata": {},
   "source": [
    "## Station List"
   ]
  },
  {
   "cell_type": "code",
   "execution_count": 4,
   "metadata": {},
   "outputs": [],
   "source": [
    "#ftp://ftp.ngdc.noaa.gov//ionosonde/mids11/SAA0K/individual/2019/252/image\n",
    "#ftp://ftp.ngdc.noaa.gov/ionosonde/mids11/SAA0K/individual/2019/252/ionogram/\n",
    "\n",
    "def get_station_list(ftpserver = 'ftp.ngdc.noaa.gov',rootdir = '/ionosonde/data'):\n",
    "    \n",
    "    with FTP(ftpserver) as ftp:\n",
    "        ftp.login()\n",
    "        ftp.cwd(rootdir)\n",
    "        stn_list = [f for f in ftp.nlst() if re.search('[0-9A-Z]{5}',f)]        \n",
    "    \n",
    "    return stn_list"
   ]
  },
  {
   "cell_type": "code",
   "execution_count": 5,
   "metadata": {},
   "outputs": [],
   "source": [
    "stations = get_station_list()"
   ]
  },
  {
   "cell_type": "code",
   "execution_count": 6,
   "metadata": {},
   "outputs": [
    {
     "data": {
      "text/plain": [
       "156"
      ]
     },
     "execution_count": 6,
     "metadata": {},
     "output_type": "execute_result"
    }
   ],
   "source": [
    "len(stations)"
   ]
  },
  {
   "cell_type": "markdown",
   "metadata": {},
   "source": [
    "## Get the last ionograms from each station"
   ]
  },
  {
   "cell_type": "code",
   "execution_count": 7,
   "metadata": {},
   "outputs": [],
   "source": [
    "# TODO: make sure the directory lists are sorted in order to take the most recent entry\n",
    "def get_ionogram_ngi(ftp, stn, rootdir = '/ionosonde/data', datadir='individual'):\n",
    "    \n",
    "    try:\n",
    "        file_list={}\n",
    "        ftp.cwd(f'{rootdir}/{stn}/{datadir}')\n",
    "        yrs = ftp.nlst()\n",
    "        \n",
    "        year = yrs[-1] # year of most recent data\n",
    "    \n",
    "        daysdir = f'{rootdir}/{stn}/{datadir}/{year}'\n",
    "        ftp.cwd(daysdir)\n",
    "        days = [d for d in ftp.nlst() if re.search('[0-9]{3}',d)]\n",
    "        if len(days) == 0: #no observation days\n",
    "            day = '999' #invalid day\n",
    "        else:\n",
    "            day = days[-1] # most recent days' data (assume nlst returns them that way)\n",
    "\n",
    "        daydir = f'{daysdir}/{day}/ionogram'\n",
    "        #print(f'daydir: {daydir}')\n",
    "        \n",
    " \n",
    "        ftp.cwd(daydir)\n",
    "        file_list[f'{year}-{day}'] = ftp.nlst()\n",
    "    except:\n",
    "        file_list[f'9999-999'] = []\n",
    "    \n",
    "    return file_list"
   ]
  },
  {
   "cell_type": "code",
   "execution_count": 8,
   "metadata": {},
   "outputs": [],
   "source": [
    "with FTP(ftpsite) as ftp:\n",
    "    ftp.login()\n",
    "    vipir_list = {}\n",
    "    for stn in stations:\n",
    "        vipir_list[stn] = get_ionogram_ngi(ftp, stn)"
   ]
  },
  {
   "cell_type": "markdown",
   "metadata": {},
   "source": [
    "## Summarize the Station Info"
   ]
  },
  {
   "cell_type": "code",
   "execution_count": 10,
   "metadata": {},
   "outputs": [],
   "source": [
    "def get_obs_type(fname):\n",
    "    \"\"\"\n",
    "    returns the extension from the file name supplied\n",
    "    \"\"\"\n",
    "    comps = fname.split('.')\n",
    "\n",
    "    ftype = 'Unknown' if len(comps)==1 or comps[1] == '' else comps[1]\n",
    "        \n",
    "    return ftype"
   ]
  },
  {
   "cell_type": "code",
   "execution_count": 11,
   "metadata": {},
   "outputs": [],
   "source": [
    "def get_summary(vipir, stn):\n",
    "    last_obs_date = list(vipir[stn].keys())[-1]\n",
    "    n_data_files =  len(vipir[stn][last_obs_date])\n",
    "    f_types = ','.join(set([get_obs_type(fn) for fn in vipir[stn][last_obs_date]]))\n",
    "    \n",
    "    return stn, last_obs_date, n_data_files, f_types\n",
    "    "
   ]
  },
  {
   "cell_type": "code",
   "execution_count": 12,
   "metadata": {},
   "outputs": [],
   "source": [
    "station_summary = pd.DataFrame([get_summary(vipir_list,stn) for stn in stations],\n",
    "                               columns=['StationName','LastObsDate','NObservations','ObsTypes'])"
   ]
  },
  {
   "cell_type": "code",
   "execution_count": 13,
   "metadata": {},
   "outputs": [
    {
     "data": {
      "text/html": [
       "<div>\n",
       "<style scoped>\n",
       "    .dataframe tbody tr th:only-of-type {\n",
       "        vertical-align: middle;\n",
       "    }\n",
       "\n",
       "    .dataframe tbody tr th {\n",
       "        vertical-align: top;\n",
       "    }\n",
       "\n",
       "    .dataframe thead th {\n",
       "        text-align: right;\n",
       "    }\n",
       "</style>\n",
       "<table border=\"1\" class=\"dataframe\">\n",
       "  <thead>\n",
       "    <tr style=\"text-align: right;\">\n",
       "      <th></th>\n",
       "      <th>StationName</th>\n",
       "      <th>LastObsDate</th>\n",
       "      <th>NObservations</th>\n",
       "      <th>ObsTypes</th>\n",
       "    </tr>\n",
       "  </thead>\n",
       "  <tbody>\n",
       "    <tr>\n",
       "      <th>0</th>\n",
       "      <td>09429</td>\n",
       "      <td>9999-999</td>\n",
       "      <td>0</td>\n",
       "      <td></td>\n",
       "    </tr>\n",
       "    <tr>\n",
       "      <th>1</th>\n",
       "      <td>AA109</td>\n",
       "      <td>9999-999</td>\n",
       "      <td>0</td>\n",
       "      <td></td>\n",
       "    </tr>\n",
       "    <tr>\n",
       "      <th>2</th>\n",
       "      <td>AC843</td>\n",
       "      <td>9999-999</td>\n",
       "      <td>0</td>\n",
       "      <td></td>\n",
       "    </tr>\n",
       "    <tr>\n",
       "      <th>3</th>\n",
       "      <td>AD651</td>\n",
       "      <td>9999-999</td>\n",
       "      <td>0</td>\n",
       "      <td></td>\n",
       "    </tr>\n",
       "    <tr>\n",
       "      <th>4</th>\n",
       "      <td>AD930</td>\n",
       "      <td>9999-999</td>\n",
       "      <td>0</td>\n",
       "      <td></td>\n",
       "    </tr>\n",
       "    <tr>\n",
       "      <th>...</th>\n",
       "      <td>...</td>\n",
       "      <td>...</td>\n",
       "      <td>...</td>\n",
       "      <td>...</td>\n",
       "    </tr>\n",
       "    <tr>\n",
       "      <th>151</th>\n",
       "      <td>WI937</td>\n",
       "      <td>2020-158</td>\n",
       "      <td>597</td>\n",
       "      <td>NGI</td>\n",
       "    </tr>\n",
       "    <tr>\n",
       "      <th>152</th>\n",
       "      <td>WK546</td>\n",
       "      <td>9999-999</td>\n",
       "      <td>0</td>\n",
       "      <td></td>\n",
       "    </tr>\n",
       "    <tr>\n",
       "      <th>153</th>\n",
       "      <td>WP937</td>\n",
       "      <td>9999-999</td>\n",
       "      <td>0</td>\n",
       "      <td></td>\n",
       "    </tr>\n",
       "    <tr>\n",
       "      <th>154</th>\n",
       "      <td>YA462</td>\n",
       "      <td>9999-999</td>\n",
       "      <td>0</td>\n",
       "      <td></td>\n",
       "    </tr>\n",
       "    <tr>\n",
       "      <th>155</th>\n",
       "      <td>YG431</td>\n",
       "      <td>9999-999</td>\n",
       "      <td>0</td>\n",
       "      <td></td>\n",
       "    </tr>\n",
       "  </tbody>\n",
       "</table>\n",
       "<p>156 rows × 4 columns</p>\n",
       "</div>"
      ],
      "text/plain": [
       "    StationName LastObsDate  NObservations ObsTypes\n",
       "0         09429    9999-999              0         \n",
       "1         AA109    9999-999              0         \n",
       "2         AC843    9999-999              0         \n",
       "3         AD651    9999-999              0         \n",
       "4         AD930    9999-999              0         \n",
       "..          ...         ...            ...      ...\n",
       "151       WI937    2020-158            597      NGI\n",
       "152       WK546    9999-999              0         \n",
       "153       WP937    9999-999              0         \n",
       "154       YA462    9999-999              0         \n",
       "155       YG431    9999-999              0         \n",
       "\n",
       "[156 rows x 4 columns]"
      ]
     },
     "execution_count": 13,
     "metadata": {},
     "output_type": "execute_result"
    }
   ],
   "source": [
    "station_summary"
   ]
  },
  {
   "cell_type": "markdown",
   "metadata": {},
   "source": [
    "## Stations with NGI files"
   ]
  },
  {
   "cell_type": "code",
   "execution_count": 14,
   "metadata": {},
   "outputs": [
    {
     "data": {
      "text/html": [
       "<div>\n",
       "<style scoped>\n",
       "    .dataframe tbody tr th:only-of-type {\n",
       "        vertical-align: middle;\n",
       "    }\n",
       "\n",
       "    .dataframe tbody tr th {\n",
       "        vertical-align: top;\n",
       "    }\n",
       "\n",
       "    .dataframe thead th {\n",
       "        text-align: right;\n",
       "    }\n",
       "</style>\n",
       "<table border=\"1\" class=\"dataframe\">\n",
       "  <thead>\n",
       "    <tr style=\"text-align: right;\">\n",
       "      <th></th>\n",
       "      <th>StationName</th>\n",
       "      <th>LastObsDate</th>\n",
       "      <th>NObservations</th>\n",
       "      <th>ObsTypes</th>\n",
       "    </tr>\n",
       "  </thead>\n",
       "  <tbody>\n",
       "    <tr>\n",
       "      <th>71</th>\n",
       "      <td>IV437</td>\n",
       "      <td>2020-158</td>\n",
       "      <td>399</td>\n",
       "      <td>NGI</td>\n",
       "    </tr>\n",
       "    <tr>\n",
       "      <th>77</th>\n",
       "      <td>JV433</td>\n",
       "      <td>2020-158</td>\n",
       "      <td>479</td>\n",
       "      <td>NGI</td>\n",
       "    </tr>\n",
       "    <tr>\n",
       "      <th>127</th>\n",
       "      <td>SJJ18</td>\n",
       "      <td>2020-158</td>\n",
       "      <td>459</td>\n",
       "      <td>NGI</td>\n",
       "    </tr>\n",
       "    <tr>\n",
       "      <th>151</th>\n",
       "      <td>WI937</td>\n",
       "      <td>2020-158</td>\n",
       "      <td>597</td>\n",
       "      <td>NGI</td>\n",
       "    </tr>\n",
       "  </tbody>\n",
       "</table>\n",
       "</div>"
      ],
      "text/plain": [
       "    StationName LastObsDate  NObservations ObsTypes\n",
       "71        IV437    2020-158            399      NGI\n",
       "77        JV433    2020-158            479      NGI\n",
       "127       SJJ18    2020-158            459      NGI\n",
       "151       WI937    2020-158            597      NGI"
      ]
     },
     "execution_count": 14,
     "metadata": {},
     "output_type": "execute_result"
    }
   ],
   "source": [
    "station_summary.query('ObsTypes == \\'NGI\\'')"
   ]
  },
  {
   "cell_type": "markdown",
   "metadata": {},
   "source": [
    "## Other available File Types"
   ]
  },
  {
   "cell_type": "code",
   "execution_count": 15,
   "metadata": {},
   "outputs": [
    {
     "data": {
      "text/plain": [
       "       127\n",
       "RSF     20\n",
       "MMM      4\n",
       "NGI      4\n",
       "SBF      1\n",
       "Name: ObsTypes, dtype: int64"
      ]
     },
     "execution_count": 15,
     "metadata": {},
     "output_type": "execute_result"
    }
   ],
   "source": [
    "station_summary.ObsTypes.value_counts()"
   ]
  },
  {
   "cell_type": "markdown",
   "metadata": {},
   "source": [
    "## Get Some NGI files\n",
    "\n",
    "want to get a ranom mix of 2019 and 2020 files. We'll assume that the stations have data for those years"
   ]
  },
  {
   "cell_type": "code",
   "execution_count": 16,
   "metadata": {},
   "outputs": [],
   "source": [
    "stations_ngi = station_summary.query('ObsTypes==\\'NGI\\'').StationName"
   ]
  },
  {
   "cell_type": "code",
   "execution_count": 17,
   "metadata": {},
   "outputs": [
    {
     "data": {
      "text/plain": [
       "71     IV437\n",
       "77     JV433\n",
       "127    SJJ18\n",
       "151    WI937\n",
       "Name: StationName, dtype: object"
      ]
     },
     "execution_count": 17,
     "metadata": {},
     "output_type": "execute_result"
    }
   ],
   "source": [
    "stations_ngi"
   ]
  },
  {
   "cell_type": "code",
   "execution_count": 18,
   "metadata": {},
   "outputs": [],
   "source": [
    "def get_station_daylist(ftp, stn, years=['2019', '2020'], rootdir = '/ionosonde/data', datadir='individual'):\n",
    "    ftp.cwd(f'{rootdir}/{stn}/{datadir}')\n",
    "    flist = []\n",
    "    for yr in years:\n",
    "        #print(f'Year: {yr}')\n",
    "        dlist = [f for f in ftp.nlst(yr) if re.search('[0-9]{3}$',f)]\n",
    "        # go through each of the days to see if there are any *.NGI files in the day directory\n",
    "        for d in dlist:\n",
    "            ddir = f'{rootdir}/{stn}/{datadir}/{d}/ionogram'\n",
    "            #print(ddir)\n",
    "            #ftp.cwd(ddir)\n",
    "            cdfs = [f for f in ftp.nlst(ddir) if re.search('.*\\.NGI$',f)]\n",
    "            if len(cdfs) >0:\n",
    "                flist.append(d)\n",
    "\n",
    "\n",
    "    return flist\n"
   ]
  },
  {
   "cell_type": "code",
   "execution_count": 19,
   "metadata": {},
   "outputs": [],
   "source": [
    "with FTP(ftpsite) as ftp:\n",
    "    ftp.login()\n",
    "    flist = {}\n",
    "    for stn in stations_ngi:\n",
    "        flist[stn] = get_station_daylist(ftp, stn)"
   ]
  },
  {
   "cell_type": "code",
   "execution_count": 24,
   "metadata": {},
   "outputs": [
    {
     "name": "stdout",
     "output_type": "stream",
     "text": [
      "Station: IV437, number of days' data: 72\n",
      "Station: JV433, number of days' data: 57\n",
      "Station: SJJ18, number of days' data: 70\n",
      "Station: WI937, number of days' data: 99\n"
     ]
    }
   ],
   "source": [
    "#number of days for which each station has data\n",
    "for stn in flist:\n",
    "    print(f'Station: {stn}, number of days\\' data: {len(flist[stn])}')"
   ]
  },
  {
   "cell_type": "code",
   "execution_count": 74,
   "metadata": {},
   "outputs": [],
   "source": [
    "np.random.seed(1234)"
   ]
  },
  {
   "cell_type": "code",
   "execution_count": 75,
   "metadata": {},
   "outputs": [
    {
     "name": "stdout",
     "output_type": "stream",
     "text": [
      "Directory: /ionosonde/data/IV437/individual/2019/308/ionogram, File: IV437_2019308194615.NGI\n",
      "Directory: /ionosonde/data/IV437/individual/2019/316/ionogram, File: IV437_2019316181500.NGI\n",
      "Directory: /ionosonde/data/IV437/individual/2019/344/ionogram, File: IV437_2019344150000.NGI\n",
      "Directory: /ionosonde/data/IV437/individual/2019/336/ionogram, File: IV437_2019336100115.NGI\n",
      "Directory: /ionosonde/data/IV437/individual/2019/287/ionogram, File: IV437_2019287214500.NGI\n",
      "Directory: /ionosonde/data/IV437/individual/2020/015/ionogram, File: IV437_2020015170115.NGI\n",
      "Directory: /ionosonde/data/IV437/individual/2020/018/ionogram, File: IV437_2020018124730.NGI\n",
      "Directory: /ionosonde/data/IV437/individual/2019/352/ionogram, File: IV437_2019352114605.NGI\n",
      "Directory: /ionosonde/data/IV437/individual/2019/132/ionogram, File: IV437_2019132233000.NGI\n",
      "Directory: /ionosonde/data/IV437/individual/2019/357/ionogram, File: IV437_2019357071605.NGI\n",
      "Directory: /ionosonde/data/IV437/individual/2019/323/ionogram, File: IV437_2019323170230.NGI\n",
      "Directory: /ionosonde/data/IV437/individual/2020/007/ionogram, File: IV437_2020007081615.NGI\n",
      "Directory: /ionosonde/data/IV437/individual/2019/362/ionogram, File: IV437_2019362025835.NGI\n",
      "Directory: /ionosonde/data/IV437/individual/2019/069/ionogram, File: IV437_2019069034345.NGI\n",
      "Directory: /ionosonde/data/IV437/individual/2019/066/ionogram, File: IV437_2019066214615.NGI\n",
      "Directory: /ionosonde/data/IV437/individual/2019/363/ionogram, File: IV437_2019363051345.NGI\n",
      "Directory: /ionosonde/data/IV437/individual/2019/349/ionogram, File: IV437_2019349130000.NGI\n",
      "Directory: /ionosonde/data/IV437/individual/2019/312/ionogram, File: IV437_2019312044345.NGI\n",
      "Directory: /ionosonde/data/IV437/individual/2019/207/ionogram, File: IV437_2019207130115.NGI\n",
      "Directory: /ionosonde/data/IV437/individual/2020/003/ionogram, File: IV437_2020003194345.NGI\n",
      "Directory: /ionosonde/data/IV437/individual/2019/341/ionogram, File: IV437_2019341193230.NGI\n",
      "Directory: /ionosonde/data/IV437/individual/2019/160/ionogram, File: IV437_2019160233230.NGI\n",
      "Directory: /ionosonde/data/IV437/individual/2019/337/ionogram, File: IV437_2019337034615.NGI\n",
      "Directory: /ionosonde/data/IV437/individual/2019/354/ionogram, File: IV437_2019354220105.NGI\n",
      "Directory: /ionosonde/data/IV437/individual/2019/320/ionogram, File: IV437_2019320221345.NGI\n",
      "Directory: /ionosonde/data/IV437/individual/2019/333/ionogram, File: IV437_2019333074730.NGI\n",
      "Directory: /ionosonde/data/IV437/individual/2019/034/ionogram, File: IV437_2019034100858.NGI\n",
      "Directory: /ionosonde/data/IV437/individual/2019/168/ionogram, File: IV437_2019168163001.NGI\n",
      "Directory: /ionosonde/data/IV437/individual/2019/305/ionogram, File: IV437_2019305030115.NGI\n",
      "Directory: /ionosonde/data/IV437/individual/2019/070/ionogram, File: IV437_2019070010115.NGI\n",
      "Directory: /ionosonde/data/IV437/individual/2019/299/ionogram, File: IV437_2019299194730.NGI\n",
      "Directory: /ionosonde/data/IV437/individual/2019/321/ionogram, File: IV437_2019321131345.NGI\n",
      "Directory: /ionosonde/data/IV437/individual/2019/297/ionogram, File: IV437_2019297094345.NGI\n",
      "Directory: /ionosonde/data/IV437/individual/2019/125/ionogram, File: IV437_2019125214345.NGI\n",
      "Directory: /ionosonde/data/IV437/individual/2019/327/ionogram, File: IV437_2019327143115.NGI\n",
      "Directory: /ionosonde/data/IV437/individual/2019/322/ionogram, File: IV437_2019322101500.NGI\n",
      "Directory: /ionosonde/data/IV437/individual/2019/131/ionogram, File: IV437_2019131200230.NGI\n",
      "Directory: /ionosonde/data/IV437/individual/2019/208/ionogram, File: IV437_2019208020230.NGI\n",
      "Directory: /ionosonde/data/IV437/individual/2020/005/ionogram, File: IV437_2020005075835.NGI\n",
      "Directory: /ionosonde/data/IV437/individual/2019/345/ionogram, File: IV437_2019345133000.NGI\n",
      "Directory: /ionosonde/data/IV437/individual/2019/356/ionogram, File: IV437_2019356062835.NGI\n",
      "Directory: /ionosonde/data/IV437/individual/2019/348/ionogram, File: IV437_2019348192950.NGI\n",
      "Directory: /ionosonde/data/IV437/individual/2019/129/ionogram, File: IV437_2019129025845.NGI\n",
      "Directory: /ionosonde/data/IV437/individual/2020/012/ionogram, File: IV437_2020012173115.NGI\n",
      "Directory: /ionosonde/data/IV437/individual/2019/346/ionogram, File: IV437_2019346124450.NGI\n",
      "Directory: /ionosonde/data/IV437/individual/2020/008/ionogram, File: IV437_2020008162835.NGI\n",
      "Directory: /ionosonde/data/IV437/individual/2019/147/ionogram, File: IV437_2019147084500.NGI\n",
      "Directory: /ionosonde/data/IV437/individual/2019/296/ionogram, File: IV437_2019296174730.NGI\n",
      "Directory: /ionosonde/data/IV437/individual/2019/358/ionogram, File: IV437_2019358200500.NGI\n",
      "Directory: /ionosonde/data/IV437/individual/2019/053/ionogram, File: IV437_2019053043000.NGI\n",
      "Directory: /ionosonde/data/JV433/individual/2019/310/ionogram, File: JV433_2019310190115.NGI\n",
      "Directory: /ionosonde/data/JV433/individual/2020/013/ionogram, File: JV433_2020013203230.NGI\n",
      "Directory: /ionosonde/data/JV433/individual/2020/012/ionogram, File: JV433_2020012172001.NGI\n",
      "Directory: /ionosonde/data/JV433/individual/2019/354/ionogram, File: JV433_2019354233115.NGI\n",
      "Directory: /ionosonde/data/JV433/individual/2019/302/ionogram, File: JV433_2019302171500.NGI\n",
      "Directory: /ionosonde/data/JV433/individual/2019/303/ionogram, File: JV433_2019303233230.NGI\n",
      "Directory: /ionosonde/data/JV433/individual/2020/001/ionogram, File: JV433_2020001195001.NGI\n",
      "Directory: /ionosonde/data/JV433/individual/2019/287/ionogram, File: JV433_2019287144345.NGI\n",
      "Directory: /ionosonde/data/JV433/individual/2020/018/ionogram, File: JV433_2020018005845.NGI\n",
      "Directory: /ionosonde/data/JV433/individual/2020/011/ionogram, File: JV433_2020011155845.NGI\n",
      "Directory: /ionosonde/data/JV433/individual/2019/307/ionogram, File: JV433_2019307091615.NGI\n",
      "Directory: /ionosonde/data/JV433/individual/2019/347/ionogram, File: JV433_2019347091730.NGI\n",
      "Directory: /ionosonde/data/JV433/individual/2020/007/ionogram, File: JV433_2020007191845.NGI\n",
      "Directory: /ionosonde/data/JV433/individual/2019/351/ionogram, File: JV433_2019351191500.NGI\n",
      "Directory: /ionosonde/data/JV433/individual/2020/020/ionogram, File: JV433_2020020053000.NGI\n",
      "Directory: /ionosonde/data/JV433/individual/2019/308/ionogram, File: JV433_2019308150230.NGI\n",
      "Directory: /ionosonde/data/JV433/individual/2019/325/ionogram, File: JV433_2019325225845.NGI\n",
      "Directory: /ionosonde/data/JV433/individual/2019/358/ionogram, File: JV433_2019358161500.NGI\n",
      "Directory: /ionosonde/data/JV433/individual/2019/323/ionogram, File: JV433_2019323104500.NGI\n",
      "Directory: /ionosonde/data/JV433/individual/2019/364/ionogram, File: JV433_2019364164500.NGI\n",
      "Directory: /ionosonde/data/JV433/individual/2020/004/ionogram, File: JV433_2020004060000.NGI\n",
      "Directory: /ionosonde/data/JV433/individual/2019/341/ionogram, File: JV433_2019341030000.NGI\n",
      "Directory: /ionosonde/data/JV433/individual/2019/298/ionogram, File: JV433_2019298084345.NGI\n",
      "Directory: /ionosonde/data/JV433/individual/2019/352/ionogram, File: JV433_2019352233000.NGI\n",
      "Directory: /ionosonde/data/JV433/individual/2020/002/ionogram, File: JV433_2020002173501.NGI\n",
      "Directory: /ionosonde/data/JV433/individual/2019/345/ionogram, File: JV433_2019345100345.NGI\n",
      "Directory: /ionosonde/data/JV433/individual/2019/326/ionogram, File: JV433_2019326212845.NGI\n",
      "Directory: /ionosonde/data/JV433/individual/2019/321/ionogram, File: JV433_2019321124845.NGI\n",
      "Directory: /ionosonde/data/JV433/individual/2019/365/ionogram, File: JV433_2019365193345.NGI\n",
      "Directory: /ionosonde/data/JV433/individual/2019/320/ionogram, File: JV433_2019320224845.NGI\n",
      "Directory: /ionosonde/data/JV433/individual/2019/349/ionogram, File: JV433_2019349210345.NGI\n",
      "Directory: /ionosonde/data/JV433/individual/2019/297/ionogram, File: JV433_2019297163230.NGI\n",
      "Directory: /ionosonde/data/JV433/individual/2019/355/ionogram, File: JV433_2019355160000.NGI\n",
      "Directory: /ionosonde/data/JV433/individual/2019/340/ionogram, File: JV433_2019340230230.NGI\n",
      "Directory: /ionosonde/data/JV433/individual/2020/019/ionogram, File: JV433_2020019071845.NGI\n",
      "Directory: /ionosonde/data/JV433/individual/2019/361/ionogram, File: JV433_2019361003501.NGI\n",
      "Directory: /ionosonde/data/JV433/individual/2019/344/ionogram, File: JV433_2019344102001.NGI\n",
      "Directory: /ionosonde/data/JV433/individual/2019/338/ionogram, File: JV433_2019338190501.NGI\n",
      "Directory: /ionosonde/data/JV433/individual/2019/299/ionogram, File: JV433_2019299173115.NGI\n",
      "Directory: /ionosonde/data/JV433/individual/2019/301/ionogram, File: JV433_2019301093115.NGI\n",
      "Directory: /ionosonde/data/JV433/individual/2019/360/ionogram, File: JV433_2019360231845.NGI\n",
      "Directory: /ionosonde/data/JV433/individual/2019/357/ionogram, File: JV433_2019357215845.NGI\n",
      "Directory: /ionosonde/data/JV433/individual/2019/322/ionogram, File: JV433_2019322073345.NGI\n",
      "Directory: /ionosonde/data/JV433/individual/2019/362/ionogram, File: JV433_2019362193000.NGI\n",
      "Directory: /ionosonde/data/JV433/individual/2019/305/ionogram, File: JV433_2019305180115.NGI\n",
      "Directory: /ionosonde/data/JV433/individual/2019/324/ionogram, File: JV433_2019324202845.NGI\n",
      "Directory: /ionosonde/data/JV433/individual/2019/363/ionogram, File: JV433_2019363133115.NGI\n",
      "Directory: /ionosonde/data/JV433/individual/2019/295/ionogram, File: JV433_2019295151615.NGI\n",
      "Directory: /ionosonde/data/JV433/individual/2019/356/ionogram, File: JV433_2019356043230.NGI\n",
      "Directory: /ionosonde/data/JV433/individual/2019/346/ionogram, File: JV433_2019346015001.NGI\n",
      "Directory: /ionosonde/data/SJJ18/individual/2019/341/ionogram, File: SJJ18_2019341165602.NGI\n",
      "Directory: /ionosonde/data/SJJ18/individual/2019/338/ionogram, File: SJJ18_2019338223802.NGI\n",
      "Directory: /ionosonde/data/SJJ18/individual/2019/332/ionogram, File: SJJ18_2019332185401.NGI\n",
      "Directory: /ionosonde/data/SJJ18/individual/2019/329/ionogram, File: SJJ18_2019329120602.NGI\n",
      "Directory: /ionosonde/data/SJJ18/individual/2019/333/ionogram, File: SJJ18_2019333223202.NGI\n",
      "Directory: /ionosonde/data/SJJ18/individual/2019/066/ionogram, File: SJJ18_2019066064000.NGI\n",
      "Directory: /ionosonde/data/SJJ18/individual/2019/362/ionogram, File: SJJ18_2019362100802.NGI\n",
      "Directory: /ionosonde/data/SJJ18/individual/2019/308/ionogram, File: SJJ18_2019308160602.NGI\n",
      "Directory: /ionosonde/data/SJJ18/individual/2020/014/ionogram, File: SJJ18_2020014204802.NGI\n",
      "Directory: /ionosonde/data/SJJ18/individual/2019/070/ionogram, File: SJJ18_2019070005802.NGI\n",
      "Directory: /ionosonde/data/SJJ18/individual/2019/320/ionogram, File: SJJ18_2019320080202.NGI\n",
      "Directory: /ionosonde/data/SJJ18/individual/2019/075/ionogram, File: SJJ18_2019075074802.NGI\n",
      "Directory: /ionosonde/data/SJJ18/individual/2019/342/ionogram, File: SJJ18_2019342165002.NGI\n",
      "Directory: /ionosonde/data/SJJ18/individual/2019/207/ionogram, File: SJJ18_2019207182201.NGI\n",
      "Directory: /ionosonde/data/SJJ18/individual/2020/001/ionogram, File: SJJ18_2020001061202.NGI\n",
      "Directory: /ionosonde/data/SJJ18/individual/2019/298/ionogram, File: SJJ18_2019298124402.NGI\n",
      "Directory: /ionosonde/data/SJJ18/individual/2019/365/ionogram, File: SJJ18_2019365223001.NGI\n",
      "Directory: /ionosonde/data/SJJ18/individual/2019/335/ionogram, File: SJJ18_2019335110402.NGI\n",
      "Directory: /ionosonde/data/SJJ18/individual/2019/354/ionogram, File: SJJ18_2019354000601.NGI\n",
      "Directory: /ionosonde/data/SJJ18/individual/2019/344/ionogram, File: SJJ18_2019344053202.NGI\n",
      "Directory: /ionosonde/data/SJJ18/individual/2020/002/ionogram, File: SJJ18_2020002115002.NGI\n",
      "Directory: /ionosonde/data/SJJ18/individual/2019/337/ionogram, File: SJJ18_2019337233801.NGI\n",
      "Directory: /ionosonde/data/SJJ18/individual/2019/292/ionogram, File: SJJ18_2019292224201.NGI\n",
      "Directory: /ionosonde/data/SJJ18/individual/2019/315/ionogram, File: SJJ18_2019315011002.NGI\n",
      "Directory: /ionosonde/data/SJJ18/individual/2019/296/ionogram, File: SJJ18_2019296112201.NGI\n",
      "Directory: /ionosonde/data/SJJ18/individual/2019/346/ionogram, File: SJJ18_2019346140002.NGI\n",
      "Directory: /ionosonde/data/SJJ18/individual/2019/304/ionogram, File: SJJ18_2019304022601.NGI\n",
      "Directory: /ionosonde/data/SJJ18/individual/2019/303/ionogram, File: SJJ18_2019303150402.NGI\n",
      "Directory: /ionosonde/data/SJJ18/individual/2019/359/ionogram, File: SJJ18_2019359220402.NGI\n",
      "Directory: /ionosonde/data/SJJ18/individual/2019/211/ionogram, File: SJJ18_2019211091602.NGI\n",
      "Directory: /ionosonde/data/SJJ18/individual/2019/340/ionogram, File: SJJ18_2019340041202.NGI\n",
      "Directory: /ionosonde/data/SJJ18/individual/2019/328/ionogram, File: SJJ18_2019328004602.NGI\n",
      "Directory: /ionosonde/data/SJJ18/individual/2020/004/ionogram, File: SJJ18_2020004025202.NGI\n",
      "Directory: /ionosonde/data/SJJ18/individual/2020/005/ionogram, File: SJJ18_2020005182201.NGI\n",
      "Directory: /ionosonde/data/SJJ18/individual/2019/307/ionogram, File: SJJ18_2019307190201.NGI\n",
      "Directory: /ionosonde/data/SJJ18/individual/2020/020/ionogram, File: SJJ18_2020020021201.NGI\n",
      "Directory: /ionosonde/data/SJJ18/individual/2019/351/ionogram, File: SJJ18_2019351120202.NGI\n",
      "Directory: /ionosonde/data/SJJ18/individual/2019/347/ionogram, File: SJJ18_2019347123002.NGI\n",
      "Directory: /ionosonde/data/SJJ18/individual/2019/357/ionogram, File: SJJ18_2019357235402.NGI\n",
      "Directory: /ionosonde/data/SJJ18/individual/2020/021/ionogram, File: SJJ18_2020021002202.NGI\n",
      "Directory: /ionosonde/data/SJJ18/individual/2019/350/ionogram, File: SJJ18_2019350140401.NGI\n",
      "Directory: /ionosonde/data/SJJ18/individual/2019/348/ionogram, File: SJJ18_2019348004202.NGI\n",
      "Directory: /ionosonde/data/SJJ18/individual/2019/210/ionogram, File: SJJ18_2019210223802.NGI\n",
      "Directory: /ionosonde/data/SJJ18/individual/2020/016/ionogram, File: SJJ18_2020016135801.NGI\n",
      "Directory: /ionosonde/data/SJJ18/individual/2019/297/ionogram, File: SJJ18_2019297154602.NGI\n",
      "Directory: /ionosonde/data/SJJ18/individual/2019/316/ionogram, File: SJJ18_2019316023002.NGI\n",
      "Directory: /ionosonde/data/SJJ18/individual/2019/209/ionogram, File: SJJ18_2019209035002.NGI\n",
      "Directory: /ionosonde/data/SJJ18/individual/2019/319/ionogram, File: SJJ18_2019319151402.NGI\n",
      "Directory: /ionosonde/data/SJJ18/individual/2019/345/ionogram, File: SJJ18_2019345152402.NGI\n",
      "Directory: /ionosonde/data/SJJ18/individual/2019/301/ionogram, File: SJJ18_2019301030202.NGI\n",
      "Directory: /ionosonde/data/WI937/individual/2019/301/ionogram, File: WI937_2019301234402.NGI\n",
      "Directory: /ionosonde/data/WI937/individual/2019/320/ionogram, File: WI937_2019320085803.NGI\n",
      "Directory: /ionosonde/data/WI937/individual/2019/056/ionogram, File: WI937_2019056155803.NGI\n",
      "Directory: /ionosonde/data/WI937/individual/2019/302/ionogram, File: WI937_2019302011402.NGI\n",
      "Directory: /ionosonde/data/WI937/individual/2019/327/ionogram, File: WI937_2019327130203.NGI\n",
      "Directory: /ionosonde/data/WI937/individual/2019/336/ionogram, File: WI937_2019336130603.NGI\n",
      "Directory: /ionosonde/data/WI937/individual/2019/325/ionogram, File: WI937_2019325234603.NGI\n",
      "Directory: /ionosonde/data/WI937/individual/2020/007/ionogram, File: WI937_2020007020802.NGI\n",
      "Directory: /ionosonde/data/WI937/individual/2020/014/ionogram, File: WI937_2020014074203.NGI\n",
      "Directory: /ionosonde/data/WI937/individual/2019/004/ionogram, File: WI937_2019004221403.NGI\n",
      "Directory: /ionosonde/data/WI937/individual/2019/337/ionogram, File: WI937_2019337130403.NGI\n",
      "Directory: /ionosonde/data/WI937/individual/2019/229/ionogram, File: WI937_2019229053602.NGI\n",
      "Directory: /ionosonde/data/WI937/individual/2020/019/ionogram, File: WI937_2020019002803.NGI\n",
      "Directory: /ionosonde/data/WI937/individual/2019/317/ionogram, File: WI937_2019317155203.NGI\n",
      "Directory: /ionosonde/data/WI937/individual/2019/299/ionogram, File: WI937_2019299105003.NGI\n",
      "Directory: /ionosonde/data/WI937/individual/2020/016/ionogram, File: WI937_2020016101802.NGI\n",
      "Directory: /ionosonde/data/WI937/individual/2019/356/ionogram, File: WI937_2019356040203.NGI\n",
      "Directory: /ionosonde/data/WI937/individual/2019/196/ionogram, File: WI937_2019196030402.NGI\n",
      "Directory: /ionosonde/data/WI937/individual/2019/300/ionogram, File: WI937_2019300103603.NGI\n",
      "Directory: /ionosonde/data/WI937/individual/2020/002/ionogram, File: WI937_2020002051403.NGI\n",
      "Directory: /ionosonde/data/WI937/individual/2019/332/ionogram, File: WI937_2019332022003.NGI\n",
      "Directory: /ionosonde/data/WI937/individual/2019/248/ionogram, File: WI937_2019248120802.NGI\n",
      "Directory: /ionosonde/data/WI937/individual/2019/067/ionogram, File: WI937_2019067001002.NGI\n",
      "Directory: /ionosonde/data/WI937/individual/2019/349/ionogram, File: WI937_2019349112803.NGI\n",
      "Directory: /ionosonde/data/WI937/individual/2019/308/ionogram, File: WI937_2019308022503.NGI\n",
      "Directory: /ionosonde/data/WI937/individual/2019/033/ionogram, File: WI937_2019033220403.NGI\n",
      "Directory: /ionosonde/data/WI937/individual/2020/013/ionogram, File: WI937_2020013112402.NGI\n",
      "Directory: /ionosonde/data/WI937/individual/2019/312/ionogram, File: WI937_2019312005203.NGI\n",
      "Directory: /ionosonde/data/WI937/individual/2019/347/ionogram, File: WI937_2019347051603.NGI\n",
      "Directory: /ionosonde/data/WI937/individual/2020/004/ionogram, File: WI937_2020004132603.NGI\n",
      "Directory: /ionosonde/data/WI937/individual/2019/192/ionogram, File: WI937_2019192024902.NGI\n",
      "Directory: /ionosonde/data/WI937/individual/2019/069/ionogram, File: WI937_2019069181003.NGI\n",
      "Directory: /ionosonde/data/WI937/individual/2019/237/ionogram, File: WI937_2019237021003.NGI\n",
      "Directory: /ionosonde/data/WI937/individual/2019/353/ionogram, File: WI937_2019353082003.NGI\n",
      "Directory: /ionosonde/data/WI937/individual/2019/329/ionogram, File: WI937_2019329095603.NGI\n",
      "Directory: /ionosonde/data/WI937/individual/2019/173/ionogram, File: WI937_2019173141402.NGI\n",
      "Directory: /ionosonde/data/WI937/individual/2019/321/ionogram, File: WI937_2019321054003.NGI\n",
      "Directory: /ionosonde/data/WI937/individual/2019/231/ionogram, File: WI937_2019231103003.NGI\n",
      "Directory: /ionosonde/data/WI937/individual/2019/326/ionogram, File: WI937_2019326002403.NGI\n",
      "Directory: /ionosonde/data/WI937/individual/2020/012/ionogram, File: WI937_2020012031203.NGI\n",
      "Directory: /ionosonde/data/WI937/individual/2020/018/ionogram, File: WI937_2020018162202.NGI\n",
      "Directory: /ionosonde/data/WI937/individual/2019/104/ionogram, File: WI937_2019104201203.NGI\n",
      "Directory: /ionosonde/data/WI937/individual/2019/252/ionogram, File: WI937_2019252225302.NGI\n",
      "Directory: /ionosonde/data/WI937/individual/2019/052/ionogram, File: WI937_2019052052803.NGI\n",
      "Directory: /ionosonde/data/WI937/individual/2020/009/ionogram, File: WI937_2020009120803.NGI\n",
      "Directory: /ionosonde/data/WI937/individual/2020/021/ionogram, File: WI937_2020021005003.NGI\n",
      "Directory: /ionosonde/data/WI937/individual/2020/003/ionogram, File: WI937_2020003071203.NGI\n",
      "Directory: /ionosonde/data/WI937/individual/2020/005/ionogram, File: WI937_2020005231803.NGI\n",
      "Directory: /ionosonde/data/WI937/individual/2019/145/ionogram, File: WI937_2019145022702.NGI\n",
      "Directory: /ionosonde/data/WI937/individual/2019/165/ionogram, File: WI937_2019165223202.NGI\n"
     ]
    }
   ],
   "source": [
    "#ftp://ftp.ngdc.noaa.gov/ionosonde/data/WI937/individual/2019/356/ionogram/\n",
    "rootdir = '/ionosonde/data'\n",
    "datadir='individual'\n",
    "n_each = 50\n",
    "with FTP(ftpsite) as ftp:\n",
    "    ftp.login()\n",
    "    for stn in flist:\n",
    "        daylist = np.random.choice(flist[stn],n_each,replace=False)\n",
    "        for d in daylist:\n",
    "            ddir = f'{rootdir}/{stn}/{datadir}/{d}/ionogram'\n",
    "            ftp.cwd(ddir)\n",
    "            cdfs = [f for f in ftp.nlst() if re.search('.*\\.NGI$',f)]\n",
    "            if len(cdfs)>0:\n",
    "                cdf = np.random.choice(cdfs, 1)[0]\n",
    "            else:\n",
    "                cdf = 'No File'\n",
    "            print(f'Directory: {ddir}, File: {cdf}')\n",
    "            with open(f'netcdf/{cdf}','wb') as fout:\n",
    "                ftp.retrbinary(f'RETR {ddir}/{cdf}', fout.write)\n",
    "\n",
    "\n"
   ]
  },
  {
   "cell_type": "code",
   "execution_count": 73,
   "metadata": {},
   "outputs": [
    {
     "name": "stdout",
     "output_type": "stream",
     "text": [
      "total 131124\n",
      "-rw-rw-r-- 1 kevin_leo_mcmanus kevin_leo_mcmanus 17659636 Jan 21 00:59 IV437_2019068040840.NGI\n",
      "-rw-rw-r-- 1 kevin_leo_mcmanus kevin_leo_mcmanus 17659636 Jan 21 00:59 IV437_2019093173858.NGI\n",
      "-rw-rw-r-- 1 kevin_leo_mcmanus kevin_leo_mcmanus 17659636 Jan 21 00:59 IV437_2020017073000.NGI\n",
      "-rw-rw-r-- 1 kevin_leo_mcmanus kevin_leo_mcmanus 17659632 Jan 21 00:59 JV433_2019349051730.NGI\n",
      "-rw-rw-r-- 1 kevin_leo_mcmanus kevin_leo_mcmanus 17659632 Jan 21 00:59 JV433_2020007195845.NGI\n",
      "-rw-rw-r-- 1 kevin_leo_mcmanus kevin_leo_mcmanus 17659632 Jan 21 00:59 JV433_2020016174845.NGI\n",
      "-rw-rw-r-- 1 kevin_leo_mcmanus kevin_leo_mcmanus  4087004 Jan 21 00:59 SJJ18_2019208095801.NGI\n",
      "-rw-rw-r-- 1 kevin_leo_mcmanus kevin_leo_mcmanus  4087004 Jan 21 00:59 SJJ18_2019209193801.NGI\n",
      "-rw-rw-r-- 1 kevin_leo_mcmanus kevin_leo_mcmanus  4087004 Jan 21 00:59 SJJ18_2019315203601.NGI\n",
      "-rw-rw-r-- 1 kevin_leo_mcmanus kevin_leo_mcmanus  8036440 Jan 21 00:59 WI937_2019192024902.NGI\n",
      "-rw-rw-r-- 1 kevin_leo_mcmanus kevin_leo_mcmanus  3994644 Jan 21 00:59 WI937_2019344115003.NGI\n",
      "-rw-rw-r-- 1 kevin_leo_mcmanus kevin_leo_mcmanus  3994644 Jan 21 00:59 WI937_2020016105603.NGI\n"
     ]
    }
   ],
   "source": [
    "!ls -l netcdf\n"
   ]
  },
  {
   "cell_type": "code",
   "execution_count": null,
   "metadata": {},
   "outputs": [],
   "source": []
  }
 ],
 "metadata": {
  "kernelspec": {
   "display_name": "Python 3.7.6 64-bit ('validate': conda)",
   "language": "python",
   "name": "python37664bitvalidateconda1bd74ffd49e34299a6403b160da18410"
  },
  "language_info": {
   "codemirror_mode": {
    "name": "ipython",
    "version": 3
   },
   "file_extension": ".py",
   "mimetype": "text/x-python",
   "name": "python",
   "nbconvert_exporter": "python",
   "pygments_lexer": "ipython3",
   "version": "3.7.6"
  }
 },
 "nbformat": 4,
 "nbformat_minor": 4
}
